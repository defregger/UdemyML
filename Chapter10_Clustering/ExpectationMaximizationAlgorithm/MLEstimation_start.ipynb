{
 "cells": [
  {
   "cell_type": "markdown",
   "metadata": {},
   "source": [
    "#### Normal Distribution\n",
    "\n",
    "$f(x | \\mu, \\sigma^2) = \\frac{1}{\\sqrt{2 \\pi \\sigma^2}} \\exp{\\bigg(-\\frac{(x-\\mu)^2}{2\\sigma^2}\\bigg)}$$f(x | \\mu, \\sigma^2) = \\frac{1}{\\sqrt{2 \\pi \\sigma^2}} \\exp{\\bigg(-\\frac{(x-\\mu)^2}{2\\sigma^2}\\bigg)}$\n",
    "\n",
    "#### Maximum Lilihood Estimation\n",
    "\n",
    "$ln(\\mathcal{L}(\\mu, \\sigma^2)) = \n",
    "\\sum_{i = 1}^n ln(f(x_i \\ | \\ \\mu, \\sigma^2))$  \n",
    "\n",
    "$ = ln\\bigg(\\frac{1}{\\sqrt{2 \\pi \\sigma^2}}\\bigg) + ln\\bigg(exp\\bigg(- \\frac{1}{2\\sigma^2} \\sum_{i = 1}^n (x_i-\\mu)^2\\bigg)\\bigg)$  \n",
    "\n",
    "$= -\\frac{n}{2} ln\\big(2 \\pi\\big)  -\\frac{n}{2} ln\\big(\\sigma^2\\big) - \\frac{1}{2\\sigma^2} \\sum_{i = 1}^n (x_i - \\mu)^2$  \n",
    "\n",
    "#### MLE Computation\n",
    "\n",
    "$\\hat{\\mu} = \\frac{1}{n} \\sum_{i = 1}^n x_i$  \n",
    "  \n",
    "$\\hat{\\sigma}^2 = \\frac{1}{n} \\sum_{i = 1}^n (x_i - \\hat{\\mu})^2$"
   ]
  },
  {
   "cell_type": "code",
   "execution_count": 2,
   "metadata": {},
   "outputs": [],
   "source": [
    "import numpy as np\n",
    "np.random.seed(42)\n",
    "import matplotlib.pyplot as plt\n",
    "from scipy.stats import norm"
   ]
  },
  {
   "cell_type": "code",
   "execution_count": 3,
   "metadata": {},
   "outputs": [],
   "source": [
    "def generate_dataset():\n",
    "    var = 3\n",
    "    mean = 1.5\n",
    "    data = np.random.normal(mean, var, 10)\n",
    "    return data"
   ]
  },
  {
   "cell_type": "code",
   "execution_count": 4,
   "metadata": {},
   "outputs": [
    {
     "data": {
      "image/png": "[encoded data removed]",
      "text/plain": [
       "<Figure size 432x288 with 1 Axes>"
      ]
     },
     "metadata": {},
     "output_type": "display_data"
    }
   ],
   "source": [
    "data = generate_dataset()\n",
    "\n",
    "plt.scatter(data, [0 for i in range(len(data))])\n",
    "plt.show()"
   ]
  }
 ],
 "metadata": {
  "kernelspec": {
   "display_name": "Python 3",
   "language": "python",
   "name": "python3"
  },
  "language_info": {
   "codemirror_mode": {
    "name": "ipython",
    "version": 3
   },
   "file_extension": ".py",
   "mimetype": "text/x-python",
   "name": "python",
   "nbconvert_exporter": "python",
   "pygments_lexer": "ipython3",
   "version": "3.6.5"
  }
 },
 "nbformat": 4,
 "nbformat_minor": 2
}