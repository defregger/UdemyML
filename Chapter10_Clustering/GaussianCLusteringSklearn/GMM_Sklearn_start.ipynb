{
 "cells": [
  {
   "cell_type": "code",
   "execution_count": 1,
   "metadata": {},
   "outputs": [],
   "source": [
    "import numpy as np\n",
    "np.random.seed(42)\n",
    "import pandas as pd\n",
    "import matplotlib.pyplot as plt\n",
    "from scipy.stats import norm\n",
    "from sklearn.mixture import GaussianMixture\n",
    "from plotting import plot_results"
   ]
  },
  {
   "cell_type": "code",
   "execution_count": 2,
   "metadata": {},
   "outputs": [],
   "source": [
    "def generate_dataset():\n",
    "    num_class1 = 50\n",
    "    num_class2 = 50\n",
    "    cov1 = np.array([[1, 0], [0, 2]])\n",
    "    mean1 = np.array([0, 0])\n",
    "    cov2 = np.array([[2, 0], [0, 1]])\n",
    "    mean2 = np.array([2, 2])\n",
    "    data1 = np.random.multivariate_normal(\n",
    "        mean1, cov1, num_class1\n",
    "    )\n",
    "    data2 = np.random.multivariate_normal(\n",
    "        mean2, cov2, num_class2\n",
    "    )\n",
    "    data = np.concatenate((data1, data2), axis=0)\n",
    "    classes = np.array(\n",
    "        [0 for i in range(num_class1)] +\n",
    "        [1 for i in range(num_class2)]\n",
    "    )\n",
    "    return data, classes"
   ]
  }
 ],
 "metadata": {
  "kernelspec": {
   "display_name": "Python 3",
   "language": "python",
   "name": "python3"
  },
  "language_info": {
   "codemirror_mode": {
    "name": "ipython",
    "version": 3
   },
   "file_extension": ".py",
   "mimetype": "text/x-python",
   "name": "python",
   "nbconvert_exporter": "python",
   "pygments_lexer": "ipython3",
   "version": "3.8.3-final"
  }
 },
 "nbformat": 4,
 "nbformat_minor": 2
}