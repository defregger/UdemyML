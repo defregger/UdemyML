{
 "cells": [
  {
   "cell_type": "code",
   "execution_count": 12,
   "metadata": {},
   "outputs": [],
   "source": [
    "import numpy as np\n",
    "np.random.seed(42)\n",
    "import pandas as pd\n",
    "import matplotlib.pyplot as plt\n",
    "from sklearn.datasets import load_iris\n",
    "from sklearn.cluster import KMeans\n",
    "from plotting import *"
   ]
  },
  {
   "source": [
    "Aufgabe 1: Lade das Dataset mit allen Features rein."
   ],
   "cell_type": "markdown",
   "metadata": {}
  },
  {
   "cell_type": "code",
   "execution_count": 13,
   "metadata": {},
   "outputs": [],
   "source": [
    "dataset = load_iris()\n",
    "x = dataset.data\n",
    "y = dataset.target"
   ]
  },
  {
   "source": [
    "Aufgabe 2: Wende das k-Means mit einer beliebigen Anzahl an Cluster an."
   ],
   "cell_type": "markdown",
   "metadata": {}
  },
  {
   "cell_type": "code",
   "execution_count": 14,
   "metadata": {},
   "outputs": [],
   "source": [
    "scores = []\n",
    "\n",
    "for n_clusters in [3, 5, 7]:\n",
    "    max_iter = 1000\n",
    "    n_init = 200\n",
    "\n",
    "    kmeans = KMeans(\n",
    "        n_clusters=n_clusters,\n",
    "        max_iter=max_iter,\n",
    "        n_init=n_init,\n",
    "        n_jobs=-1\n",
    "    )\n",
    "    kmeans.fit(x)\n",
    "    scores.append(kmeans.score(x))"
   ]
  },
  {
   "source": [
    "Aufgabe 3: Berechne den Score für verschiedene Setups."
   ],
   "cell_type": "markdown",
   "metadata": {}
  },
  {
   "cell_type": "code",
   "execution_count": 15,
   "metadata": {},
   "outputs": [
    {
     "output_type": "stream",
     "name": "stdout",
     "text": [
      "Scores: [-78.85144142614602, -46.44618205128204, -34.29822966507179]\n"
     ]
    }
   ],
   "source": [
    "print(f\"Scores: {scores}\")"
   ]
  },
  {
   "source": [
    "Aufgabe 4: Wende das PCA an um den Datensatz auf 2 Dimensionen zu bringen. Wende anschließend erneut das k-Means an"
   ],
   "cell_type": "markdown",
   "metadata": {}
  },
  {
   "cell_type": "code",
   "execution_count": 16,
   "metadata": {},
   "outputs": [
    {
     "output_type": "stream",
     "name": "stdout",
     "text": [
      "Score: -137.15530112818416\n"
     ]
    }
   ],
   "source": [
    "from sklearn.decomposition import PCA\n",
    "\n",
    "pca = PCA(n_components=2)\n",
    "pca.fit(x)\n",
    "x_trans = pca.transform(x)\n",
    "\n",
    "kmeans = KMeans(\n",
    "    n_clusters=2,\n",
    "    max_iter=max_iter,\n",
    "    n_init=n_init,\n",
    "    n_jobs=-1\n",
    ")\n",
    "kmeans.fit(x_trans)\n",
    "\n",
    "print(f\"Score: {kmeans.score(x_trans)}\")"
   ]
  }
 ],
 "metadata": {
  "kernelspec": {
   "display_name": "Python 3",
   "language": "python",
   "name": "python3"
  },
  "language_info": {
   "codemirror_mode": {
    "name": "ipython",
    "version": 3
   },
   "file_extension": ".py",
   "mimetype": "text/x-python",
   "name": "python",
   "nbconvert_exporter": "python",
   "pygments_lexer": "ipython3",
   "version": "3.8.3-final"
  }
 },
 "nbformat": 4,
 "nbformat_minor": 2
}