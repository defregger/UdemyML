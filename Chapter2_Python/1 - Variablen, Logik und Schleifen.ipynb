{
 "metadata": {
  "language_info": {
   "codemirror_mode": {
    "name": "ipython",
    "version": 3
   },
   "file_extension": ".py",
   "mimetype": "text/x-python",
   "name": "python",
   "nbconvert_exporter": "python",
   "pygments_lexer": "ipython3",
   "version": "3.8.3-final"
  },
  "orig_nbformat": 2,
  "kernelspec": {
   "name": "Python 3.8.3 64-bit ('base': conda)",
   "display_name": "Python 3.8.3 64-bit ('base': conda)",
   "metadata": {
    "interpreter": {
     "hash": "00d97aa7742505a1d40e72afe88795d34a7c326375c01286fdda43484fe6d6dd"
    }
   }
  }
 },
 "nbformat": 4,
 "nbformat_minor": 2,
 "cells": [
  {
   "cell_type": "code",
   "execution_count": 12,
   "metadata": {},
   "outputs": [
    {
     "output_type": "stream",
     "name": "stdout",
     "text": [
      "Matthias Defregger\n1\n<class 'int'>\n1.0\n<class 'float'>\nMatthias\n<class 'str'>\nTrue\n<class 'bool'>\n"
     ]
    }
   ],
   "source": [
    "name = \"Matthias Defregger\"\n",
    "print(name)\n",
    "\n",
    "#Datentypen\n",
    "v1 = 1          #integer    \n",
    "v2 = 1.0        #float\n",
    "v3 = \"Matthias\" #string\n",
    "v4 = True       #bool\n",
    "\n",
    "\n",
    "#Ausgabe\n",
    "print(v1)\n",
    "print(type(v1))\n",
    "print(v2)\n",
    "print(type(v2))\n",
    "print(v3)\n",
    "print(type(v3))\n",
    "print(v4)\n",
    "print(type(v4))"
   ]
  },
  {
   "cell_type": "code",
   "execution_count": 18,
   "metadata": {},
   "outputs": [
    {
     "output_type": "stream",
     "name": "stdout",
     "text": [
      "Knapp daneben!\n"
     ]
    }
   ],
   "source": [
    "#Logik\n",
    "\n",
    "zahl_input = int(input(\"Gebe eine Zahl von 1 bis 10 ein!\"))\n",
    "\n",
    "if zahl_input == 4:\n",
    "    print(\"Du hast gewonnen!\")\n",
    "elif zahl_input == 5 or zahl_input == 3:\n",
    "    print(\"Knapp daneben!\")\n",
    "else:\n",
    "    print(\"Du hast verloren!\")"
   ]
  },
  {
   "cell_type": "code",
   "execution_count": 20,
   "metadata": {},
   "outputs": [
    {
     "output_type": "stream",
     "name": "stdout",
     "text": [
      "Spieldurchlauf 0\nKnapp daneben!\n"
     ]
    },
    {
     "output_type": "error",
     "ename": "ValueError",
     "evalue": "invalid literal for int() with base 10: ''",
     "traceback": [
      "\u001b[1;31m---------------------------------------------------------------------------\u001b[0m",
      "\u001b[1;31mValueError\u001b[0m                                Traceback (most recent call last)",
      "\u001b[1;32m<ipython-input-20-a548d9faa6f6>\u001b[0m in \u001b[0;36m<module>\u001b[1;34m\u001b[0m\n\u001b[0;32m      1\u001b[0m \u001b[1;31m#Schleifen\u001b[0m\u001b[1;33m\u001b[0m\u001b[1;33m\u001b[0m\u001b[1;33m\u001b[0m\u001b[0m\n\u001b[0;32m      2\u001b[0m \u001b[1;32mfor\u001b[0m \u001b[0mrun_index\u001b[0m \u001b[1;32min\u001b[0m \u001b[0mrange\u001b[0m\u001b[1;33m(\u001b[0m\u001b[1;36m0\u001b[0m\u001b[1;33m,\u001b[0m\u001b[1;36m3\u001b[0m\u001b[1;33m,\u001b[0m\u001b[1;36m1\u001b[0m\u001b[1;33m)\u001b[0m\u001b[1;33m:\u001b[0m \u001b[1;31m# == range(3)\u001b[0m\u001b[1;33m\u001b[0m\u001b[1;33m\u001b[0m\u001b[0m\n\u001b[1;32m----> 3\u001b[1;33m     \u001b[0mzahl_input\u001b[0m \u001b[1;33m=\u001b[0m \u001b[0mint\u001b[0m\u001b[1;33m(\u001b[0m\u001b[0minput\u001b[0m\u001b[1;33m(\u001b[0m\u001b[1;34m\"Gebe eine Zahl von 1 bis 10 ein!\"\u001b[0m\u001b[1;33m)\u001b[0m\u001b[1;33m)\u001b[0m\u001b[1;33m\u001b[0m\u001b[1;33m\u001b[0m\u001b[0m\n\u001b[0m\u001b[0;32m      4\u001b[0m \u001b[1;33m\u001b[0m\u001b[0m\n\u001b[0;32m      5\u001b[0m     \u001b[0mprint\u001b[0m\u001b[1;33m(\u001b[0m\u001b[1;34m\"Spieldurchlauf\"\u001b[0m\u001b[1;33m,\u001b[0m \u001b[0mrun_index\u001b[0m\u001b[1;33m)\u001b[0m\u001b[1;33m\u001b[0m\u001b[1;33m\u001b[0m\u001b[0m\n",
      "\u001b[1;31mValueError\u001b[0m: invalid literal for int() with base 10: ''"
     ]
    }
   ],
   "source": [
    "#Schleifen\n",
    "\n",
    "#                   (START, END-1, Schrittweite)\n",
    "for run_index in range(0,3,1): # == range(3)\n",
    "    print(\"Spieldurchlauf\", run_index)\n",
    "    \n",
    "    zahl_input = int(input(\"Gebe eine Zahl von 1 bis 10 ein!\"))   \n",
    "\n",
    "    if zahl_input == 4:\n",
    "        print(\"Du hast gewonnen!\")\n",
    "    elif zahl_input == 5 or zahl_input == 3:\n",
    "        print(\"Knapp daneben!\")\n",
    "    else:\n",
    "        print(\"Du hast verloren!\")\n",
    "\n"
   ]
  },
  {
   "cell_type": "code",
   "execution_count": 21,
   "metadata": {},
   "outputs": [
    {
     "output_type": "stream",
     "name": "stdout",
     "text": [
      "i:  0\ni:  1\ni:  2\n"
     ]
    }
   ],
   "source": [
    "for i in range(3):\n",
    "    print(\"i: \", i)"
   ]
  },
  {
   "cell_type": "code",
   "execution_count": 23,
   "metadata": {},
   "outputs": [
    {
     "output_type": "stream",
     "name": "stdout",
     "text": [
      "i:  3\ni:  5\ni:  7\ni:  9\n"
     ]
    }
   ],
   "source": [
    "for i in range(3,11,2):\n",
    "    print(\"i: \", i)"
   ]
  },
  {
   "cell_type": "code",
   "execution_count": 26,
   "metadata": {},
   "outputs": [
    {
     "output_type": "stream",
     "name": "stdout",
     "text": [
      "Du hast verloren!\n",
      "Du hast gewonnen!\n",
      "End Game\n"
     ]
    }
   ],
   "source": [
    "gewonnen = False\n",
    "\n",
    "while(gewonnen == False):\n",
    "    zahl_input = int(input(\"Gebe eine Zahl von 1 bis 10 ein!\"))   \n",
    "\n",
    "    if zahl_input == 4:\n",
    "        print(\"Du hast gewonnen!\")\n",
    "        gewonnen = True\n",
    "    elif zahl_input == 5 or zahl_input == 3:\n",
    "        print(\"Knapp daneben!\")\n",
    "    else:\n",
    "        print(\"Du hast verloren!\")\n",
    "\n",
    "print(\"End Game\")"
   ]
  }
 ]
}