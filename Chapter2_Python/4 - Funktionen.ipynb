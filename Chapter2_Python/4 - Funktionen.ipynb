{
 "metadata": {
  "language_info": {
   "codemirror_mode": {
    "name": "ipython",
    "version": 3
   },
   "file_extension": ".py",
   "mimetype": "text/x-python",
   "name": "python",
   "nbconvert_exporter": "python",
   "pygments_lexer": "ipython3",
   "version": "3.8.3-final"
  },
  "orig_nbformat": 2,
  "kernelspec": {
   "name": "Python 3.8.3 64-bit ('base': conda)",
   "display_name": "Python 3.8.3 64-bit ('base': conda)",
   "metadata": {
    "interpreter": {
     "hash": "00d97aa7742505a1d40e72afe88795d34a7c326375c01286fdda43484fe6d6dd"
    }
   }
  }
 },
 "nbformat": 4,
 "nbformat_minor": 2,
 "cells": [
  {
   "cell_type": "code",
   "execution_count": 4,
   "metadata": {},
   "outputs": [],
   "source": [
    "# Funktionen\n",
    "\n",
    "def list_max(my_list):\n",
    "    temp = 0\n",
    "    for i in range(len(my_list)):\n",
    "        if i == 0:\n",
    "            temp = my_list[i]\n",
    "        elif my_list[i] > temp:\n",
    "                temp = my_list[i] \n",
    "    return temp"
   ]
  },
  {
   "cell_type": "code",
   "execution_count": 5,
   "metadata": {},
   "outputs": [
    {
     "output_type": "stream",
     "name": "stdout",
     "text": [
      "19\n"
     ]
    }
   ],
   "source": [
    "liste_a = [1,12,-5,-23,19]\n",
    "maximum = list_max(liste_a)\n",
    "print(maximum)"
   ]
  },
  {
   "cell_type": "code",
   "execution_count": null,
   "metadata": {},
   "outputs": [],
   "source": [
    "# Klassen:   Bauplan\n",
    "# Objekt:    Eine Instanz der Klasse X   \n"
   ]
  },
  {
   "cell_type": "code",
   "execution_count": 4,
   "metadata": {},
   "outputs": [],
   "source": [
    "# Klassen\n",
    "class ListStatistics:\n",
    "    def __init__(self, data_list):\n",
    "        self.data_list = data_list\n",
    "\n",
    "    def list_max(self):\n",
    "        temp = 0\n",
    "        for i in range(len(self.data_list)):\n",
    "            if i == 0:\n",
    "                temp = self.data_list[i]\n",
    "            elif self.data_list[i] > temp:\n",
    "                    temp = self.data_list[i] \n",
    "        return temp\n",
    "\n",
    "    def list_min(self):\n",
    "        temp = 0\n",
    "        for i in range(len(self.data_list)):\n",
    "            if i == 0:\n",
    "                temp = self.data_list[i]\n",
    "            elif self.data_list[i] < temp:\n",
    "                    temp = self.data_list[i] \n",
    "        return temp "
   ]
  },
  {
   "cell_type": "code",
   "execution_count": 7,
   "metadata": {},
   "outputs": [
    {
     "output_type": "stream",
     "name": "stdout",
     "text": [
      "Max:  19\nMin:  -23\n"
     ]
    }
   ],
   "source": [
    "list_b =[1,12,-5,-23,19]\n",
    "ls = ListStatistics(list_b)\n",
    "\n",
    "print(\"Max: \", ls.list_max())\n",
    "print(\"Min: \", ls.list_min())"
   ]
  }
 ]
}