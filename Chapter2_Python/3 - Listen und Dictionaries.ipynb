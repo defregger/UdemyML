{
 "metadata": {
  "language_info": {
   "codemirror_mode": {
    "name": "ipython",
    "version": 3
   },
   "file_extension": ".py",
   "mimetype": "text/x-python",
   "name": "python",
   "nbconvert_exporter": "python",
   "pygments_lexer": "ipython3",
   "version": "3.8.3-final"
  },
  "orig_nbformat": 2,
  "kernelspec": {
   "name": "Python 3.8.3 64-bit ('base': conda)",
   "display_name": "Python 3.8.3 64-bit ('base': conda)",
   "metadata": {
    "interpreter": {
     "hash": "00d97aa7742505a1d40e72afe88795d34a7c326375c01286fdda43484fe6d6dd"
    }
   }
  }
 },
 "nbformat": 4,
 "nbformat_minor": 2,
 "cells": [
  {
   "cell_type": "code",
   "execution_count": 1,
   "metadata": {},
   "outputs": [
    {
     "output_type": "stream",
     "name": "stdout",
     "text": [
      "[1, 2, 3, 1.5, True, 'Jan']\n6\n"
     ]
    }
   ],
   "source": [
    "\n",
    "# Liste\n",
    "my_list = [1, 2, 3, 1.5, True, \"Jan\"]\n",
    "print(my_list)\n",
    "print(len(my_list))"
   ]
  },
  {
   "cell_type": "code",
   "execution_count": 2,
   "metadata": {},
   "outputs": [
    {
     "output_type": "stream",
     "name": "stdout",
     "text": [
      "[1, 2, 3, 12]\n[1, 2, 3]\n"
     ]
    }
   ],
   "source": [
    "# Listen Funktionen\n",
    "my_list = [1, 2, 3]\n",
    "\n",
    "my_list.append(12)\n",
    "\n",
    "print(my_list)\n",
    "\n",
    "my_list.pop()\n",
    "\n",
    "print(my_list)"
   ]
  },
  {
   "source": [
    "#           0   1   2           \n",
    "my_list = [12, 32, 30]\n",
    "\n",
    "print(my_list[0])\n",
    "print(my_list[1])\n",
    "print(my_list[2])\n",
    "print(my_list[-1])"
   ],
   "cell_type": "code",
   "metadata": {},
   "execution_count": 3,
   "outputs": [
    {
     "output_type": "stream",
     "name": "stdout",
     "text": [
      "12\n32\n30\n30\n"
     ]
    }
   ]
  },
  {
   "cell_type": "code",
   "execution_count": 4,
   "metadata": {},
   "outputs": [
    {
     "output_type": "stream",
     "name": "stdout",
     "text": [
      "12\n32\n30\n"
     ]
    }
   ],
   "source": [
    "\n",
    "for val in my_list:\n",
    "    print(val)"
   ]
  },
  {
   "cell_type": "code",
   "execution_count": 5,
   "metadata": {},
   "outputs": [
    {
     "output_type": "stream",
     "name": "stdout",
     "text": [
      "12\n32\n30\n"
     ]
    }
   ],
   "source": [
    "for i in range(len(my_list)):\n",
    "    print(my_list[i])"
   ]
  },
  {
   "cell_type": "code",
   "execution_count": 6,
   "metadata": {},
   "outputs": [],
   "source": [
    "my_list1 = [11,24,-43]\n",
    "my_list2 = [\"a\",\"b\"]"
   ]
  },
  {
   "cell_type": "code",
   "execution_count": 7,
   "metadata": {},
   "outputs": [
    {
     "output_type": "stream",
     "name": "stdout",
     "text": [
      "11\n24\n-43\na\nb\n"
     ]
    }
   ],
   "source": [
    "for value in my_list1:\n",
    "    print(value)\n",
    "\n",
    "for value in my_list2:\n",
    "    print(value)"
   ]
  },
  {
   "cell_type": "code",
   "execution_count": 8,
   "metadata": {},
   "outputs": [
    {
     "output_type": "stream",
     "name": "stdout",
     "text": [
      "at idx: 0 is the value:  11\nat idx: 1 is the value:  24\nat idx: 2 is the value:  -43\n"
     ]
    }
   ],
   "source": [
    "for idx in range(len(my_list1)):\n",
    "    print(\"at idx:\", idx, \"is the value: \", my_list1[idx])"
   ]
  },
  {
   "cell_type": "code",
   "execution_count": 9,
   "metadata": {},
   "outputs": [
    {
     "output_type": "stream",
     "name": "stdout",
     "text": [
      "At idx:  0 is the value:  11\nAt idx:  1 is the value:  24\nAt idx:  2 is the value:  -43\n"
     ]
    }
   ],
   "source": [
    "# enumerate (ITERABLE)\n",
    "# \n",
    "for idx, value in enumerate(my_list1):\n",
    "    print(\"At idx: \", idx, \"is the value: \", value)"
   ]
  },
  {
   "cell_type": "code",
   "execution_count": 10,
   "metadata": {},
   "outputs": [
    {
     "output_type": "stream",
     "name": "stdout",
     "text": [
      "11 a\n24 b\n"
     ]
    }
   ],
   "source": [
    "# zip(ITERABLE, ITERABLE)\n",
    " \n",
    "# for idx in range(len(my_list1)):\n",
    "#     print(my_list1[idx], my_list2[idx])\n",
    "\n",
    "# Besser\n",
    "for value1, value2 in zip(my_list1, my_list2): # iteriert solange bis das Ende einer der Listen erreicht ist\n",
    "    print(value1, value2)"
   ]
  },
  {
   "cell_type": "code",
   "execution_count": 11,
   "metadata": {},
   "outputs": [
    {
     "output_type": "stream",
     "name": "stdout",
     "text": [
      "{'Peter': [34, 'Fußball', 'Berlin'], 'Dennis': [31, 'Handball', 'Berlin'], 1: 12}\n3\n"
     ]
    }
   ],
   "source": [
    "# Dicationaries\n",
    "\n",
    "# key: value\n",
    "\n",
    "my_dict = {\"Peter\": [34, \"Fußball\", \"Berlin\"],\n",
    "           \"Dennis\": [31, \"Handball\", \"Berlin\"],\n",
    "           1:12}\n",
    "print(my_dict)\n",
    "print(len(my_dict))"
   ]
  },
  {
   "cell_type": "code",
   "execution_count": 12,
   "metadata": {},
   "outputs": [
    {
     "output_type": "stream",
     "name": "stdout",
     "text": [
      "{'Peter': [34, 'Fußball', 'Berlin'], 'Dennis': [31, 'Handball', 'Berlin']}\n{'Peter': [34, 'Fußball', 'Berlin']}\n{'Peter': [34, 'Fußball', 'Berlin'], 'Dennis': [31, 'Handball', 'Berlin']}\n"
     ]
    }
   ],
   "source": [
    "my_dict = {\"Peter\": [34, \"Fußball\", \"Berlin\"],\n",
    "          \"Dennis\": [31, \"Handball\", \"Berlin\"],\n",
    "           1:12}\n",
    "\n",
    "my_dict.pop(1)\n",
    "print(my_dict)\n",
    "\n",
    "my_dict.pop(\"Dennis\")\n",
    "print(my_dict)\n",
    "\n",
    "my_dict[\"Dennis\"] = [31, \"Handball\", \"Berlin\"]\n",
    "print(my_dict)"
   ]
  },
  {
   "cell_type": "code",
   "execution_count": 13,
   "metadata": {},
   "outputs": [
    {
     "output_type": "stream",
     "name": "stdout",
     "text": [
      "Peter\nDennis\n"
     ]
    }
   ],
   "source": [
    "for key in my_dict:\n",
    "    print(key)"
   ]
  },
  {
   "cell_type": "code",
   "execution_count": 14,
   "metadata": {},
   "outputs": [
    {
     "output_type": "stream",
     "name": "stdout",
     "text": [
      "Peter [34, 'Fußball', 'Berlin']\nDennis [31, 'Handball', 'Berlin']\n"
     ]
    }
   ],
   "source": [
    "for key, val in my_dict.items():\n",
    "    print(key, val)"
   ]
  },
  {
   "cell_type": "code",
   "execution_count": 15,
   "metadata": {},
   "outputs": [
    {
     "output_type": "stream",
     "name": "stdout",
     "text": [
      "Peter\nDennis\n"
     ]
    }
   ],
   "source": [
    "for key in my_dict.keys():\n",
    "    print(key)"
   ]
  },
  {
   "cell_type": "code",
   "execution_count": 16,
   "metadata": {},
   "outputs": [
    {
     "output_type": "stream",
     "name": "stdout",
     "text": [
      "[34, 'Fußball', 'Berlin']\n[31, 'Handball', 'Berlin']\n"
     ]
    }
   ],
   "source": [
    "for val in my_dict.values():\n",
    "    print(val)"
   ]
  }
 ]
}