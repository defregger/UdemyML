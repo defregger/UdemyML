{
 "cells": [
  {
   "cell_type": "markdown",
   "metadata": {},
   "source": [
    "### f-Strings"
   ]
  },
  {
   "cell_type": "code",
   "execution_count": 4,
   "metadata": {},
   "outputs": [
    {
     "name": "stdout",
     "output_type": "stream",
     "text": [
      "My name is: Jan and i am 26 years old\n",
      "My name is: Jan and i am 26 years old\n",
      "My name is: Jan and i am 26 years old\n"
     ]
    }
   ],
   "source": [
    "my_age = 26\n",
    "my_name = \"Jan\"\n",
    "\n",
    "message = \"My name is: %s and i am %i years old\" % (my_name, my_age)\n",
    "print(message)\n",
    "message = \"My name is: {} and i am {} years old\".format(my_name, my_age)\n",
    "print(message)\n",
    "message = f\"My name is: {my_name} and i am {my_age} years old\"\n",
    "print(message)"
   ]
  },
  {
   "cell_type": "markdown",
   "metadata": {},
   "source": [
    "### Type Annotations"
   ]
  },
  {
   "cell_type": "code",
   "execution_count": 7,
   "metadata": {},
   "outputs": [],
   "source": [
    "def print_message(message: str):\n",
    "    print(message)"
   ]
  },
  {
   "cell_type": "code",
   "execution_count": 8,
   "metadata": {},
   "outputs": [
    {
     "name": "stdout",
     "output_type": "stream",
     "text": [
      "2\n",
      "True\n",
      "2.0\n"
     ]
    }
   ],
   "source": [
    "print_message(2)\n",
    "print_message(True)\n",
    "print_message(2.0)"
   ]
  }
 ],
 "metadata": {
  "kernelspec": {
   "display_name": "Python 3",
   "language": "python",
   "name": "python3"
  },
  "language_info": {
   "codemirror_mode": {
    "name": "ipython",
    "version": 3
   },
   "file_extension": ".py",
   "mimetype": "text/x-python",
   "name": "python",
   "nbconvert_exporter": "python",
   "pygments_lexer": "ipython3",
   "version": "3.8.3"
  }
 },
 "nbformat": 4,
 "nbformat_minor": 4
}
