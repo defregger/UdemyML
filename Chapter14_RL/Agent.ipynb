{
 "cells": [
  {
   "cell_type": "code",
   "execution_count": 1,
   "metadata": {
    "scrolled": true
   },
   "outputs": [
    {
     "name": "stderr",
     "output_type": "stream",
     "text": [
      "C:\\ProgramData\\Anaconda3\\lib\\site-packages\\h5py\\__init__.py:36: FutureWarning: Conversion of the second argument of issubdtype from `float` to `np.floating` is deprecated. In future, it will be treated as `np.float64 == np.dtype(float).type`.\n",
      "  from ._conv import register_converters as _register_converters\n",
      "Using TensorFlow backend.\n"
     ]
    }
   ],
   "source": [
    "%matplotlib inline\n",
    "import matplotlib.pyplot as plt\n",
    "\n",
    "from tensorflow.keras.layers import Activation\n",
    "from tensorflow.keras.layers import Dense\n",
    "from tensorflow.keras.models import Sequential\n",
    "from tensorflow.keras.optimizers import Adam\n",
    "\n",
    "import gym\n",
    "import random\n",
    "import numpy as np"
   ]
  },
  {
   "cell_type": "code",
   "execution_count": 2,
   "metadata": {},
   "outputs": [],
   "source": [
    "class Agent:\n",
    "    def __init__(self, state_size, action_size):\n",
    "        self.state_size = state_size # 4\n",
    "        self.action_size = action_size # 2\n",
    "        self.memory = [] # to save our prev. actions\n",
    "        self.gamma = 0.95 # discount rate\n",
    "        self.epsilon = 1.0 # exploration rate\n",
    "        self.epsilon_lb = 0.05 # lower bound\n",
    "        self.epsilon_dc = 0.99 # decay\n",
    "        self.lr = 0.001 # lr for the dnn\n",
    "        self.model = self.build_model()\n",
    "       \n",
    "    # DNN for our Q-Learning Model\n",
    "    def build_model(self):\n",
    "        model = Sequential()\n",
    "        model.add(Dense(24, input_dim=self.state_size))\n",
    "        model.add(Activation(\"relu\"))\n",
    "        model.add(Dense(12))\n",
    "        model.add(Activation(\"relu\"))\n",
    "        model.add(Dense(self.action_size))\n",
    "        model.compile(loss=\"mse\", optimizer=Adam(lr=self.lr))\n",
    "        return model\n",
    "    \n",
    "    # We save the prev experiences for later re-train\n",
    "    def remember(self, state, action, reward, next_state, finished):\n",
    "        self.memory.append([state, action, reward, next_state, finished])\n",
    "       \n",
    "    # Get action by DNN or by Random sampling\n",
    "    def get_action(self, state):\n",
    "        # Select random action\n",
    "        if np.random.rand() <= self.epsilon:\n",
    "            return np.random.randint(self.action_size)\n",
    "        # Compute action based on our DNN\n",
    "        action = self.model.predict(state)\n",
    "        return np.argmax(action[0])\n",
    "    \n",
    "    def replay(self, batch_size):\n",
    "        minibatch = random.sample(self.memory, batch_size) \n",
    "        for state, action, reward, next_state, finished in minibatch:\n",
    "            target = reward\n",
    "            # Predict the future discounted reward\n",
    "            if not finished:\n",
    "                # Q-Learning, pointwise loss function\n",
    "                target = (reward + self.gamma * np.max(self.model.predict(next_state)[0]))\n",
    "            # Train the agent to approx the current state to futute rewards\n",
    "            target_future = self.model.predict(state)\n",
    "            target_future[0][action] = target\n",
    "            self.model.fit(state, target_future, epochs=1, verbose=0)\n",
    "        if self.epsilon > self.epsilon_lb:\n",
    "            self.epsilon = self.epsilon * self.epsilon_dc"
   ]
  },
  {
   "cell_type": "code",
   "execution_count": 3,
   "metadata": {
    "scrolled": true
   },
   "outputs": [
    {
     "name": "stdout",
     "output_type": "stream",
     "text": [
      "\u001b[33mWARN: gym.spaces.Box autodetected dtype as <class 'numpy.float32'>. Please provide explicit dtype.\u001b[0m\n"
     ]
    },
    {
     "data": {
      "image/png": "[encoded data removed]",
      "text/plain": [
       "<Figure size 432x288 with 1 Axes>"
      ]
     },
     "metadata": {},
     "output_type": "display_data"
    }
   ],
   "source": [
    "episodes = 1000\n",
    "env = gym.make(\"CartPole-v1\")\n",
    "env.reset()\n",
    "plt.imshow(env.render(mode=\"rgb_array\"))\n",
    "plt.show()"
   ]
  }
 ],
 "metadata": {
  "kernelspec": {
   "display_name": "Python 3",
   "language": "python",
   "name": "python3"
  },
  "language_info": {
   "codemirror_mode": {
    "name": "ipython",
    "version": 3
   },
   "file_extension": ".py",
   "mimetype": "text/x-python",
   "name": "python",
   "nbconvert_exporter": "python",
   "pygments_lexer": "ipython3",
   "version": "3.6.5"
  }
 },
 "nbformat": 4,
 "nbformat_minor": 2
}