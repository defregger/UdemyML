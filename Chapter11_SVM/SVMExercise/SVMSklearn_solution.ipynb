{
 "cells": [
  {
   "cell_type": "code",
   "execution_count": 1,
   "metadata": {},
   "outputs": [],
   "source": [
    "# Imports\n",
    "import time\n",
    "import numpy as np\n",
    "import pandas as pd\n",
    "import matplotlib.pyplot as plt\n",
    "\n",
    "# Sklearn Methoden\n",
    "from sklearn.svm import SVC\n",
    "from sklearn.metrics import confusion_matrix\n",
    "from sklearn.datasets import load_digits\n",
    "from sklearn.model_selection import GridSearchCV\n",
    "from sklearn.model_selection import train_test_split\n",
    "from sklearn.model_selection import cross_val_score\n",
    "from sklearn.model_selection import cross_val_predict\n",
    "from sklearn.model_selection import KFold\n",
    "from sklearn.decomposition import PCA\n",
    "from sklearn.preprocessing import StandardScaler"
   ]
  },
  {
   "cell_type": "code",
   "execution_count": 2,
   "metadata": {
    "scrolled": true
   },
   "outputs": [
    {
     "output_type": "stream",
     "name": "stdout",
     "text": "Bilder:  1797\nPixel:  64\n"
    }
   ],
   "source": [
    "# Load Dataset\n",
    "mnist = load_digits()\n",
    "\n",
    "x = mnist.data.astype(np.float32)\n",
    "y = mnist.target.astype(np.float32)\n",
    "x_train, x_test, y_train, y_test = train_test_split(x, y, random_state=42, test_size=0.33)\n",
    "\n",
    "n_samples, n_features = x.shape\n",
    "print(\"Bilder: \", n_samples)\n",
    "print(\"Pixel: \", n_features)"
   ]
  },
  {
   "cell_type": "code",
   "execution_count": 3,
   "metadata": {
    "scrolled": false
   },
   "outputs": [
    {
     "output_type": "display_data",
     "data": {
      "text/plain": "<Figure size 432x288 with 10 Axes>",
      "image/svg+xml": "<?xml version=\"1.0\" encoding=\"utf-8\" standalone=\"no\"?>\r\n<!DOCTYPE svg PUBLIC \"-//W3C//DTD SVG 1.1//EN\"\r\n  \"http://www.w3.org/Graphics/SVG/1.1/DTD/svg11.dtd\">\r\n<!-- Created with matplotlib (https://matplotlib.org/) -->\r\n<svg height=\"205.845899pt\" version=\"1.1\" viewBox=\"0 0 349.2 205.845899\" width=\"349.2pt\" xmlns=\"http://www.w3.org/2000/svg\" xmlns:xlink=\"http://www.w3.org/1999/xlink\">\r\n <defs>\r\n  <style type=\"text/css\">\r\n*{stroke-linecap:butt;stroke-linejoin:round;}\r\n  </style>\r\n </defs>\r\n <g id=\"figure_1\">\r\n  <g id=\"patch_1\">\r\n   <path d=\"M 0 205.845899 \r\nL 349.2 205.845899 \r\nL 349.2 0 \r\nL 0 0 \r\nz\r\n\" style=\"fill:none;\"/>\r\n  </g>\r\n  <g id=\"axes_1\">\r\n   <g clip-path=\"url(#p61cc9c9ed9)\">\r\n    <image height=\"58\" id=\"image588d010468\" transform=\"scale(1 -1)translate(0 -58)\" width=\"58\" x=\"7.2\" xlink:href=\"data:image/png;base64,\r\niVBORw0KGgoAAAANSUhEUgAAADoAAAA6CAYAAADhu0ooAAAABHNCSVQICAgIfAhkiAAAAQlJREFUaIHtmlENhDAQRI/LCcABSKgEcIAUJGABB0hBAjjAAaCgp2CnSY9+3Oy83wlLX/Zjs2mrGGN8FWDbNjPrus7M2rbNqpninf3lnyFRNiTKhhvRT6nCaBTc921m+76XOI6fjkqUDYmyIVE2is1RtIrlklrTQghm5qajEmVDomy4ES02Xq7rerwmGh8p3HRUomxIlA03onC8rOtqZn3fP32WorjpqETZkCgbbkQr9IYBbSDLssDC0zSZGbpkaprGzI7jgP9EuOmoRNmQKBsSZQPO0V8Yx9HM5nnOqnmeJ8zrujYzNx2VKBsSZcONaLFLJrSmobcIwzCYGRofKdx0VKJsSJQNN6Jf3PY7WQaPe0sAAAAASUVORK5CYII=\" y=\"-22.042263\"/>\r\n   </g>\r\n   <g id=\"text_1\">\r\n    <!-- Train: 2 -->\r\n    <defs>\r\n     <path d=\"M -0.296875 72.90625 \r\nL 61.375 72.90625 \r\nL 61.375 64.59375 \r\nL 35.5 64.59375 \r\nL 35.5 0 \r\nL 25.59375 0 \r\nL 25.59375 64.59375 \r\nL -0.296875 64.59375 \r\nz\r\n\" id=\"DejaVuSans-84\"/>\r\n     <path d=\"M 41.109375 46.296875 \r\nQ 39.59375 47.171875 37.8125 47.578125 \r\nQ 36.03125 48 33.890625 48 \r\nQ 26.265625 48 22.1875 43.046875 \r\nQ 18.109375 38.09375 18.109375 28.8125 \r\nL 18.109375 0 \r\nL 9.078125 0 \r\nL 9.078125 54.6875 \r\nL 18.109375 54.6875 \r\nL 18.109375 46.1875 \r\nQ 20.953125 51.171875 25.484375 53.578125 \r\nQ 30.03125 56 36.53125 56 \r\nQ 37.453125 56 38.578125 55.875 \r\nQ 39.703125 55.765625 41.0625 55.515625 \r\nz\r\n\" id=\"DejaVuSans-114\"/>\r\n     <path d=\"M 34.28125 27.484375 \r\nQ 23.390625 27.484375 19.1875 25 \r\nQ 14.984375 22.515625 14.984375 16.5 \r\nQ 14.984375 11.71875 18.140625 8.90625 \r\nQ 21.296875 6.109375 26.703125 6.109375 \r\nQ 34.1875 6.109375 38.703125 11.40625 \r\nQ 43.21875 16.703125 43.21875 25.484375 \r\nL 43.21875 27.484375 \r\nz\r\nM 52.203125 31.203125 \r\nL 52.203125 0 \r\nL 43.21875 0 \r\nL 43.21875 8.296875 \r\nQ 40.140625 3.328125 35.546875 0.953125 \r\nQ 30.953125 -1.421875 24.3125 -1.421875 \r\nQ 15.921875 -1.421875 10.953125 3.296875 \r\nQ 6 8.015625 6 15.921875 \r\nQ 6 25.140625 12.171875 29.828125 \r\nQ 18.359375 34.515625 30.609375 34.515625 \r\nL 43.21875 34.515625 \r\nL 43.21875 35.40625 \r\nQ 43.21875 41.609375 39.140625 45 \r\nQ 35.0625 48.390625 27.6875 48.390625 \r\nQ 23 48.390625 18.546875 47.265625 \r\nQ 14.109375 46.140625 10.015625 43.890625 \r\nL 10.015625 52.203125 \r\nQ 14.9375 54.109375 19.578125 55.046875 \r\nQ 24.21875 56 28.609375 56 \r\nQ 40.484375 56 46.34375 49.84375 \r\nQ 52.203125 43.703125 52.203125 31.203125 \r\nz\r\n\" id=\"DejaVuSans-97\"/>\r\n     <path d=\"M 9.421875 54.6875 \r\nL 18.40625 54.6875 \r\nL 18.40625 0 \r\nL 9.421875 0 \r\nz\r\nM 9.421875 75.984375 \r\nL 18.40625 75.984375 \r\nL 18.40625 64.59375 \r\nL 9.421875 64.59375 \r\nz\r\n\" id=\"DejaVuSans-105\"/>\r\n     <path d=\"M 54.890625 33.015625 \r\nL 54.890625 0 \r\nL 45.90625 0 \r\nL 45.90625 32.71875 \r\nQ 45.90625 40.484375 42.875 44.328125 \r\nQ 39.84375 48.1875 33.796875 48.1875 \r\nQ 26.515625 48.1875 22.3125 43.546875 \r\nQ 18.109375 38.921875 18.109375 30.90625 \r\nL 18.109375 0 \r\nL 9.078125 0 \r\nL 9.078125 54.6875 \r\nL 18.109375 54.6875 \r\nL 18.109375 46.1875 \r\nQ 21.34375 51.125 25.703125 53.5625 \r\nQ 30.078125 56 35.796875 56 \r\nQ 45.21875 56 50.046875 50.171875 \r\nQ 54.890625 44.34375 54.890625 33.015625 \r\nz\r\n\" id=\"DejaVuSans-110\"/>\r\n     <path d=\"M 11.71875 12.40625 \r\nL 22.015625 12.40625 \r\nL 22.015625 0 \r\nL 11.71875 0 \r\nz\r\nM 11.71875 51.703125 \r\nL 22.015625 51.703125 \r\nL 22.015625 39.3125 \r\nL 11.71875 39.3125 \r\nz\r\n\" id=\"DejaVuSans-58\"/>\r\n     <path id=\"DejaVuSans-32\"/>\r\n     <path d=\"M 19.1875 8.296875 \r\nL 53.609375 8.296875 \r\nL 53.609375 0 \r\nL 7.328125 0 \r\nL 7.328125 8.296875 \r\nQ 12.9375 14.109375 22.625 23.890625 \r\nQ 32.328125 33.6875 34.8125 36.53125 \r\nQ 39.546875 41.84375 41.421875 45.53125 \r\nQ 43.3125 49.21875 43.3125 52.78125 \r\nQ 43.3125 58.59375 39.234375 62.25 \r\nQ 35.15625 65.921875 28.609375 65.921875 \r\nQ 23.96875 65.921875 18.8125 64.3125 \r\nQ 13.671875 62.703125 7.8125 59.421875 \r\nL 7.8125 69.390625 \r\nQ 13.765625 71.78125 18.9375 73 \r\nQ 24.125 74.21875 28.421875 74.21875 \r\nQ 39.75 74.21875 46.484375 68.546875 \r\nQ 53.21875 62.890625 53.21875 53.421875 \r\nQ 53.21875 48.921875 51.53125 44.890625 \r\nQ 49.859375 40.875 45.40625 35.40625 \r\nQ 44.1875 33.984375 37.640625 27.21875 \r\nQ 31.109375 20.453125 19.1875 8.296875 \r\nz\r\n\" id=\"DejaVuSans-50\"/>\r\n    </defs>\r\n    <g transform=\"translate(13.052069 16.318125)scale(0.12 -0.12)\">\r\n     <use xlink:href=\"#DejaVuSans-84\"/>\r\n     <use x=\"60.865234\" xlink:href=\"#DejaVuSans-114\"/>\r\n     <use x=\"101.978516\" xlink:href=\"#DejaVuSans-97\"/>\r\n     <use x=\"163.257812\" xlink:href=\"#DejaVuSans-105\"/>\r\n     <use x=\"191.041016\" xlink:href=\"#DejaVuSans-110\"/>\r\n     <use x=\"254.419922\" xlink:href=\"#DejaVuSans-58\"/>\r\n     <use x=\"288.111328\" xlink:href=\"#DejaVuSans-32\"/>\r\n     <use x=\"319.898438\" xlink:href=\"#DejaVuSans-50\"/>\r\n    </g>\r\n   </g>\r\n  </g>\r\n  <g id=\"axes_2\">\r\n   <g clip-path=\"url(#p70711fad14)\">\r\n    <image height=\"58\" id=\"image1dbe70cebf\" transform=\"scale(1 -1)translate(0 -58)\" width=\"58\" x=\"76.468966\" xlink:href=\"data:image/png;base64,\r\niVBORw0KGgoAAAANSUhEUgAAADoAAAA6CAYAAADhu0ooAAAABHNCSVQICAgIfAhkiAAAAPJJREFUaIHtmksNwzAQRJuqQAwhEMLAVMIkVAwlQRCbgRm4CHZdretKnZ13HUXx0x5G/iyttfYwUGtV83VdxayUImbHcYjZvu/9hQk8zV/+GRRFg6JouBF9WT9MKam5ViExRjEbqRANNxOlKBoURYOiaJh7dISc88//6WaiFEWDomi4ETXXy7ZtX1zGfNxMlKJoUBQNN6KL9ZKph3bJdF2XmN33LWYhBPN63EyUomhQFA03otMOx3pvHCTO8xQz1ssHUBQNiqJBUTSm9ajWedpDjlkXUG4mSlE0KIqGG1HzKWBvG2bdUnGbNghF0aAoGm5E3wgnNwPIcnH4AAAAAElFTkSuQmCC\" y=\"-22.042263\"/>\r\n   </g>\r\n   <g id=\"text_2\">\r\n    <!-- Train: 2 -->\r\n    <g transform=\"translate(82.321034 16.318125)scale(0.12 -0.12)\">\r\n     <use xlink:href=\"#DejaVuSans-84\"/>\r\n     <use x=\"60.865234\" xlink:href=\"#DejaVuSans-114\"/>\r\n     <use x=\"101.978516\" xlink:href=\"#DejaVuSans-97\"/>\r\n     <use x=\"163.257812\" xlink:href=\"#DejaVuSans-105\"/>\r\n     <use x=\"191.041016\" xlink:href=\"#DejaVuSans-110\"/>\r\n     <use x=\"254.419922\" xlink:href=\"#DejaVuSans-58\"/>\r\n     <use x=\"288.111328\" xlink:href=\"#DejaVuSans-32\"/>\r\n     <use x=\"319.898438\" xlink:href=\"#DejaVuSans-50\"/>\r\n    </g>\r\n   </g>\r\n  </g>\r\n  <g id=\"axes_3\">\r\n   <g clip-path=\"url(#p8bf831cf08)\">\r\n    <image height=\"58\" id=\"image57073190fe\" transform=\"scale(1 -1)translate(0 -58)\" width=\"58\" x=\"145.737931\" xlink:href=\"data:image/png;base64,\r\niVBORw0KGgoAAAANSUhEUgAAADoAAAA6CAYAAADhu0ooAAAABHNCSVQICAgIfAhkiAAAASZJREFUaIHtmlENhEAMRLuXE4AEHIAEJOAAC0gABzgACUhAAjhAAijgFHQ2aUJyaef9Tnabl3403Wx6nucRhfM8tUjatlUzEZHjONSs6zo1W5YF3mvl88qtfwhFvUFRb4QR/VoPovEhgkcIGltvEaajFPUGRb1BUW8ktKYhiqIwF22aRs3WdTXfiwjTUYp6g6LeCCNqXtP6vof5OI5qVte1tayZMB2lqDco6o0woubxcl2Xueg0TWqGNhuU5QjTUYp6g6LeCCNqfhxLKcF8nmc1Qw9g27ap2b7vsGZZlmoWpqMU9QZFvUFRb8A1Dc20HOiVcBgGU83cJw/OUaGoPyjqjTCicE1DL325r+ZopbrvW82qqlKz3LhD/yrCdJSi3qCoN8KI/gA9I0tMkaxApQAAAABJRU5ErkJggg==\" y=\"-22.042263\"/>\r\n   </g>\r\n   <g id=\"text_3\">\r\n    <!-- Train: 9 -->\r\n    <defs>\r\n     <path d=\"M 10.984375 1.515625 \r\nL 10.984375 10.5 \r\nQ 14.703125 8.734375 18.5 7.8125 \r\nQ 22.3125 6.890625 25.984375 6.890625 \r\nQ 35.75 6.890625 40.890625 13.453125 \r\nQ 46.046875 20.015625 46.78125 33.40625 \r\nQ 43.953125 29.203125 39.59375 26.953125 \r\nQ 35.25 24.703125 29.984375 24.703125 \r\nQ 19.046875 24.703125 12.671875 31.3125 \r\nQ 6.296875 37.9375 6.296875 49.421875 \r\nQ 6.296875 60.640625 12.9375 67.421875 \r\nQ 19.578125 74.21875 30.609375 74.21875 \r\nQ 43.265625 74.21875 49.921875 64.515625 \r\nQ 56.59375 54.828125 56.59375 36.375 \r\nQ 56.59375 19.140625 48.40625 8.859375 \r\nQ 40.234375 -1.421875 26.421875 -1.421875 \r\nQ 22.703125 -1.421875 18.890625 -0.6875 \r\nQ 15.09375 0.046875 10.984375 1.515625 \r\nz\r\nM 30.609375 32.421875 \r\nQ 37.25 32.421875 41.125 36.953125 \r\nQ 45.015625 41.5 45.015625 49.421875 \r\nQ 45.015625 57.28125 41.125 61.84375 \r\nQ 37.25 66.40625 30.609375 66.40625 \r\nQ 23.96875 66.40625 20.09375 61.84375 \r\nQ 16.21875 57.28125 16.21875 49.421875 \r\nQ 16.21875 41.5 20.09375 36.953125 \r\nQ 23.96875 32.421875 30.609375 32.421875 \r\nz\r\n\" id=\"DejaVuSans-57\"/>\r\n    </defs>\r\n    <g transform=\"translate(151.59 16.318125)scale(0.12 -0.12)\">\r\n     <use xlink:href=\"#DejaVuSans-84\"/>\r\n     <use x=\"60.865234\" xlink:href=\"#DejaVuSans-114\"/>\r\n     <use x=\"101.978516\" xlink:href=\"#DejaVuSans-97\"/>\r\n     <use x=\"163.257812\" xlink:href=\"#DejaVuSans-105\"/>\r\n     <use x=\"191.041016\" xlink:href=\"#DejaVuSans-110\"/>\r\n     <use x=\"254.419922\" xlink:href=\"#DejaVuSans-58\"/>\r\n     <use x=\"288.111328\" xlink:href=\"#DejaVuSans-32\"/>\r\n     <use x=\"319.898438\" xlink:href=\"#DejaVuSans-57\"/>\r\n    </g>\r\n   </g>\r\n  </g>\r\n  <g id=\"axes_4\">\r\n   <g clip-path=\"url(#p73a7854880)\">\r\n    <image height=\"58\" id=\"image37149e5918\" transform=\"scale(1 -1)translate(0 -58)\" width=\"58\" x=\"215.006897\" xlink:href=\"data:image/png;base64,\r\niVBORw0KGgoAAAANSUhEUgAAADoAAAA6CAYAAADhu0ooAAAABHNCSVQICAgIfAhkiAAAARdJREFUaIHtmEGthEAQRGc3/w4ScAASwAESkAAOkIAUJCABFIAEUMAq6CLpzSY/1fWulcnMSx8qPa/7vu/k4DgOmFdVZWZFUZjZeZ5mluc5vHOeZzN7w5NESJQNibIRRvTlrZcn1nU1M1QhiKZpYL7vu5mFmahE2ZAoGxJl42c96mWaJjNblgWe1ZqWJMqHRNkII/rv6gX9EKL6SAn/PIaZqETZkCgbYUR/Vi9oCxmGwcyyLDMz7+9hSoEmKlE2JMpGGNE/78GnTWIcRzMry9LM0PbyDWEmKlE2JMqGRNlw9+jTynRdl5lt22Zmfd97nwQJM1GJsiFRNsKIuuulrmuYo1WsbVsz67rO+SJMmIlKlA2JshFG9ANoVEXij3HzmwAAAABJRU5ErkJggg==\" y=\"-22.042263\"/>\r\n   </g>\r\n   <g id=\"text_4\">\r\n    <!-- Train: 10 -->\r\n    <defs>\r\n     <path d=\"M 12.40625 8.296875 \r\nL 28.515625 8.296875 \r\nL 28.515625 63.921875 \r\nL 10.984375 60.40625 \r\nL 10.984375 69.390625 \r\nL 28.421875 72.90625 \r\nL 38.28125 72.90625 \r\nL 38.28125 8.296875 \r\nL 54.390625 8.296875 \r\nL 54.390625 0 \r\nL 12.40625 0 \r\nz\r\n\" id=\"DejaVuSans-49\"/>\r\n     <path d=\"M 31.78125 66.40625 \r\nQ 24.171875 66.40625 20.328125 58.90625 \r\nQ 16.5 51.421875 16.5 36.375 \r\nQ 16.5 21.390625 20.328125 13.890625 \r\nQ 24.171875 6.390625 31.78125 6.390625 \r\nQ 39.453125 6.390625 43.28125 13.890625 \r\nQ 47.125 21.390625 47.125 36.375 \r\nQ 47.125 51.421875 43.28125 58.90625 \r\nQ 39.453125 66.40625 31.78125 66.40625 \r\nz\r\nM 31.78125 74.21875 \r\nQ 44.046875 74.21875 50.515625 64.515625 \r\nQ 56.984375 54.828125 56.984375 36.375 \r\nQ 56.984375 17.96875 50.515625 8.265625 \r\nQ 44.046875 -1.421875 31.78125 -1.421875 \r\nQ 19.53125 -1.421875 13.0625 8.265625 \r\nQ 6.59375 17.96875 6.59375 36.375 \r\nQ 6.59375 54.828125 13.0625 64.515625 \r\nQ 19.53125 74.21875 31.78125 74.21875 \r\nz\r\n\" id=\"DejaVuSans-48\"/>\r\n    </defs>\r\n    <g transform=\"translate(217.041466 16.318125)scale(0.12 -0.12)\">\r\n     <use xlink:href=\"#DejaVuSans-84\"/>\r\n     <use x=\"60.865234\" xlink:href=\"#DejaVuSans-114\"/>\r\n     <use x=\"101.978516\" xlink:href=\"#DejaVuSans-97\"/>\r\n     <use x=\"163.257812\" xlink:href=\"#DejaVuSans-105\"/>\r\n     <use x=\"191.041016\" xlink:href=\"#DejaVuSans-110\"/>\r\n     <use x=\"254.419922\" xlink:href=\"#DejaVuSans-58\"/>\r\n     <use x=\"288.111328\" xlink:href=\"#DejaVuSans-32\"/>\r\n     <use x=\"319.898438\" xlink:href=\"#DejaVuSans-49\"/>\r\n     <use x=\"383.521484\" xlink:href=\"#DejaVuSans-48\"/>\r\n    </g>\r\n   </g>\r\n  </g>\r\n  <g id=\"axes_5\">\r\n   <g clip-path=\"url(#p929ea1854d)\">\r\n    <image height=\"58\" id=\"image7c1b632b5d\" transform=\"scale(1 -1)translate(0 -58)\" width=\"58\" x=\"284.275862\" xlink:href=\"data:image/png;base64,\r\niVBORw0KGgoAAAANSUhEUgAAADoAAAA6CAYAAADhu0ooAAAABHNCSVQICAgIfAhkiAAAAQ1JREFUaIHtmlENhEAMRJfLCUACEpCAFByAFCSAEySsBCTgYE9Bp0mTTS7Teb+TlH3pR7NLh9ZaKwbv+1pRmabJzLz8vm8zG8cR1o3y6VL1D5EoGxJlI43ogMYLAo2eUkpZliWUHccROY5Lmo5KlA2JsiFRNsJz1GPfdzM7z9PMvPkcJU1HJcqGRNlII/rtVRiNkHVde33WJE1HJcqGRNlII9rt9jLPs5k9z2NmtVYz835sIdJ0VKJsSJSNNKLdxgvaU0APZ2iHAdX0SNNRibIhUTYkygZ8BURXJm+pAl3TUHZdV+g8Xt00HZUoGxJlI40oHC/oyuTtGkR3+rZtMzM0PjzSdFSibEiUjTSiP33BRhKNNIUmAAAAAElFTkSuQmCC\" y=\"-22.042263\"/>\r\n   </g>\r\n   <g id=\"text_5\">\r\n    <!-- Train: 4 -->\r\n    <defs>\r\n     <path d=\"M 37.796875 64.3125 \r\nL 12.890625 25.390625 \r\nL 37.796875 25.390625 \r\nz\r\nM 35.203125 72.90625 \r\nL 47.609375 72.90625 \r\nL 47.609375 25.390625 \r\nL 58.015625 25.390625 \r\nL 58.015625 17.1875 \r\nL 47.609375 17.1875 \r\nL 47.609375 0 \r\nL 37.796875 0 \r\nL 37.796875 17.1875 \r\nL 4.890625 17.1875 \r\nL 4.890625 26.703125 \r\nz\r\n\" id=\"DejaVuSans-52\"/>\r\n    </defs>\r\n    <g transform=\"translate(290.127931 16.318125)scale(0.12 -0.12)\">\r\n     <use xlink:href=\"#DejaVuSans-84\"/>\r\n     <use x=\"60.865234\" xlink:href=\"#DejaVuSans-114\"/>\r\n     <use x=\"101.978516\" xlink:href=\"#DejaVuSans-97\"/>\r\n     <use x=\"163.257812\" xlink:href=\"#DejaVuSans-105\"/>\r\n     <use x=\"191.041016\" xlink:href=\"#DejaVuSans-110\"/>\r\n     <use x=\"254.419922\" xlink:href=\"#DejaVuSans-58\"/>\r\n     <use x=\"288.111328\" xlink:href=\"#DejaVuSans-32\"/>\r\n     <use x=\"319.898438\" xlink:href=\"#DejaVuSans-52\"/>\r\n    </g>\r\n   </g>\r\n  </g>\r\n  <g id=\"axes_6\">\r\n   <g clip-path=\"url(#pe67b593816)\">\r\n    <image height=\"58\" id=\"imagef67abcb8e9\" transform=\"scale(1 -1)translate(0 -58)\" width=\"58\" x=\"7.2\" xlink:href=\"data:image/png;base64,\r\niVBORw0KGgoAAAANSUhEUgAAADoAAAA6CAYAAADhu0ooAAAABHNCSVQICAgIfAhkiAAAAQ5JREFUaIHtmlENhDAQRMsFAUhAAhKQUClIQQIWcIAE6gAJddBTsNOkPZLL7LzfDW1f9mOypUMppYQXiDGatXmezdq+7y+cJoTPK6v+IRJlQ6JsuBEdWz+8rgvWc85m7b7v1m2bcdNRibIhUTYkygbM0WVZzFpK6eeHqe1Zy+5pmsyam45KlA2JsuFGFMYLuq17ngcujEaxdV3NGoqXHtx0VKJsSJQNN6IwXrZtM2vnecKFUfygCEG3h2g6qeGmoxJlQ6JsuBEdWt8woAkkBDz5HMdh1hQvnUiUDYmyIVE2mnO09uAC5Sz6WaRbwE4kyoZE2XAj2vwWsBYD6AYRRQ8a03pw01GJsiFRNtyIfgFEEz62DdBrfAAAAABJRU5ErkJggg==\" y=\"-140.645899\"/>\r\n   </g>\r\n   <g id=\"text_6\">\r\n    <!-- Train: 5 -->\r\n    <defs>\r\n     <path d=\"M 10.796875 72.90625 \r\nL 49.515625 72.90625 \r\nL 49.515625 64.59375 \r\nL 19.828125 64.59375 \r\nL 19.828125 46.734375 \r\nQ 21.96875 47.46875 24.109375 47.828125 \r\nQ 26.265625 48.1875 28.421875 48.1875 \r\nQ 40.625 48.1875 47.75 41.5 \r\nQ 54.890625 34.8125 54.890625 23.390625 \r\nQ 54.890625 11.625 47.5625 5.09375 \r\nQ 40.234375 -1.421875 26.90625 -1.421875 \r\nQ 22.3125 -1.421875 17.546875 -0.640625 \r\nQ 12.796875 0.140625 7.71875 1.703125 \r\nL 7.71875 11.625 \r\nQ 12.109375 9.234375 16.796875 8.0625 \r\nQ 21.484375 6.890625 26.703125 6.890625 \r\nQ 35.15625 6.890625 40.078125 11.328125 \r\nQ 45.015625 15.765625 45.015625 23.390625 \r\nQ 45.015625 31 40.078125 35.4375 \r\nQ 35.15625 39.890625 26.703125 39.890625 \r\nQ 22.75 39.890625 18.8125 39.015625 \r\nQ 14.890625 38.140625 10.796875 36.28125 \r\nz\r\n\" id=\"DejaVuSans-53\"/>\r\n    </defs>\r\n    <g transform=\"translate(13.052069 134.921761)scale(0.12 -0.12)\">\r\n     <use xlink:href=\"#DejaVuSans-84\"/>\r\n     <use x=\"60.865234\" xlink:href=\"#DejaVuSans-114\"/>\r\n     <use x=\"101.978516\" xlink:href=\"#DejaVuSans-97\"/>\r\n     <use x=\"163.257812\" xlink:href=\"#DejaVuSans-105\"/>\r\n     <use x=\"191.041016\" xlink:href=\"#DejaVuSans-110\"/>\r\n     <use x=\"254.419922\" xlink:href=\"#DejaVuSans-58\"/>\r\n     <use x=\"288.111328\" xlink:href=\"#DejaVuSans-32\"/>\r\n     <use x=\"319.898438\" xlink:href=\"#DejaVuSans-53\"/>\r\n    </g>\r\n   </g>\r\n  </g>\r\n  <g id=\"axes_7\">\r\n   <g clip-path=\"url(#p07723377a0)\">\r\n    <image height=\"58\" id=\"imageeebbfe7101\" transform=\"scale(1 -1)translate(0 -58)\" width=\"58\" x=\"76.468966\" xlink:href=\"data:image/png;base64,\r\niVBORw0KGgoAAAANSUhEUgAAADoAAAA6CAYAAADhu0ooAAAABHNCSVQICAgIfAhkiAAAARpJREFUaIHtmkENhEAQBOFyBnCABCSAAxyAA3CABIIDcAAOcAIScMA97j1NsgfJpafr29llKvOYTJb4PM8zCqAsS5gvyxJyLWTbNpinaWpmr5tr+VskyoZE2XAj+g49uK5r8Ee7rjOzLMvMDI2PK9x0VKJsSJQNibIRh65pbdvCfBgGM0Pr1i+zEuGmoxJlQ6JsuBENHi/HccA8SRIz6/vezK7GVihuOipRNiTKhhvR4PFyxdUjlMU8zzdX8sVNRyXKhkTZcCMKH5n2fTezuq7hxeixaBxHePYJ3HRUomxIlA2JsgHXNPRDRlEUT9QTPbQ1+umoRNmQKBtuROGalue5mVVVBS+epsnMmqbBVT2Am45KlA2JsuFG9AP+Qz9MkZtk2gAAAABJRU5ErkJggg==\" y=\"-140.645899\"/>\r\n   </g>\r\n   <g id=\"text_7\">\r\n    <!-- Train: 3 -->\r\n    <defs>\r\n     <path d=\"M 40.578125 39.3125 \r\nQ 47.65625 37.796875 51.625 33 \r\nQ 55.609375 28.21875 55.609375 21.1875 \r\nQ 55.609375 10.40625 48.1875 4.484375 \r\nQ 40.765625 -1.421875 27.09375 -1.421875 \r\nQ 22.515625 -1.421875 17.65625 -0.515625 \r\nQ 12.796875 0.390625 7.625 2.203125 \r\nL 7.625 11.71875 \r\nQ 11.71875 9.328125 16.59375 8.109375 \r\nQ 21.484375 6.890625 26.8125 6.890625 \r\nQ 36.078125 6.890625 40.9375 10.546875 \r\nQ 45.796875 14.203125 45.796875 21.1875 \r\nQ 45.796875 27.640625 41.28125 31.265625 \r\nQ 36.765625 34.90625 28.71875 34.90625 \r\nL 20.21875 34.90625 \r\nL 20.21875 43.015625 \r\nL 29.109375 43.015625 \r\nQ 36.375 43.015625 40.234375 45.921875 \r\nQ 44.09375 48.828125 44.09375 54.296875 \r\nQ 44.09375 59.90625 40.109375 62.90625 \r\nQ 36.140625 65.921875 28.71875 65.921875 \r\nQ 24.65625 65.921875 20.015625 65.03125 \r\nQ 15.375 64.15625 9.8125 62.3125 \r\nL 9.8125 71.09375 \r\nQ 15.4375 72.65625 20.34375 73.4375 \r\nQ 25.25 74.21875 29.59375 74.21875 \r\nQ 40.828125 74.21875 47.359375 69.109375 \r\nQ 53.90625 64.015625 53.90625 55.328125 \r\nQ 53.90625 49.265625 50.4375 45.09375 \r\nQ 46.96875 40.921875 40.578125 39.3125 \r\nz\r\n\" id=\"DejaVuSans-51\"/>\r\n    </defs>\r\n    <g transform=\"translate(82.321034 134.921761)scale(0.12 -0.12)\">\r\n     <use xlink:href=\"#DejaVuSans-84\"/>\r\n     <use x=\"60.865234\" xlink:href=\"#DejaVuSans-114\"/>\r\n     <use x=\"101.978516\" xlink:href=\"#DejaVuSans-97\"/>\r\n     <use x=\"163.257812\" xlink:href=\"#DejaVuSans-105\"/>\r\n     <use x=\"191.041016\" xlink:href=\"#DejaVuSans-110\"/>\r\n     <use x=\"254.419922\" xlink:href=\"#DejaVuSans-58\"/>\r\n     <use x=\"288.111328\" xlink:href=\"#DejaVuSans-32\"/>\r\n     <use x=\"319.898438\" xlink:href=\"#DejaVuSans-51\"/>\r\n    </g>\r\n   </g>\r\n  </g>\r\n  <g id=\"axes_8\">\r\n   <g clip-path=\"url(#pce501a857a)\">\r\n    <image height=\"58\" id=\"image1de62ab93f\" transform=\"scale(1 -1)translate(0 -58)\" width=\"58\" x=\"145.737931\" xlink:href=\"data:image/png;base64,\r\niVBORw0KGgoAAAANSUhEUgAAADoAAAA6CAYAAADhu0ooAAAABHNCSVQICAgIfAhkiAAAARxJREFUaIHtmkENhEAMRZfN3gEHSEACEpCAA5CABCSAAyTgACQgARTMKmgnKWHJ/v53/RnKSw9NB5IQQnj9mL7vxawoCjFrmsZc820++WdQFA2KouFG9PNE0SzLxGzf91tquukoRdGgKBoUReOROaqtYsuy3FLTTUcpigZF0XAjmlhvAeu6VnPrbZ723CsrnJuOUhQNiqLhRlQdL8dxiAfzPFcfnKap6YXO8xSzdV3Vs2VZipmbjlIUDYqi4UbUvL3E/ieYpknM2rYVs3EcxayqKrXmPM9i5qajFEWDomhQFA3zR6ZhGNR82zYx037W0GZh13XxFxNw01GKokFRNNyImte0GNoNoraKaeMl9pFJG2luOkpRNCiKhhvRL0R+SFI9aeKDAAAAAElFTkSuQmCC\" y=\"-140.645899\"/>\r\n   </g>\r\n   <g id=\"text_8\">\r\n    <!-- Train: 10 -->\r\n    <g transform=\"translate(147.7725 134.921761)scale(0.12 -0.12)\">\r\n     <use xlink:href=\"#DejaVuSans-84\"/>\r\n     <use x=\"60.865234\" xlink:href=\"#DejaVuSans-114\"/>\r\n     <use x=\"101.978516\" xlink:href=\"#DejaVuSans-97\"/>\r\n     <use x=\"163.257812\" xlink:href=\"#DejaVuSans-105\"/>\r\n     <use x=\"191.041016\" xlink:href=\"#DejaVuSans-110\"/>\r\n     <use x=\"254.419922\" xlink:href=\"#DejaVuSans-58\"/>\r\n     <use x=\"288.111328\" xlink:href=\"#DejaVuSans-32\"/>\r\n     <use x=\"319.898438\" xlink:href=\"#DejaVuSans-49\"/>\r\n     <use x=\"383.521484\" xlink:href=\"#DejaVuSans-48\"/>\r\n    </g>\r\n   </g>\r\n  </g>\r\n  <g id=\"axes_9\">\r\n   <g clip-path=\"url(#pf9849ed511)\">\r\n    <image height=\"58\" id=\"imageef10c41cf4\" transform=\"scale(1 -1)translate(0 -58)\" width=\"58\" x=\"215.006897\" xlink:href=\"data:image/png;base64,\r\niVBORw0KGgoAAAANSUhEUgAAADoAAAA6CAYAAADhu0ooAAAABHNCSVQICAgIfAhkiAAAAOxJREFUaIHtmsENgzAQBJMof1yCS6AEOnALlEoHyB3YHdCBqeBs6QhRsrvzXRkzusfK4GdrrT0cHMfRzed5NrNaq5nt++565oiXe+WfIVE0JIoGjejbu3Bd127eq5CUkpldqZAeNBOVKBoSRUOiaLh79AqllK/vSTNRiaIhUTRoRN31EmP84GvcD81EJYqGRNGgEXXXSwjBvWnO2cy2bTOzZVnce9JMVKJoSBQNGtGfO72M7kZ4oZmoRNGQKBoSRcPdo1eOTD3u+gFFM1GJoiFRNGhEb/sKOE2TmfWqaXTH0AvNRCWKhkTRoBE9AW25JC7TgGiOAAAAAElFTkSuQmCC\" y=\"-140.645899\"/>\r\n   </g>\r\n   <g id=\"text_9\">\r\n    <!-- Train: 2 -->\r\n    <g transform=\"translate(220.858966 134.921761)scale(0.12 -0.12)\">\r\n     <use xlink:href=\"#DejaVuSans-84\"/>\r\n     <use x=\"60.865234\" xlink:href=\"#DejaVuSans-114\"/>\r\n     <use x=\"101.978516\" xlink:href=\"#DejaVuSans-97\"/>\r\n     <use x=\"163.257812\" xlink:href=\"#DejaVuSans-105\"/>\r\n     <use x=\"191.041016\" xlink:href=\"#DejaVuSans-110\"/>\r\n     <use x=\"254.419922\" xlink:href=\"#DejaVuSans-58\"/>\r\n     <use x=\"288.111328\" xlink:href=\"#DejaVuSans-32\"/>\r\n     <use x=\"319.898438\" xlink:href=\"#DejaVuSans-50\"/>\r\n    </g>\r\n   </g>\r\n  </g>\r\n  <g id=\"axes_10\">\r\n   <g clip-path=\"url(#p108bf18565)\">\r\n    <image height=\"58\" id=\"imagef6314b0bdf\" transform=\"scale(1 -1)translate(0 -58)\" width=\"58\" x=\"284.275862\" xlink:href=\"data:image/png;base64,\r\niVBORw0KGgoAAAANSUhEUgAAADoAAAA6CAYAAADhu0ooAAAABHNCSVQICAgIfAhkiAAAARRJREFUaIHtmlENhEAMRJfL+QAcIAEJSEACOAAHSEACEpCAA5AACvYUtHvpBS6ZzvudLMtLPyY0ZDHGGAwsy6Lm0zSJ2bqulit/4vX4jX+ComhQFA03opm1Xo7jUPOyLMVs33cxK4rC8jpJ3EyUomhQFA2KomHu0RTDMDx6LoWbiVIUDYqi4Ub0bT2obflCCGEcRzHL81zMtM+0uq7VO7WzbiZKUTQoioYb0du2gFr9zPMsZtd1iZlWS6l3cjNRiqJBUTTciN62HNPQ/mFo21bMUpWm4WaiFEWDomhQFA3zFnDbNjVvmkbMuq4Ts/M8zXdWVSVmbiZKUTQoioYbUXO9pNBqou970zNZL19AUTQoioYb0Q8QW0wVfNaCXQAAAABJRU5ErkJggg==\" y=\"-140.645899\"/>\r\n   </g>\r\n   <g id=\"text_10\">\r\n    <!-- Train: 8 -->\r\n    <defs>\r\n     <path d=\"M 31.78125 34.625 \r\nQ 24.75 34.625 20.71875 30.859375 \r\nQ 16.703125 27.09375 16.703125 20.515625 \r\nQ 16.703125 13.921875 20.71875 10.15625 \r\nQ 24.75 6.390625 31.78125 6.390625 \r\nQ 38.8125 6.390625 42.859375 10.171875 \r\nQ 46.921875 13.96875 46.921875 20.515625 \r\nQ 46.921875 27.09375 42.890625 30.859375 \r\nQ 38.875 34.625 31.78125 34.625 \r\nz\r\nM 21.921875 38.8125 \r\nQ 15.578125 40.375 12.03125 44.71875 \r\nQ 8.5 49.078125 8.5 55.328125 \r\nQ 8.5 64.0625 14.71875 69.140625 \r\nQ 20.953125 74.21875 31.78125 74.21875 \r\nQ 42.671875 74.21875 48.875 69.140625 \r\nQ 55.078125 64.0625 55.078125 55.328125 \r\nQ 55.078125 49.078125 51.53125 44.71875 \r\nQ 48 40.375 41.703125 38.8125 \r\nQ 48.828125 37.15625 52.796875 32.3125 \r\nQ 56.78125 27.484375 56.78125 20.515625 \r\nQ 56.78125 9.90625 50.3125 4.234375 \r\nQ 43.84375 -1.421875 31.78125 -1.421875 \r\nQ 19.734375 -1.421875 13.25 4.234375 \r\nQ 6.78125 9.90625 6.78125 20.515625 \r\nQ 6.78125 27.484375 10.78125 32.3125 \r\nQ 14.796875 37.15625 21.921875 38.8125 \r\nz\r\nM 18.3125 54.390625 \r\nQ 18.3125 48.734375 21.84375 45.5625 \r\nQ 25.390625 42.390625 31.78125 42.390625 \r\nQ 38.140625 42.390625 41.71875 45.5625 \r\nQ 45.3125 48.734375 45.3125 54.390625 \r\nQ 45.3125 60.0625 41.71875 63.234375 \r\nQ 38.140625 66.40625 31.78125 66.40625 \r\nQ 25.390625 66.40625 21.84375 63.234375 \r\nQ 18.3125 60.0625 18.3125 54.390625 \r\nz\r\n\" id=\"DejaVuSans-56\"/>\r\n    </defs>\r\n    <g transform=\"translate(290.127931 134.921761)scale(0.12 -0.12)\">\r\n     <use xlink:href=\"#DejaVuSans-84\"/>\r\n     <use x=\"60.865234\" xlink:href=\"#DejaVuSans-114\"/>\r\n     <use x=\"101.978516\" xlink:href=\"#DejaVuSans-97\"/>\r\n     <use x=\"163.257812\" xlink:href=\"#DejaVuSans-105\"/>\r\n     <use x=\"191.041016\" xlink:href=\"#DejaVuSans-110\"/>\r\n     <use x=\"254.419922\" xlink:href=\"#DejaVuSans-58\"/>\r\n     <use x=\"288.111328\" xlink:href=\"#DejaVuSans-32\"/>\r\n     <use x=\"319.898438\" xlink:href=\"#DejaVuSans-56\"/>\r\n    </g>\r\n   </g>\r\n  </g>\r\n </g>\r\n <defs>\r\n  <clipPath id=\"p61cc9c9ed9\">\r\n   <rect height=\"57.724138\" width=\"57.724138\" x=\"7.2\" y=\"22.318125\"/>\r\n  </clipPath>\r\n  <clipPath id=\"p70711fad14\">\r\n   <rect height=\"57.724138\" width=\"57.724138\" x=\"76.468966\" y=\"22.318125\"/>\r\n  </clipPath>\r\n  <clipPath id=\"p8bf831cf08\">\r\n   <rect height=\"57.724138\" width=\"57.724138\" x=\"145.737931\" y=\"22.318125\"/>\r\n  </clipPath>\r\n  <clipPath id=\"p73a7854880\">\r\n   <rect height=\"57.724138\" width=\"57.724138\" x=\"215.006897\" y=\"22.318125\"/>\r\n  </clipPath>\r\n  <clipPath id=\"p929ea1854d\">\r\n   <rect height=\"57.724138\" width=\"57.724138\" x=\"284.275862\" y=\"22.318125\"/>\r\n  </clipPath>\r\n  <clipPath id=\"pe67b593816\">\r\n   <rect height=\"57.724138\" width=\"57.724138\" x=\"7.2\" y=\"140.921761\"/>\r\n  </clipPath>\r\n  <clipPath id=\"p07723377a0\">\r\n   <rect height=\"57.724138\" width=\"57.724138\" x=\"76.468966\" y=\"140.921761\"/>\r\n  </clipPath>\r\n  <clipPath id=\"pce501a857a\">\r\n   <rect height=\"57.724138\" width=\"57.724138\" x=\"145.737931\" y=\"140.921761\"/>\r\n  </clipPath>\r\n  <clipPath id=\"pf9849ed511\">\r\n   <rect height=\"57.724138\" width=\"57.724138\" x=\"215.006897\" y=\"140.921761\"/>\r\n  </clipPath>\r\n  <clipPath id=\"p108bf18565\">\r\n   <rect height=\"57.724138\" width=\"57.724138\" x=\"284.275862\" y=\"140.921761\"/>\r\n  </clipPath>\r\n </defs>\r\n</svg>\r\n",
      "image/png": "[encoded data removed]"
     },
     "metadata": {
      "needs_background": "light"
     }
    }
   ],
   "source": [
    "# Plot random images\n",
    "for index, (image, label) in enumerate(zip(x_train[:10], y_train[:10])):\n",
    "    plt.subplot(2, 5, index + 1)\n",
    "    plt.axis('off')\n",
    "    plt.imshow(image.reshape((8, 8)), cmap=plt.cm.gray_r, interpolation='nearest')\n",
    "    plt.title('Train: %i' % (label+1))"
   ]
  },
  {
   "cell_type": "code",
   "execution_count": 4,
   "metadata": {},
   "outputs": [],
   "source": [
    "# Normalize Features with StandardScaler\n",
    "scaler = StandardScaler()\n",
    "scaler.fit(x_train)\n",
    "\n",
    "x_train = scaler.transform(x_train)\n",
    "x_test = scaler.transform(x_test)"
   ]
  },
  {
   "cell_type": "code",
   "execution_count": 5,
   "metadata": {},
   "outputs": [
    {
     "output_type": "stream",
     "name": "stdout",
     "text": "Training done in  2.694796323776245  seconds.\nC:\\ProgramData\\Anaconda3\\lib\\site-packages\\sklearn\\model_selection\\_search.py:814: DeprecationWarning: The default of the `iid` parameter will change from True to False in version 0.22 and will be removed in 0.24. This will change numeric results when test-set sizes are unequal.\n  DeprecationWarning)\n"
    }
   ],
   "source": [
    "# Aufgabe 1: Trainiere eine SVM mit der GridSearch.\n",
    "# Was fällt beim Training auf?\n",
    "# Sklearn: http://scikit-learn.org/stable/modules/generated/sklearn.svm.SVC.html\n",
    "\n",
    "parameters = {'kernel': ['rbf', 'poly', 'linear', 'sigmoid'], \n",
    "              'gamma': [0.01, 0.001]}\n",
    "\n",
    "svm = SVC()\n",
    "\n",
    "start_time = time.time()\n",
    "clf = GridSearchCV(svm, parameters, cv=10, n_jobs=-1)\n",
    "clf.fit(x_train, y_train)\n",
    "end_time = time.time()\n",
    "print(\"Training done in \", (end_time - start_time), \" seconds.\")\n",
    "\n",
    "y_pred = clf.predict(x_test)\n",
    "score = clf.score(x_test, y_test)"
   ]
  },
  {
   "cell_type": "code",
   "execution_count": 6,
   "metadata": {
    "scrolled": true
   },
   "outputs": [
    {
     "output_type": "stream",
     "name": "stdout",
     "text": "Score:  0.9730639730639731\nConfusion matrix:\n [[55  0  0  0  0  0  0  0  0  0]\n [ 0 55  0  0  0  0  0  0  0  0]\n [ 0  0 52  0  0  0  0  0  0  0]\n [ 0  0  1 52  0  1  0  0  2  0]\n [ 0  0  0  0 64  0  0  0  0  0]\n [ 0  0  0  0  1 71  1  0  0  0]\n [ 0  0  0  0  0  1 56  0  0  0]\n [ 0  0  0  0  0  0  0 61  0  1]\n [ 0  1  1  1  0  0  0  0 48  1]\n [ 0  0  0  1  0  1  1  0  1 64]]\n"
    }
   ],
   "source": [
    "# Aufgabe 2: Gebe die Genauigkeit und die Confusion_matrix an.\n",
    "print(\"Score: \", score)\n",
    "print(\"Confusion matrix:\\n\", confusion_matrix(y_test, y_pred))"
   ]
  },
  {
   "cell_type": "code",
   "execution_count": 7,
   "metadata": {},
   "outputs": [
    {
     "output_type": "stream",
     "name": "stdout",
     "text": "Dimensions before: 64\nDimensions to keep:  40\nExplained Variance:  0.95402231\n"
    }
   ],
   "source": [
    "# Aufgabe 3: Wendet PCA an um die Feature-Dimensionen zu senken.\n",
    "# Es soll min 95 der Varianz behalten werden.\n",
    "# Trainiere anschließend eine SVM mit der GridSearch.\n",
    "# Was fällt beim Training auf?\n",
    "\n",
    "pca = PCA(n_components=0.95)\n",
    "pca.fit(x_train)\n",
    "x_train_transformed = pca.transform(x_train)\n",
    "x_test_transformed = pca.transform(x_test)\n",
    "\n",
    "print(\"Dimensions before:  \", x_train.shape[1])\n",
    "print(\"Dimensions to keep: \", len(pca.components_ ))\n",
    "print(\"Explained Variance: \", round(sum(pca.explained_variance_ratio_ ), 8))"
   ]
  },
  {
   "cell_type": "code",
   "execution_count": 8,
   "metadata": {},
   "outputs": [
    {
     "output_type": "stream",
     "name": "stdout",
     "text": "Training done in  0.7530133724212646  seconds.\nC:\\ProgramData\\Anaconda3\\lib\\site-packages\\sklearn\\model_selection\\_search.py:814: DeprecationWarning: The default of the `iid` parameter will change from True to False in version 0.22 and will be removed in 0.24. This will change numeric results when test-set sizes are unequal.\n  DeprecationWarning)\n"
    }
   ],
   "source": [
    "parameters = {'kernel': ['rbf', 'poly', 'linear', 'sigmoid'], \n",
    "              'gamma': [0.01, 0.001]}\n",
    "\n",
    "svm = SVC()\n",
    "\n",
    "start_time = time.time()\n",
    "clf = GridSearchCV(svm, parameters, cv=10, n_jobs=-1)\n",
    "clf.fit(x_train_transformed, y_train)\n",
    "end_time = time.time()\n",
    "print(\"Training done in \", (end_time - start_time), \" seconds.\")\n",
    "\n",
    "y_pred = clf.predict(x_test_transformed)\n",
    "score = clf.score(x_test_transformed, y_test)"
   ]
  },
  {
   "cell_type": "code",
   "execution_count": 9,
   "metadata": {
    "scrolled": true
   },
   "outputs": [
    {
     "output_type": "stream",
     "name": "stdout",
     "text": "Score:  0.9713804713804713\nConfusion matrix:\n [[55  0  0  0  0  0  0  0  0  0]\n [ 0 54  1  0  0  0  0  0  0  0]\n [ 0  0 52  0  0  0  0  0  0  0]\n [ 0  0  1 52  0  1  0  0  2  0]\n [ 0  0  0  0 64  0  0  0  0  0]\n [ 0  0  0  0  1 70  1  0  0  1]\n [ 1  0  0  0  0  0 56  0  0  0]\n [ 0  0  0  0  0  0  0 61  0  1]\n [ 0  1  1  1  0  0  0  0 49  0]\n [ 0  0  0  1  0  1  1  1  0 64]]\n"
    }
   ],
   "source": [
    "# Aufgabe 4: Gebe die Genauigkeit und die Confusion_matrix  des besten Modells an.\n",
    "print(\"Score: \", score)\n",
    "print(\"Confusion matrix:\\n\", confusion_matrix(y_test, y_pred))"
   ]
  }
 ],
 "metadata": {
  "kernelspec": {
   "display_name": "Python 3",
   "language": "python",
   "name": "python3"
  },
  "language_info": {
   "codemirror_mode": {
    "name": "ipython",
    "version": 3
   },
   "file_extension": ".py",
   "mimetype": "text/x-python",
   "name": "python",
   "nbconvert_exporter": "python",
   "pygments_lexer": "ipython3",
   "version": "3.8.1-final"
  }
 },
 "nbformat": 4,
 "nbformat_minor": 2
}