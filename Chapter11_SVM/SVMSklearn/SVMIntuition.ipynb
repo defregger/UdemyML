{
 "cells": [
  {
   "cell_type": "code",
   "execution_count": 87,
   "metadata": {},
   "outputs": [],
   "source": [
    "import numpy as np\n",
    "import matplotlib.pyplot as plt"
   ]
  },
  {
   "cell_type": "code",
   "execution_count": 88,
   "metadata": {},
   "outputs": [],
   "source": [
    "def class1():\n",
    "    length = np.random.uniform(0, 1)\n",
    "    angle = np.pi * np.random.uniform(0, 2)\n",
    "\n",
    "    x = np.sqrt(length) * np.cos(angle)\n",
    "    y = np.sqrt(length) * np.sin(angle)\n",
    "    return [x, y]"
   ]
  },
  {
   "cell_type": "code",
   "execution_count": 89,
   "metadata": {},
   "outputs": [],
   "source": [
    "def class2():\n",
    "    x, y = class1()\n",
    "    while abs(x) <= 1.0 and abs(x) <= 2:\n",
    "        x = np.random.random() * np.random.normal(scale=3.0)\n",
    "    while abs(y) <= 1.0 and abs(y) <= 2:\n",
    "        y = np.random.random() * np.random.normal(scale=3.0)\n",
    "    return [x, y]"
   ]
  },
  {
   "cell_type": "code",
   "execution_count": 90,
   "metadata": {},
   "outputs": [],
   "source": [
    "c1 = [class1() for i in range(20)]\n",
    "c2 = [class2() for i in range(50)]"
   ]
  },
  {
   "cell_type": "code",
   "execution_count": 91,
   "metadata": {},
   "outputs": [
    {
     "data": {
      "image/png": "[encoded data removed]",
      "text/plain": [
       "<Figure size 432x288 with 1 Axes>"
      ]
     },
     "metadata": {
      "needs_background": "light"
     },
     "output_type": "display_data"
    }
   ],
   "source": [
    "for i in range(len(c1)):\n",
    "    plt.scatter(c1[i][0], c1[i][1], color=\"red\")\n",
    "for i in range(len(c2)):\n",
    "    plt.scatter(c2[i][0], c2[i][1], color=\"blue\")\n",
    "plt.xlabel(\"$x_1$\")\n",
    "plt.ylabel(\"$x_2$\")\n",
    "plt.show()"
   ]
  },
  {
   "cell_type": "code",
   "execution_count": 92,
   "metadata": {},
   "outputs": [],
   "source": [
    "def quadratic_kernel(x):\n",
    "    return [x[0]**2, x[1]**2]"
   ]
  },
  {
   "cell_type": "code",
   "execution_count": 93,
   "metadata": {},
   "outputs": [],
   "source": [
    "c1_q = [quadratic_kernel(x) for x in c1]\n",
    "c2_q = [quadratic_kernel(x) for x in c2]"
   ]
  },
  {
   "cell_type": "code",
   "execution_count": 94,
   "metadata": {},
   "outputs": [
    {
     "data": {
      "image/png": "[encoded data removed]",
      "text/plain": [
       "<Figure size 432x288 with 1 Axes>"
      ]
     },
     "metadata": {
      "needs_background": "light"
     },
     "output_type": "display_data"
    }
   ],
   "source": [
    "for i in range(len(c1)):\n",
    "    plt.scatter(c1_q[i][0], c1_q[i][1], color=\"red\")\n",
    "for i in range(len(c2)):\n",
    "    plt.scatter(c2_q[i][0], c2_q[i][1], color=\"blue\")\n",
    "plt.xlabel(\"$x_1^2$\")\n",
    "plt.ylabel(\"$x_2^2$\")\n",
    "plt.show()"
   ]
  }
 ],
 "metadata": {
  "kernelspec": {
   "display_name": "Python 3",
   "language": "python",
   "name": "python3"
  },
  "language_info": {
   "codemirror_mode": {
    "name": "ipython",
    "version": 3
   },
   "file_extension": ".py",
   "mimetype": "text/x-python",
   "name": "python",
   "nbconvert_exporter": "python",
   "pygments_lexer": "ipython3",
   "version": "3.7.3"
  }
 },
 "nbformat": 4,
 "nbformat_minor": 2
}
