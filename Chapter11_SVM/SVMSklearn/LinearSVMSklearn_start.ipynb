{
 "cells": [
  {
   "cell_type": "code",
   "execution_count": 1,
   "metadata": {},
   "outputs": [],
   "source": [
    "import numpy as np\n",
    "np.random.seed(42)\n",
    "import pandas as pd\n",
    "import matplotlib.pyplot as plt\n",
    "from plotting import plot_contours\n",
    "from sklearn.datasets import load_digits\n",
    "from sklearn.svm import LinearSVC\n",
    "from sklearn.metrics import confusion_matrix\n",
    "from sklearn.metrics import classification_report\n",
    "from sklearn.model_selection import train_test_split"
   ]
  },
  {
   "cell_type": "code",
   "execution_count": 11,
   "metadata": {
    "scrolled": true
   },
   "outputs": [],
   "source": [
    "def generate_dataset():\n",
    "    num_class1 = 50\n",
    "    num_class2 = 50\n",
    "    cov1 = np.array([[1, 0], [0, 2]])\n",
    "    mean1 = np.array([0, 0])\n",
    "    cov2 = np.array([[2, 0], [0, 1]])\n",
    "    mean2 = np.array([2, 2])\n",
    "    data1 = np.random.multivariate_normal(mean1, cov1, num_class1)\n",
    "    data2 = np.random.multivariate_normal(mean2, cov2, num_class2)\n",
    "    data = np.concatenate((data1, data2), axis=0)\n",
    "    classes = np.array(\n",
    "        [-1 for i in range(num_class1)] + [1 for i in range(num_class2)]\n",
    "    )\n",
    "    return data, classes"
   ]
  }
 ],
 "metadata": {
  "kernelspec": {
   "display_name": "Python 3",
   "language": "python",
   "name": "python3"
  },
  "language_info": {
   "codemirror_mode": {
    "name": "ipython",
    "version": 3
   },
   "file_extension": ".py",
   "mimetype": "text/x-python",
   "name": "python",
   "nbconvert_exporter": "python",
   "pygments_lexer": "ipython3",
   "version": "3.6.5"
  }
 },
 "nbformat": 4,
 "nbformat_minor": 2
}