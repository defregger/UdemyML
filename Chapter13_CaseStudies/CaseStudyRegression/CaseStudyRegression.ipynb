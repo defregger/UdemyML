{
 "cells": [
  {
   "cell_type": "code",
   "execution_count": 5,
   "metadata": {},
   "outputs": [],
   "source": [
    "import numpy as np\n",
    "np.random.seed(42)\n",
    "import matplotlib.pyplot as plt\n",
    "from sklearn.datasets import fetch_california_housing\n",
    "from sklearn.metrics import *\n",
    "from sklearn.model_selection import *\n",
    "from sklearn.preprocessing import *"
   ]
  },
  {
   "cell_type": "markdown",
   "metadata": {},
   "source": [
    "#### LOAD DATASET"
   ]
  },
  {
   "cell_type": "code",
   "execution_count": 6,
   "metadata": {},
   "outputs": [],
   "source": [
    "cal_housing = fetch_california_housing()\n",
    "x, y = cal_housing.data, cal_housing.target\n",
    "x_train, x_test, y_train, y_test = train_test_split(x, y, random_state=42, test_size=0.3)"
   ]
  },
  {
   "cell_type": "markdown",
   "metadata": {},
   "source": [
    "#### NORMALIZE DATASET"
   ]
  },
  {
   "cell_type": "code",
   "execution_count": 7,
   "metadata": {},
   "outputs": [],
   "source": [
    "scaler = StandardScaler()\n",
    "scaler.fit(x_train)\n",
    "x_train = scaler.transform(x_train)\n",
    "x_test = scaler.transform(x_test)"
   ]
  },
  {
   "cell_type": "markdown",
   "metadata": {},
   "source": [
    "#### LINEAR REGRESSION:"
   ]
  },
  {
   "cell_type": "code",
   "execution_count": 8,
   "metadata": {},
   "outputs": [
    {
     "name": "stdout",
     "output_type": "stream",
     "text": [
      "R2:  0.5957702326061664\n",
      "MSE:  0.5305677824766752\n"
     ]
    }
   ],
   "source": [
    "from sklearn.linear_model import LinearRegression\n",
    "\n",
    "regr = LinearRegression()\n",
    "regr.fit(x_train, y_train)\n",
    "y_pred = regr.predict(x_test)\n",
    "\n",
    "r2 = r2_score(y_test, y_pred)\n",
    "mse = mean_squared_error(y_test, y_pred)\n",
    "\n",
    "print(\"R2: \", r2)\n",
    "print(\"MSE: \", mse)"
   ]
  },
  {
   "cell_type": "markdown",
   "metadata": {},
   "source": [
    "#### KNN REGRSSOR"
   ]
  },
  {
   "cell_type": "code",
   "execution_count": 10,
   "metadata": {},
   "outputs": [
    {
     "name": "stdout",
     "output_type": "stream",
     "text": [
      "Best: 0.678407 using {'n_neighbors': 12}\n",
      "0.613041 (0.006141) with: {'n_neighbors': 2}\n",
      "0.660862 (0.003878) with: {'n_neighbors': 4}\n",
      "0.671660 (0.001240) with: {'n_neighbors': 6}\n",
      "0.674159 (0.002851) with: {'n_neighbors': 8}\n",
      "0.677370 (0.003107) with: {'n_neighbors': 10}\n",
      "0.678407 (0.003387) with: {'n_neighbors': 12}\n",
      "0.678211 (0.003188) with: {'n_neighbors': 14}\n",
      "0.677799 (0.003857) with: {'n_neighbors': 16}\n",
      "0.676416 (0.003873) with: {'n_neighbors': 18}\n",
      "0.674795 (0.003925) with: {'n_neighbors': 20}\n"
     ]
    }
   ],
   "source": [
    "from sklearn.neighbors import KNeighborsRegressor\n",
    "\n",
    "params = {\"n_neighbors\": [i for i in range(2, 22, 2)]}\n",
    "\n",
    "regr = KNeighborsRegressor()\n",
    "grid = GridSearchCV(regr, params, cv=3)\n",
    "\n",
    "grid_result = grid.fit(x_train, y_train)\n",
    "\n",
    "# Summary\n",
    "print(\"Best: %f using %s\" % (grid_result.best_score_, grid_result.best_params_))\n",
    "means = grid_result.cv_results_[\"mean_test_score\"]\n",
    "stds = grid_result.cv_results_[\"std_test_score\"]\n",
    "params = grid_result.cv_results_[\"params\"]\n",
    "\n",
    "for mean, stdev, param in zip(means, stds, params):\n",
    "    print(\"%f (%f) with: %r\" % (mean, stdev, param))"
   ]
  },
  {
   "cell_type": "code",
   "execution_count": 11,
   "metadata": {},
   "outputs": [
    {
     "name": "stdout",
     "output_type": "stream",
     "text": [
      "R2:  0.6870126694569266\n",
      "MSE:  0.41080842457537875\n"
     ]
    }
   ],
   "source": [
    "regr = KNeighborsRegressor(n_neighbors=12)\n",
    "regr.fit(x_train, y_train)\n",
    "y_pred = regr.predict(x_test)\n",
    "\n",
    "r2 = r2_score(y_test, y_pred)\n",
    "mse = mean_squared_error(y_test, y_pred)\n",
    "\n",
    "print(\"R2: \", r2)\n",
    "print(\"MSE: \", mse)"
   ]
  },
  {
   "cell_type": "markdown",
   "metadata": {},
   "source": [
    "#### RANDOM FOREST REGRESSOR"
   ]
  },
  {
   "cell_type": "code",
   "execution_count": 13,
   "metadata": {
    "scrolled": true
   },
   "outputs": [
    {
     "name": "stdout",
     "output_type": "stream",
     "text": [
      "Best: 0.786085 using {'max_depth': 12, 'n_estimators': 220}\n",
      "0.748704 (0.008435) with: {'max_depth': 8, 'n_estimators': 180}\n",
      "0.747957 (0.008834) with: {'max_depth': 8, 'n_estimators': 220}\n",
      "0.749040 (0.009624) with: {'max_depth': 8, 'n_estimators': 240}\n",
      "0.774338 (0.007270) with: {'max_depth': 10, 'n_estimators': 180}\n",
      "0.774052 (0.008698) with: {'max_depth': 10, 'n_estimators': 220}\n",
      "0.774132 (0.008035) with: {'max_depth': 10, 'n_estimators': 240}\n",
      "0.785048 (0.007458) with: {'max_depth': 12, 'n_estimators': 180}\n",
      "0.786085 (0.007197) with: {'max_depth': 12, 'n_estimators': 220}\n",
      "0.785432 (0.006156) with: {'max_depth': 12, 'n_estimators': 240}\n"
     ]
    }
   ],
   "source": [
    "from sklearn.ensemble import RandomForestRegressor\n",
    "\n",
    "params = {\"n_estimators\": [180, 220, 240],\n",
    "         \"max_depth\": [8, 10, 12]}\n",
    "\n",
    "regr = RandomForestRegressor()\n",
    "grid = GridSearchCV(regr, params, cv=3, n_jobs=-1)\n",
    "\n",
    "grid_result = grid.fit(x_train, y_train)\n",
    "\n",
    "# Summary\n",
    "print(\"Best: %f using %s\" % (grid_result.best_score_, grid_result.best_params_))\n",
    "means = grid_result.cv_results_[\"mean_test_score\"]\n",
    "stds = grid_result.cv_results_[\"std_test_score\"]\n",
    "params = grid_result.cv_results_[\"params\"]\n",
    "\n",
    "for mean, stdev, param in zip(means, stds, params):\n",
    "    print(\"%f (%f) with: %r\" % (mean, stdev, param))"
   ]
  },
  {
   "cell_type": "code",
   "execution_count": 14,
   "metadata": {},
   "outputs": [
    {
     "name": "stdout",
     "output_type": "stream",
     "text": [
      "R2:  0.7936052595999104\n",
      "MSE:  0.27090137481694804\n"
     ]
    }
   ],
   "source": [
    "regr = RandomForestRegressor(n_estimators=220, max_depth=12)\n",
    "regr.fit(x_train, y_train)\n",
    "y_pred = regr.predict(x_test)\n",
    "\n",
    "r2 = r2_score(y_test, y_pred)\n",
    "mse = mean_squared_error(y_test, y_pred)\n",
    "\n",
    "print(\"R2: \", r2)\n",
    "print(\"MSE: \", mse)"
   ]
  },
  {
   "cell_type": "markdown",
   "metadata": {},
   "source": [
    "#### GRADIENT BOOSTING REGRESSOR"
   ]
  },
  {
   "cell_type": "code",
   "execution_count": 15,
   "metadata": {
    "scrolled": true
   },
   "outputs": [
    {
     "name": "stdout",
     "output_type": "stream",
     "text": [
      "Best: 0.827245 using {'learning_rate': 0.06, 'max_depth': 7, 'n_estimators': 240}\n",
      "0.821935 (0.003738) with: {'learning_rate': 0.06, 'max_depth': 6, 'n_estimators': 180}\n",
      "0.824809 (0.003597) with: {'learning_rate': 0.06, 'max_depth': 6, 'n_estimators': 220}\n",
      "0.825953 (0.003593) with: {'learning_rate': 0.06, 'max_depth': 6, 'n_estimators': 240}\n",
      "0.825096 (0.002314) with: {'learning_rate': 0.06, 'max_depth': 7, 'n_estimators': 180}\n",
      "0.826515 (0.002462) with: {'learning_rate': 0.06, 'max_depth': 7, 'n_estimators': 220}\n",
      "0.827245 (0.002191) with: {'learning_rate': 0.06, 'max_depth': 7, 'n_estimators': 240}\n",
      "0.822520 (0.003168) with: {'learning_rate': 0.06, 'max_depth': 8, 'n_estimators': 180}\n",
      "0.823797 (0.003568) with: {'learning_rate': 0.06, 'max_depth': 8, 'n_estimators': 220}\n",
      "0.824027 (0.003315) with: {'learning_rate': 0.06, 'max_depth': 8, 'n_estimators': 240}\n",
      "0.823278 (0.003156) with: {'learning_rate': 0.07, 'max_depth': 6, 'n_estimators': 180}\n",
      "0.824295 (0.003439) with: {'learning_rate': 0.07, 'max_depth': 6, 'n_estimators': 220}\n",
      "0.825308 (0.003621) with: {'learning_rate': 0.07, 'max_depth': 6, 'n_estimators': 240}\n",
      "0.823660 (0.002083) with: {'learning_rate': 0.07, 'max_depth': 7, 'n_estimators': 180}\n",
      "0.826619 (0.002595) with: {'learning_rate': 0.07, 'max_depth': 7, 'n_estimators': 220}\n",
      "0.825915 (0.001968) with: {'learning_rate': 0.07, 'max_depth': 7, 'n_estimators': 240}\n",
      "0.823904 (0.004028) with: {'learning_rate': 0.07, 'max_depth': 8, 'n_estimators': 180}\n",
      "0.824768 (0.003749) with: {'learning_rate': 0.07, 'max_depth': 8, 'n_estimators': 220}\n",
      "0.825301 (0.004249) with: {'learning_rate': 0.07, 'max_depth': 8, 'n_estimators': 240}\n"
     ]
    }
   ],
   "source": [
    "from sklearn.ensemble import GradientBoostingRegressor\n",
    "\n",
    "params = {\"n_estimators\": [180, 220, 240],\n",
    "         \"max_depth\": [6, 7, 8],\n",
    "         \"learning_rate\": [0.06, 0.07]}\n",
    "\n",
    "regr = GradientBoostingRegressor()\n",
    "grid = GridSearchCV(regr, params, cv=3, n_jobs=-1)\n",
    "\n",
    "grid_result = grid.fit(x_train, y_train)\n",
    "\n",
    "# Summary\n",
    "print(\"Best: %f using %s\" % (grid_result.best_score_, grid_result.best_params_))\n",
    "means = grid_result.cv_results_[\"mean_test_score\"]\n",
    "stds = grid_result.cv_results_[\"std_test_score\"]\n",
    "params = grid_result.cv_results_[\"params\"]\n",
    "\n",
    "for mean, stdev, param in zip(means, stds, params):\n",
    "    print(\"%f (%f) with: %r\" % (mean, stdev, param))"
   ]
  },
  {
   "cell_type": "code",
   "execution_count": 16,
   "metadata": {},
   "outputs": [
    {
     "name": "stdout",
     "output_type": "stream",
     "text": [
      "R2:  0.8377355987163165\n",
      "MSE:  0.2129785347552378\n"
     ]
    }
   ],
   "source": [
    "regr = GradientBoostingRegressor(n_estimators=240, max_depth=7, learning_rate=0.06)\n",
    "regr.fit(x_train, y_train)\n",
    "y_pred = regr.predict(x_test)\n",
    "\n",
    "r2 = r2_score(y_test, y_pred)\n",
    "mse = mean_squared_error(y_test, y_pred)\n",
    "\n",
    "print(\"R2: \", r2)\n",
    "print(\"MSE: \", mse)"
   ]
  },
  {
   "cell_type": "markdown",
   "metadata": {},
   "source": [
    "#### SVM REGRESSOR:"
   ]
  },
  {
   "cell_type": "code",
   "execution_count": 17,
   "metadata": {},
   "outputs": [
    {
     "name": "stdout",
     "output_type": "stream",
     "text": [
      "Best: 0.727710 using {'kernel': 'rbf'}\n",
      "-1.537577 (3.003287) with: {'kernel': 'linear'}\n",
      "0.727710 (0.004329) with: {'kernel': 'rbf'}\n",
      "-3709.164984 (105.770897) with: {'kernel': 'sigmoid'}\n"
     ]
    }
   ],
   "source": [
    "from sklearn.svm import SVR\n",
    "\n",
    "params = {\"kernel\": [\"linear\", \"rbf\", \"sigmoid\"]}\n",
    "\n",
    "regr = SVR()\n",
    "grid = GridSearchCV(regr, params, cv=3, n_jobs=-1)\n",
    "\n",
    "grid_result = grid.fit(x_train, y_train)\n",
    "\n",
    "# Summary\n",
    "print(\"Best: %f using %s\" % (grid_result.best_score_, grid_result.best_params_))\n",
    "means = grid_result.cv_results_[\"mean_test_score\"]\n",
    "stds = grid_result.cv_results_[\"std_test_score\"]\n",
    "params = grid_result.cv_results_[\"params\"]\n",
    "\n",
    "for mean, stdev, param in zip(means, stds, params):\n",
    "    print(\"%f (%f) with: %r\" % (mean, stdev, param))"
   ]
  },
  {
   "cell_type": "code",
   "execution_count": 18,
   "metadata": {},
   "outputs": [
    {
     "name": "stdout",
     "output_type": "stream",
     "text": [
      "R2:  0.7336772286885802\n",
      "MSE:  0.3495593189703779\n"
     ]
    }
   ],
   "source": [
    "regr = SVR(kernel=\"rbf\")\n",
    "regr.fit(x_train, y_train)\n",
    "y_pred = regr.predict(x_test)\n",
    "\n",
    "r2 = r2_score(y_test, y_pred)\n",
    "mse = mean_squared_error(y_test, y_pred)\n",
    "\n",
    "print(\"R2: \", r2)\n",
    "print(\"MSE: \", mse)"
   ]
  },
  {
   "cell_type": "markdown",
   "metadata": {},
   "source": [
    "#### BEST MODEL:"
   ]
  },
  {
   "cell_type": "code",
   "execution_count": 19,
   "metadata": {},
   "outputs": [
    {
     "data": {
      "image/png": "[encoded data removed]",
      "text/plain": [
       "<Figure size 432x288 with 1 Axes>"
      ]
     },
     "metadata": {},
     "output_type": "display_data"
    }
   ],
   "source": [
    "regr = GradientBoostingRegressor(n_estimators=240, max_depth=7, learning_rate=0.06)\n",
    "regr.fit(x_train, y_train)\n",
    "y_pred = regr.predict(x_test)\n",
    "\n",
    "min_val = min(y_pred)\n",
    "max_val = max(y_pred)\n",
    "\n",
    "plt.scatter(y_pred, y_pred - y_test, color=\"blue\", s=5)\n",
    "plt.hlines(y = 0, xmin =min_val, xmax=max_val)\n",
    "plt.xlabel(\"$\\hat{y} (Prediction)$\")\n",
    "plt.ylabel(\"Residuals\")\n",
    "plt.show()"
   ]
  }
 ],
 "metadata": {
  "kernelspec": {
   "display_name": "Python 3",
   "language": "python",
   "name": "python3"
  },
  "language_info": {
   "codemirror_mode": {
    "name": "ipython",
    "version": 3
   },
   "file_extension": ".py",
   "mimetype": "text/x-python",
   "name": "python",
   "nbconvert_exporter": "python",
   "pygments_lexer": "ipython3",
   "version": "3.6.5"
  }
 },
 "nbformat": 4,
 "nbformat_minor": 2
}