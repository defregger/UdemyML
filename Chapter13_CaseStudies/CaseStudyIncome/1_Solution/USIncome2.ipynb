{
 "cells": [
  {
   "cell_type": "code",
   "execution_count": 4,
   "metadata": {},
   "outputs": [],
   "source": [
    "import os\n",
    "\n",
    "import pandas as pd\n",
    "import numpy as np"
   ]
  },
  {
   "cell_type": "code",
   "execution_count": 5,
   "metadata": {},
   "outputs": [],
   "source": [
    "PATH = os.path.abspath(\"C:/Users/Jan/Dropbox/_Programmieren/UdemyML/Chapter13_CaseStudies/CaseStudyIncome/1_Solution\")\n",
    "DATA_PATH = os.path.join(PATH, \"adult.xlsx\")"
   ]
  },
  {
   "cell_type": "code",
   "execution_count": 6,
   "metadata": {},
   "outputs": [],
   "source": [
    "df = pd.read_excel(DATA_PATH)"
   ]
  },
  {
   "cell_type": "code",
   "execution_count": 7,
   "metadata": {},
   "outputs": [
    {
     "output_type": "stream",
     "name": "stdout",
     "text": [
      "Index(['age', 'workclass', 'education', 'marital-status', 'occupation',\n       'relationship', 'race', 'gender', 'hours-per-week', 'native-country',\n       'income'],\n      dtype='object')\n"
     ]
    }
   ],
   "source": [
    "print(df.columns)"
   ]
  },
  {
   "cell_type": "code",
   "execution_count": 8,
   "metadata": {},
   "outputs": [
    {
     "output_type": "stream",
     "name": "stdout",
     "text": [
      "age                int64\nworkclass         object\neducation         object\nmarital-status    object\noccupation        object\nrelationship      object\nrace              object\ngender            object\nhours-per-week     int64\nnative-country    object\nincome            object\ndtype: object\n"
     ]
    }
   ],
   "source": [
    "print(df.dtypes)"
   ]
  },
  {
   "cell_type": "code",
   "execution_count": 9,
   "metadata": {
    "scrolled": true
   },
   "outputs": [
    {
     "output_type": "stream",
     "name": "stdout",
     "text": [
      "(48842, 11) 537262\n"
     ]
    }
   ],
   "source": [
    "print(df.shape, df.size)"
   ]
  },
  {
   "cell_type": "code",
   "execution_count": 10,
   "metadata": {},
   "outputs": [
    {
     "output_type": "execute_result",
     "data": {
      "text/plain": [
       "   age  workclass     education      marital-status         occupation  \\\n",
       "0   25    Private          11th       Never-married  Machine-op-inspct   \n",
       "1   38    Private       HS-grad  Married-civ-spouse    Farming-fishing   \n",
       "2   28  Local-gov    Assoc-acdm  Married-civ-spouse    Protective-serv   \n",
       "3   44    Private  Some-college  Married-civ-spouse  Machine-op-inspct   \n",
       "4   18          ?  Some-college       Never-married                  ?   \n",
       "\n",
       "  relationship   race  gender  hours-per-week native-country income  \n",
       "0    Own-child  Black    Male              40  United-States  <=50K  \n",
       "1      Husband  White    Male              50  United-States  <=50K  \n",
       "2      Husband  White    Male              40  United-States   >50K  \n",
       "3      Husband  Black    Male              40  United-States   >50K  \n",
       "4    Own-child  White  Female              30  United-States  <=50K  "
      ],
      "text/html": "<div>\n<style scoped>\n    .dataframe tbody tr th:only-of-type {\n        vertical-align: middle;\n    }\n\n    .dataframe tbody tr th {\n        vertical-align: top;\n    }\n\n    .dataframe thead th {\n        text-align: right;\n    }\n</style>\n<table border=\"1\" class=\"dataframe\">\n  <thead>\n    <tr style=\"text-align: right;\">\n      <th></th>\n      <th>age</th>\n      <th>workclass</th>\n      <th>education</th>\n      <th>marital-status</th>\n      <th>occupation</th>\n      <th>relationship</th>\n      <th>race</th>\n      <th>gender</th>\n      <th>hours-per-week</th>\n      <th>native-country</th>\n      <th>income</th>\n    </tr>\n  </thead>\n  <tbody>\n    <tr>\n      <th>0</th>\n      <td>25</td>\n      <td>Private</td>\n      <td>11th</td>\n      <td>Never-married</td>\n      <td>Machine-op-inspct</td>\n      <td>Own-child</td>\n      <td>Black</td>\n      <td>Male</td>\n      <td>40</td>\n      <td>United-States</td>\n      <td>&lt;=50K</td>\n    </tr>\n    <tr>\n      <th>1</th>\n      <td>38</td>\n      <td>Private</td>\n      <td>HS-grad</td>\n      <td>Married-civ-spouse</td>\n      <td>Farming-fishing</td>\n      <td>Husband</td>\n      <td>White</td>\n      <td>Male</td>\n      <td>50</td>\n      <td>United-States</td>\n      <td>&lt;=50K</td>\n    </tr>\n    <tr>\n      <th>2</th>\n      <td>28</td>\n      <td>Local-gov</td>\n      <td>Assoc-acdm</td>\n      <td>Married-civ-spouse</td>\n      <td>Protective-serv</td>\n      <td>Husband</td>\n      <td>White</td>\n      <td>Male</td>\n      <td>40</td>\n      <td>United-States</td>\n      <td>&gt;50K</td>\n    </tr>\n    <tr>\n      <th>3</th>\n      <td>44</td>\n      <td>Private</td>\n      <td>Some-college</td>\n      <td>Married-civ-spouse</td>\n      <td>Machine-op-inspct</td>\n      <td>Husband</td>\n      <td>Black</td>\n      <td>Male</td>\n      <td>40</td>\n      <td>United-States</td>\n      <td>&gt;50K</td>\n    </tr>\n    <tr>\n      <th>4</th>\n      <td>18</td>\n      <td>?</td>\n      <td>Some-college</td>\n      <td>Never-married</td>\n      <td>?</td>\n      <td>Own-child</td>\n      <td>White</td>\n      <td>Female</td>\n      <td>30</td>\n      <td>United-States</td>\n      <td>&lt;=50K</td>\n    </tr>\n  </tbody>\n</table>\n</div>"
     },
     "metadata": {},
     "execution_count": 10
    }
   ],
   "source": [
    "df.head()"
   ]
  },
  {
   "cell_type": "code",
   "execution_count": 11,
   "metadata": {
    "scrolled": true
   },
   "outputs": [
    {
     "output_type": "stream",
     "name": "stdout",
     "text": [
      "age  Number of categories:  74\nworkclass  Number of categories:  9\neducation  Number of categories:  16\nmarital-status  Number of categories:  7\noccupation  Number of categories:  15\nrelationship  Number of categories:  6\nrace  Number of categories:  5\ngender  Number of categories:  2\nhours-per-week  Number of categories:  96\nnative-country  Number of categories:  42\nincome  Number of categories:  2\n"
     ]
    }
   ],
   "source": [
    "for col in df.columns:\n",
    "    print(col, \" Number of categories: \", len(df[col].value_counts()))"
   ]
  },
  {
   "cell_type": "code",
   "execution_count": 12,
   "metadata": {
    "scrolled": true
   },
   "outputs": [
    {
     "output_type": "stream",
     "name": "stdout",
     "text": [
      "(48842, 10) (48842,)\n[0 0 1 ... 0 0 1]\n['United-States' 'Private' '11th' 'Never-married' 'Machine-op-inspct'\n 'Own-child' 'Black' 'Male' 40 25]\n"
     ]
    }
   ],
   "source": [
    "data = df.to_numpy()\n",
    "x = data[:,:-1] # Gehe bis zur letzten Spalte (die aber nicht einschließlich)\n",
    "y = data[:,-1] # Nimm nur die letzte Spalte\n",
    "\n",
    "print(x.shape, y.shape)\n",
    "\n",
    "# <=50K: Klasse 0\n",
    "# >50K: Klasse 1\n",
    "y = np.array([0 if val == \"<=50K\" else 1 for val in y], dtype=np.int8)\n",
    "\n",
    "print(y)\n",
    "x[:,[0,9]] = x[:,[9,0]]\n",
    "print(x[0])"
   ]
  },
  {
   "cell_type": "code",
   "execution_count": 13,
   "metadata": {},
   "outputs": [],
   "source": [
    "from sklearn.preprocessing import OneHotEncoder\n",
    "from sklearn.model_selection import train_test_split"
   ]
  },
  {
   "cell_type": "code",
   "execution_count": 14,
   "metadata": {},
   "outputs": [],
   "source": [
    "# Race: White, Black, Asian\n",
    "#         0       1     2\n",
    "#     [1,0,0]  [0,1,0]  [0,0,1]\n",
    "# Kateogrie White = Kategorie 0 => [1, 0, 0]"
   ]
  },
  {
   "cell_type": "code",
   "execution_count": 15,
   "metadata": {
    "scrolled": true
   },
   "outputs": [
    {
     "output_type": "stream",
     "name": "stdout",
     "text": [
      "(48842, 104)\n[0.0 0.0 0.0 0.0 0.0 0.0 0.0 0.0 0.0 0.0 0.0 0.0 0.0 0.0 0.0 0.0 0.0 0.0\n 0.0 0.0 0.0 0.0 0.0 0.0 0.0 0.0 0.0 0.0 0.0 0.0 0.0 0.0 0.0 0.0 0.0 0.0\n 0.0 0.0 0.0 1.0 0.0 0.0 0.0 0.0 0.0 0.0 1.0 0.0 0.0 0.0 0.0 0.0 1.0 0.0\n 0.0 0.0 0.0 0.0 0.0 0.0 0.0 0.0 0.0 0.0 0.0 0.0 0.0 0.0 0.0 0.0 0.0 1.0\n 0.0 0.0 0.0 0.0 0.0 0.0 0.0 0.0 0.0 1.0 0.0 0.0 0.0 0.0 0.0 0.0 0.0 0.0\n 0.0 0.0 1.0 0.0 0.0 0.0 0.0 1.0 0.0 0.0 0.0 1.0 40 25]\n"
     ]
    }
   ],
   "source": [
    "enc = OneHotEncoder(handle_unknown=\"ignore\")\n",
    "enc.fit(x[:,:-2])\n",
    "\n",
    "x_cat = enc.transform(x[:,:-2]).toarray()\n",
    "x_cat = np.append(x_cat, x[:,-2:], axis=1)\n",
    "print(x_cat.shape)\n",
    "print(x_cat[0])"
   ]
  },
  {
   "cell_type": "code",
   "execution_count": 16,
   "metadata": {},
   "outputs": [
    {
     "output_type": "stream",
     "name": "stdout",
     "text": [
      "(34189, 104) (14653, 104)\n"
     ]
    }
   ],
   "source": [
    "x_train, x_test, y_train, y_test = train_test_split(x_cat, y, test_size=0.3)\n",
    "\n",
    "print(x_train.shape, x_test.shape)"
   ]
  }
 ],
 "metadata": {
  "kernelspec": {
   "display_name": "Python 3",
   "language": "python",
   "name": "python3"
  },
  "language_info": {
   "codemirror_mode": {
    "name": "ipython",
    "version": 3
   },
   "file_extension": ".py",
   "mimetype": "text/x-python",
   "name": "python",
   "nbconvert_exporter": "python",
   "pygments_lexer": "ipython3",
   "version": "3.8.3-final"
  }
 },
 "nbformat": 4,
 "nbformat_minor": 2
}