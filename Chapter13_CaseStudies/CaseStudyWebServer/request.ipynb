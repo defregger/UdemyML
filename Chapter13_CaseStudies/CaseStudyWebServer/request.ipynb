{
 "cells": [
  {
   "cell_type": "code",
   "execution_count": 1,
   "metadata": {},
   "outputs": [
    {
     "output_type": "stream",
     "name": "stdout",
     "text": [
      "3755.807040515266\n",
      "3759.7607321277233\n",
      "3763.7144237401812\n"
     ]
    }
   ],
   "source": [
    "import requests\n",
    "\n",
    "url = \"http://localhost:5000/api\"\n",
    "\n",
    "r = requests.post(url, json={'x': [1, 0, 0, 0, 20, 10, 10]})\n",
    "print(r.json())\n",
    "\n",
    "r = requests.post(url, json={'x': [1, 0, 0, 0, 40, 10, 10]})\n",
    "print(r.json())\n",
    "\n",
    "r = requests.post(url, json={'x': [1, 0, 0, 0, 60, 10, 10]})\n",
    "print(r.json())"
   ]
  }
 ],
 "metadata": {
  "kernelspec": {
   "display_name": "Python 3",
   "language": "python",
   "name": "python3"
  },
  "language_info": {
   "codemirror_mode": {
    "name": "ipython",
    "version": 3
   },
   "file_extension": ".py",
   "mimetype": "text/x-python",
   "name": "python",
   "nbconvert_exporter": "python",
   "pygments_lexer": "ipython3",
   "version": "3.8.3-final"
  }
 },
 "nbformat": 4,
 "nbformat_minor": 2
}