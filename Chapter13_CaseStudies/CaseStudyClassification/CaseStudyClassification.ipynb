{
 "cells": [
  {
   "cell_type": "code",
   "execution_count": 1,
   "metadata": {},
   "outputs": [],
   "source": [
    "import numpy as np\n",
    "np.random.seed(42)\n",
    "import matplotlib.pyplot as plt\n",
    "from sklearn.datasets import load_digits\n",
    "from sklearn.metrics import *\n",
    "from sklearn.model_selection import *\n",
    "from sklearn.preprocessing import *"
   ]
  },
  {
   "cell_type": "code",
   "execution_count": 2,
   "metadata": {},
   "outputs": [],
   "source": [
    "mnist = load_digits()\n",
    "x, y = mnist.data, mnist.target\n",
    "x_train, x_test, y_train, y_test = train_test_split(x, y, random_state=42, test_size=0.3)"
   ]
  },
  {
   "cell_type": "code",
   "execution_count": 3,
   "metadata": {},
   "outputs": [],
   "source": [
    "scaler = StandardScaler()\n",
    "scaler.fit(x_train)\n",
    "x_train = scaler.transform(x_train)\n",
    "x_test = scaler.transform(x_test)"
   ]
  },
  {
   "cell_type": "markdown",
   "metadata": {},
   "source": [
    "#### KNN CLASSIFICATION"
   ]
  },
  {
   "cell_type": "code",
   "execution_count": 4,
   "metadata": {},
   "outputs": [
    {
     "name": "stdout",
     "output_type": "stream",
     "text": [
      "Best: 0.961814 using {'n_neighbors': 6}\n",
      "0.954654 (0.008149) with: {'n_neighbors': 2}\n",
      "0.957836 (0.004777) with: {'n_neighbors': 4}\n",
      "0.961814 (0.001815) with: {'n_neighbors': 6}\n",
      "0.958632 (0.004794) with: {'n_neighbors': 8}\n",
      "0.954654 (0.005104) with: {'n_neighbors': 10}\n",
      "0.949881 (0.001558) with: {'n_neighbors': 12}\n",
      "0.949085 (0.009269) with: {'n_neighbors': 14}\n",
      "0.946698 (0.009216) with: {'n_neighbors': 16}\n",
      "0.940334 (0.008104) with: {'n_neighbors': 18}\n",
      "0.939539 (0.009658) with: {'n_neighbors': 20}\n"
     ]
    }
   ],
   "source": [
    "from sklearn.neighbors import KNeighborsClassifier\n",
    "\n",
    "params = {\"n_neighbors\": [i for i in range(2, 22, 2)]}\n",
    "\n",
    "clf = KNeighborsClassifier()\n",
    "grid = GridSearchCV(clf, params, cv=3)\n",
    "\n",
    "grid_result = grid.fit(x_train, y_train)\n",
    "\n",
    "# Summary\n",
    "print(\"Best: %f using %s\" % (grid_result.best_score_, grid_result.best_params_))\n",
    "means = grid_result.cv_results_[\"mean_test_score\"]\n",
    "stds = grid_result.cv_results_[\"std_test_score\"]\n",
    "params = grid_result.cv_results_[\"params\"]\n",
    "\n",
    "for mean, stdev, param in zip(means, stds, params):\n",
    "    print(\"%f (%f) with: %r\" % (mean, stdev, param))"
   ]
  },
  {
   "cell_type": "code",
   "execution_count": 5,
   "metadata": {},
   "outputs": [
    {
     "name": "stdout",
     "output_type": "stream",
     "text": [
      "Acc:  0.9722222222222222\n"
     ]
    }
   ],
   "source": [
    "# FINAL MODEL\n",
    "clf = KNeighborsClassifier(n_neighbors=6)\n",
    "clf.fit(x_train, y_train)\n",
    "y_pred = clf.predict(x_test)\n",
    "acc = accuracy_score(y_test, y_pred)\n",
    "\n",
    "print(\"Acc: \", acc)"
   ]
  },
  {
   "cell_type": "markdown",
   "metadata": {},
   "source": [
    "#### RANDOM FOREST CLASSIFICATION"
   ]
  },
  {
   "cell_type": "code",
   "execution_count": 6,
   "metadata": {
    "scrolled": true
   },
   "outputs": [
    {
     "name": "stdout",
     "output_type": "stream",
     "text": [
      "Best: 0.972951 using {'max_depth': 56, 'n_estimators': 240}\n",
      "0.964996 (0.002712) with: {'max_depth': 50, 'n_estimators': 240}\n",
      "0.968974 (0.006558) with: {'max_depth': 50, 'n_estimators': 300}\n",
      "0.970565 (0.003843) with: {'max_depth': 50, 'n_estimators': 340}\n",
      "0.968178 (0.000916) with: {'max_depth': 52, 'n_estimators': 240}\n",
      "0.969769 (0.000931) with: {'max_depth': 52, 'n_estimators': 300}\n",
      "0.968974 (0.003656) with: {'max_depth': 52, 'n_estimators': 340}\n",
      "0.968178 (0.001151) with: {'max_depth': 54, 'n_estimators': 240}\n",
      "0.969769 (0.007899) with: {'max_depth': 54, 'n_estimators': 300}\n",
      "0.964996 (0.004636) with: {'max_depth': 54, 'n_estimators': 340}\n",
      "0.972951 (0.002767) with: {'max_depth': 56, 'n_estimators': 240}\n",
      "0.962609 (0.004748) with: {'max_depth': 56, 'n_estimators': 300}\n",
      "0.969769 (0.003825) with: {'max_depth': 56, 'n_estimators': 340}\n",
      "0.966587 (0.001836) with: {'max_depth': 58, 'n_estimators': 240}\n",
      "0.970565 (0.001332) with: {'max_depth': 58, 'n_estimators': 300}\n",
      "0.966587 (0.003637) with: {'max_depth': 58, 'n_estimators': 340}\n",
      "0.970565 (0.003843) with: {'max_depth': 60, 'n_estimators': 240}\n",
      "0.968178 (0.002044) with: {'max_depth': 60, 'n_estimators': 300}\n",
      "0.963405 (0.000887) with: {'max_depth': 60, 'n_estimators': 340}\n",
      "0.968178 (0.003825) with: {'max_depth': 62, 'n_estimators': 240}\n",
      "0.966587 (0.003145) with: {'max_depth': 62, 'n_estimators': 300}\n",
      "0.968974 (0.004937) with: {'max_depth': 62, 'n_estimators': 340}\n",
      "0.971360 (0.006574) with: {'max_depth': 64, 'n_estimators': 240}\n",
      "0.966587 (0.003637) with: {'max_depth': 64, 'n_estimators': 300}\n",
      "0.967383 (0.007618) with: {'max_depth': 64, 'n_estimators': 340}\n"
     ]
    }
   ],
   "source": [
    "from sklearn.ensemble import RandomForestClassifier\n",
    "\n",
    "params = {\"n_estimators\": [240, 300, 340],\n",
    "         \"max_depth\": [i for i in range(50, 65, 2)]}\n",
    "\n",
    "clf = RandomForestClassifier()\n",
    "grid = GridSearchCV(clf, params, cv=3)\n",
    "\n",
    "grid_result = grid.fit(x_train, y_train)\n",
    "\n",
    "# Summary\n",
    "print(\"Best: %f using %s\" % (grid_result.best_score_, grid_result.best_params_))\n",
    "means = grid_result.cv_results_[\"mean_test_score\"]\n",
    "stds = grid_result.cv_results_[\"std_test_score\"]\n",
    "params = grid_result.cv_results_[\"params\"]\n",
    "\n",
    "for mean, stdev, param in zip(means, stds, params):\n",
    "    print(\"%f (%f) with: %r\" % (mean, stdev, param))\n"
   ]
  },
  {
   "cell_type": "code",
   "execution_count": 7,
   "metadata": {},
   "outputs": [
    {
     "name": "stdout",
     "output_type": "stream",
     "text": [
      "Acc:  0.9740740740740741\n"
     ]
    }
   ],
   "source": [
    "clf = RandomForestClassifier(n_estimators=240, max_depth=56)\n",
    "clf.fit(x_train, y_train)\n",
    "y_pred = clf.predict(x_test)\n",
    "acc = accuracy_score(y_test, y_pred)\n",
    "\n",
    "print(\"Acc: \", acc)"
   ]
  },
  {
   "cell_type": "markdown",
   "metadata": {},
   "source": [
    "#### GRADIENT BOOSTING CLASSIFICATION"
   ]
  },
  {
   "cell_type": "code",
   "execution_count": 8,
   "metadata": {
    "scrolled": true
   },
   "outputs": [
    {
     "name": "stdout",
     "output_type": "stream",
     "text": [
      "Best: 0.894988 using {'learning_rate': 0.07, 'max_depth': 60, 'n_estimators': 240}\n",
      "0.884646 (0.011371) with: {'learning_rate': 0.06, 'max_depth': 50, 'n_estimators': 180}\n",
      "0.887033 (0.013291) with: {'learning_rate': 0.06, 'max_depth': 50, 'n_estimators': 220}\n",
      "0.891010 (0.010300) with: {'learning_rate': 0.06, 'max_depth': 50, 'n_estimators': 240}\n",
      "0.885442 (0.014351) with: {'learning_rate': 0.06, 'max_depth': 52, 'n_estimators': 180}\n",
      "0.890215 (0.014338) with: {'learning_rate': 0.06, 'max_depth': 52, 'n_estimators': 220}\n",
      "0.886237 (0.010314) with: {'learning_rate': 0.06, 'max_depth': 52, 'n_estimators': 240}\n",
      "0.887828 (0.012429) with: {'learning_rate': 0.06, 'max_depth': 54, 'n_estimators': 180}\n",
      "0.887033 (0.010858) with: {'learning_rate': 0.06, 'max_depth': 54, 'n_estimators': 220}\n",
      "0.888624 (0.011289) with: {'learning_rate': 0.06, 'max_depth': 54, 'n_estimators': 240}\n",
      "0.890215 (0.013804) with: {'learning_rate': 0.06, 'max_depth': 56, 'n_estimators': 180}\n",
      "0.889419 (0.010205) with: {'learning_rate': 0.06, 'max_depth': 56, 'n_estimators': 220}\n",
      "0.886237 (0.015414) with: {'learning_rate': 0.06, 'max_depth': 56, 'n_estimators': 240}\n",
      "0.884646 (0.013298) with: {'learning_rate': 0.06, 'max_depth': 58, 'n_estimators': 180}\n",
      "0.892601 (0.011961) with: {'learning_rate': 0.06, 'max_depth': 58, 'n_estimators': 220}\n",
      "0.889419 (0.009060) with: {'learning_rate': 0.06, 'max_depth': 58, 'n_estimators': 240}\n",
      "0.889419 (0.010855) with: {'learning_rate': 0.06, 'max_depth': 60, 'n_estimators': 180}\n",
      "0.887033 (0.012710) with: {'learning_rate': 0.06, 'max_depth': 60, 'n_estimators': 220}\n",
      "0.890215 (0.013804) with: {'learning_rate': 0.06, 'max_depth': 60, 'n_estimators': 240}\n",
      "0.891010 (0.006189) with: {'learning_rate': 0.06, 'max_depth': 62, 'n_estimators': 180}\n",
      "0.890215 (0.010167) with: {'learning_rate': 0.06, 'max_depth': 62, 'n_estimators': 220}\n",
      "0.886237 (0.010314) with: {'learning_rate': 0.06, 'max_depth': 62, 'n_estimators': 240}\n",
      "0.887033 (0.012710) with: {'learning_rate': 0.06, 'max_depth': 64, 'n_estimators': 180}\n",
      "0.889419 (0.012411) with: {'learning_rate': 0.06, 'max_depth': 64, 'n_estimators': 220}\n",
      "0.891806 (0.010688) with: {'learning_rate': 0.06, 'max_depth': 64, 'n_estimators': 240}\n",
      "0.891806 (0.009045) with: {'learning_rate': 0.07, 'max_depth': 50, 'n_estimators': 180}\n",
      "0.891806 (0.012702) with: {'learning_rate': 0.07, 'max_depth': 50, 'n_estimators': 220}\n",
      "0.889419 (0.010205) with: {'learning_rate': 0.07, 'max_depth': 50, 'n_estimators': 240}\n",
      "0.891010 (0.012292) with: {'learning_rate': 0.07, 'max_depth': 52, 'n_estimators': 180}\n",
      "0.889419 (0.011255) with: {'learning_rate': 0.07, 'max_depth': 52, 'n_estimators': 220}\n",
      "0.893397 (0.013115) with: {'learning_rate': 0.07, 'max_depth': 52, 'n_estimators': 240}\n",
      "0.891010 (0.012292) with: {'learning_rate': 0.07, 'max_depth': 54, 'n_estimators': 180}\n",
      "0.892601 (0.011426) with: {'learning_rate': 0.07, 'max_depth': 54, 'n_estimators': 220}\n",
      "0.891806 (0.012110) with: {'learning_rate': 0.07, 'max_depth': 54, 'n_estimators': 240}\n",
      "0.891806 (0.011352) with: {'learning_rate': 0.07, 'max_depth': 56, 'n_estimators': 180}\n",
      "0.891806 (0.012148) with: {'learning_rate': 0.07, 'max_depth': 56, 'n_estimators': 220}\n",
      "0.891806 (0.010196) with: {'learning_rate': 0.07, 'max_depth': 56, 'n_estimators': 240}\n",
      "0.891806 (0.012148) with: {'learning_rate': 0.07, 'max_depth': 58, 'n_estimators': 180}\n",
      "0.892601 (0.013149) with: {'learning_rate': 0.07, 'max_depth': 58, 'n_estimators': 220}\n",
      "0.891806 (0.016053) with: {'learning_rate': 0.07, 'max_depth': 58, 'n_estimators': 240}\n",
      "0.889419 (0.015217) with: {'learning_rate': 0.07, 'max_depth': 60, 'n_estimators': 180}\n",
      "0.888624 (0.009749) with: {'learning_rate': 0.07, 'max_depth': 60, 'n_estimators': 220}\n",
      "0.894988 (0.012411) with: {'learning_rate': 0.07, 'max_depth': 60, 'n_estimators': 240}\n",
      "0.891806 (0.010196) with: {'learning_rate': 0.07, 'max_depth': 62, 'n_estimators': 180}\n",
      "0.891010 (0.008088) with: {'learning_rate': 0.07, 'max_depth': 62, 'n_estimators': 220}\n",
      "0.894193 (0.009433) with: {'learning_rate': 0.07, 'max_depth': 62, 'n_estimators': 240}\n",
      "0.890215 (0.011210) with: {'learning_rate': 0.07, 'max_depth': 64, 'n_estimators': 180}\n",
      "0.891806 (0.013186) with: {'learning_rate': 0.07, 'max_depth': 64, 'n_estimators': 220}\n",
      "0.888624 (0.013615) with: {'learning_rate': 0.07, 'max_depth': 64, 'n_estimators': 240}\n"
     ]
    }
   ],
   "source": [
    "from sklearn.ensemble import GradientBoostingClassifier\n",
    "\n",
    "params = {\"learning_rate\": [0.06, 0.07],\n",
    "         \"n_estimators\": [180, 220, 240],\n",
    "         \"max_depth\": [i for i in range(50, 65, 2)]}\n",
    "\n",
    "clf = GradientBoostingClassifier()\n",
    "grid = GridSearchCV(clf, params, cv=3)\n",
    "\n",
    "grid_result = grid.fit(x_train, y_train)\n",
    "\n",
    "# Summary\n",
    "print(\"Best: %f using %s\" % (grid_result.best_score_, grid_result.best_params_))\n",
    "means = grid_result.cv_results_[\"mean_test_score\"]\n",
    "stds = grid_result.cv_results_[\"std_test_score\"]\n",
    "params = grid_result.cv_results_[\"params\"]\n",
    "\n",
    "for mean, stdev, param in zip(means, stds, params):\n",
    "    print(\"%f (%f) with: %r\" % (mean, stdev, param))"
   ]
  },
  {
   "cell_type": "code",
   "execution_count": 9,
   "metadata": {},
   "outputs": [
    {
     "name": "stdout",
     "output_type": "stream",
     "text": [
      "Acc:  0.9407407407407408\n"
     ]
    }
   ],
   "source": [
    "clf = GradientBoostingClassifier(n_estimators=240, max_depth=60, learning_rate=0.06)\n",
    "clf.fit(x_train, y_train)\n",
    "y_pred = clf.predict(x_test)\n",
    "acc = accuracy_score(y_test, y_pred)\n",
    "\n",
    "print(\"Acc: \", acc)"
   ]
  },
  {
   "cell_type": "markdown",
   "metadata": {},
   "source": [
    "#### SVM CLASSIFICATION:"
   ]
  },
  {
   "cell_type": "code",
   "execution_count": 10,
   "metadata": {},
   "outputs": [
    {
     "name": "stdout",
     "output_type": "stream",
     "text": [
      "Best: 0.972156 using {'kernel': 'rbf'}\n",
      "0.968178 (0.008364) with: {'kernel': 'linear'}\n",
      "0.972156 (0.006230) with: {'kernel': 'rbf'}\n",
      "0.945903 (0.004744) with: {'kernel': 'sigmoid'}\n"
     ]
    }
   ],
   "source": [
    "from sklearn.svm import SVC\n",
    "\n",
    "params = {\"kernel\": [\"linear\", \"rbf\", \"sigmoid\"]}\n",
    "\n",
    "clf = SVC()\n",
    "grid = GridSearchCV(clf, params, cv=3)\n",
    "\n",
    "grid_result = grid.fit(x_train, y_train)\n",
    "\n",
    "# Summary\n",
    "print(\"Best: %f using %s\" % (grid_result.best_score_, grid_result.best_params_))\n",
    "means = grid_result.cv_results_[\"mean_test_score\"]\n",
    "stds = grid_result.cv_results_[\"std_test_score\"]\n",
    "params = grid_result.cv_results_[\"params\"]\n",
    "\n",
    "for mean, stdev, param in zip(means, stds, params):\n",
    "    print(\"%f (%f) with: %r\" % (mean, stdev, param))"
   ]
  },
  {
   "cell_type": "code",
   "execution_count": 11,
   "metadata": {},
   "outputs": [
    {
     "name": "stdout",
     "output_type": "stream",
     "text": [
      "Acc:  0.9796296296296296\n"
     ]
    }
   ],
   "source": [
    "clf = SVC(kernel=\"rbf\")\n",
    "clf.fit(x_train, y_train)\n",
    "y_pred = clf.predict(x_test)\n",
    "acc = accuracy_score(y_test, y_pred)\n",
    "\n",
    "print(\"Acc: \", acc)"
   ]
  },
  {
   "cell_type": "markdown",
   "metadata": {},
   "source": [
    "#### BEST MODEL:"
   ]
  },
  {
   "cell_type": "code",
   "execution_count": null,
   "metadata": {},
   "outputs": [],
   "source": []
  }
 ],
 "metadata": {
  "kernelspec": {
   "display_name": "Python 3",
   "language": "python",
   "name": "python3"
  },
  "language_info": {
   "codemirror_mode": {
    "name": "ipython",
    "version": 3
   },
   "file_extension": ".py",
   "mimetype": "text/x-python",
   "name": "python",
   "nbconvert_exporter": "python",
   "pygments_lexer": "ipython3",
   "version": "3.6.5"
  }
 },
 "nbformat": 4,
 "nbformat_minor": 2
}