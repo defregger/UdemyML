{
 "cells": [
  {
   "cell_type": "code",
   "execution_count": 7,
   "metadata": {},
   "outputs": [],
   "source": [
    "import numpy as np\n",
    "np.random.seed(42)\n",
    "import matplotlib.pyplot as plt\n",
    "from sklearn.datasets import load_digits\n",
    "from sklearn.metrics import confusion_matrix\n",
    "from sklearn.metrics import accuracy_score\n",
    "from sklearn.model_selection import train_test_split\n",
    "from sklearn.model_selection import GridSearchCV\n",
    "from sklearn.preprocessing import StandardScaler"
   ]
  },
  {
   "source": [
    "#### Helper"
   ],
   "cell_type": "markdown",
   "metadata": {}
  },
  {
   "cell_type": "code",
   "execution_count": null,
   "metadata": {},
   "outputs": [],
   "source": [
    "def print_grid_cv_results(grid_result):\n",
    "    print(\n",
    "        f\"Best model score: {grid_result.best_score_} \"\n",
    "        f\"Best model params: {grid_result.best_params_} \"\n",
    "    )\n",
    "    means = grid_result.cv_results_[\"mean_test_score\"]\n",
    "    stds = grid_result.cv_results_[\"std_test_score\"]\n",
    "    params = grid_result.cv_results_[\"params\"]\n",
    "\n",
    "    for mean, std, param in zip(means, stds, params):\n",
    "        mean = round(mean, 4)\n",
    "        std = round(std, 4)\n",
    "        print(f\"{mean} (+/- {2 * std}) with: {param}\")"
   ]
  },
  {
   "cell_type": "markdown",
   "metadata": {},
   "source": [
    "#### LOAD DATASET"
   ]
  },
  {
   "cell_type": "code",
   "execution_count": 3,
   "metadata": {},
   "outputs": [],
   "source": [
    "mnist = load_digits()\n",
    "x = mnist.data\n",
    "y = mnist.target\n",
    "\n",
    "x_train, x_test, y_train, y_test = train_test_split(x, y, test_size=0.3)"
   ]
  },
  {
   "cell_type": "markdown",
   "metadata": {},
   "source": [
    "#### NORMALIZE DATASET"
   ]
  },
  {
   "cell_type": "code",
   "execution_count": 4,
   "metadata": {},
   "outputs": [],
   "source": [
    "scaler = StandardScaler()\n",
    "scaler.fit(x_train)\n",
    "\n",
    "x_train = scaler.transform(x_train)\n",
    "x_test = scaler.transform(x_test)"
   ]
  },
  {
   "cell_type": "markdown",
   "metadata": {},
   "source": [
    "#### KNN CLASSIFICATION"
   ]
  },
  {
   "cell_type": "code",
   "execution_count": 5,
   "metadata": {},
   "outputs": [
    {
     "output_type": "stream",
     "name": "stdout",
     "text": [
      "Best model params: 0.9626093874303899 Best model score: {'n_neighbors': 6} \n0.954653937947494 (+/- 0.01558943352606642) with: {'n_neighbors': 2}\n0.9578361177406522 (+/- 0.009000563642788277) with: {'n_neighbors': 4}\n0.9626093874303899 (+/- 0.0022501409106970953) with: {'n_neighbors': 6}\n0.958631662688942 (+/- 0.009808136838455038) with: {'n_neighbors': 8}\n0.954653937947494 (+/- 0.010311441047586103) with: {'n_neighbors': 10}\n0.9498806682577565 (+/- 0.0038973583815165823) with: {'n_neighbors': 12}\n0.9498806682577565 (+/- 0.016988191331792) with: {'n_neighbors': 14}\n0.9474940334128878 (+/- 0.01698819133179204) with: {'n_neighbors': 16}\n0.9411296738265712 (+/- 0.014755160692912809) with: {'n_neighbors': 18}\n0.9395385839299921 (+/- 0.019999689880630885) with: {'n_neighbors': 20}\n"
     ]
    }
   ],
   "source": [
    "from sklearn.neighbors import KNeighborsClassifier\n",
    "\n",
    "params = {\n",
    "    \"n_neighbors\": [i for i in range(2, 22, 2)]\n",
    "}\n",
    "\n",
    "clf = KNeighborsClassifier()\n",
    "\n",
    "grid = GridSearchCV(clf, params, cv=3)\n",
    "grid_result = grid.fit(x_train, y_train)\n",
    "\n",
    "print_grid_cv_results(grid_result)"
   ]
  },
  {
   "cell_type": "markdown",
   "metadata": {},
   "source": [
    "#### RANDOM FOREST CLASSIFICATION"
   ]
  },
  {
   "cell_type": "code",
   "execution_count": 6,
   "metadata": {
    "scrolled": true
   },
   "outputs": [
    {
     "output_type": "stream",
     "name": "stdout",
     "text": [
      "Best model params: 0.971360381861575 Best model score: {'max_depth': 32, 'n_estimators': 340} \n0.9689737470167064 (+/- 0.007794716763033165) with: {'max_depth': 20, 'n_estimators': 340}\n0.9681782020684168 (+/- 0.00811299843053744) with: {'max_depth': 22, 'n_estimators': 340}\n0.9673826571201273 (+/- 0.011250704553485162) with: {'max_depth': 24, 'n_estimators': 340}\n0.9689737470167064 (+/- 0.0038973583815165823) with: {'max_depth': 26, 'n_estimators': 340}\n0.9681782020684168 (+/- 0.00811299843053744) with: {'max_depth': 28, 'n_estimators': 340}\n0.9689737470167064 (+/- 0.014052125483417333) with: {'max_depth': 30, 'n_estimators': 340}\n0.971360381861575 (+/- 0.007794716763033165) with: {'max_depth': 32, 'n_estimators': 340}\n0.9673826571201273 (+/- 0.009000563642788173) with: {'max_depth': 34, 'n_estimators': 340}\n0.969769291964996 (+/- 0.011906626529113546) with: {'max_depth': 36, 'n_estimators': 340}\n0.9673826571201273 (+/- 0.014755160692912809) with: {'max_depth': 38, 'n_estimators': 340}\n0.9697692919649961 (+/- 0.0022501409106969903) with: {'max_depth': 40, 'n_estimators': 340}\n0.9673826571201273 (+/- 0.00811299843053744) with: {'max_depth': 42, 'n_estimators': 340}\n0.9673826571201273 (+/- 0.009808136838455038) with: {'max_depth': 44, 'n_estimators': 340}\n0.9681782020684168 (+/- 0.00811299843053744) with: {'max_depth': 46, 'n_estimators': 340}\n0.9689737470167064 (+/- 0.006750422732091181) with: {'max_depth': 48, 'n_estimators': 340}\n0.969769291964996 (+/- 0.009808136838454943) with: {'max_depth': 50, 'n_estimators': 340}\n"
     ]
    }
   ],
   "source": [
    "from sklearn.ensemble import RandomForestClassifier\n",
    "\n",
    "params = {\n",
    "    \"n_estimators\": [340],\n",
    "    \"max_depth\": [i for i in range(20, 52, 2)]\n",
    "}\n",
    "\n",
    "clf = RandomForestClassifier()\n",
    "\n",
    "grid = GridSearchCV(clf, params, cv=3, n_jobs=-1)\n",
    "grid_result = grid.fit(x_train, y_train)\n",
    "\n",
    "print_grid_cv_results(grid_result)"
   ]
  },
  {
   "cell_type": "markdown",
   "metadata": {},
   "source": [
    "#### GRADIENT BOOSTING CLASSIFICATION"
   ]
  },
  {
   "cell_type": "code",
   "execution_count": 8,
   "metadata": {
    "scrolled": true
   },
   "outputs": [],
   "source": [
    "from sklearn.ensemble import GradientBoostingClassifier\n",
    "\n",
    "params = {\n",
    "    \"n_estimators\": [340],\n",
    "    \"max_depth\": [i for i in range(20, 52, 2)],\n",
    "    \"learning_rate\": [0.07]\n",
    "}\n",
    "\n",
    "clf = GradientBoostingClassifier()\n",
    "\n",
    "grid = GridSearchCV(clf, params, cv=3, n_jobs=-1)\n",
    "grid_result = grid.fit(x_train, y_train)\n",
    "\n",
    "print_grid_cv_results(grid_result)"
   ]
  },
  {
   "cell_type": "markdown",
   "metadata": {},
   "source": [
    "#### SVM CLASSIFICATION:"
   ]
  },
  {
   "cell_type": "code",
   "execution_count": 18,
   "metadata": {},
   "outputs": [
    {
     "name": "stdout",
     "output_type": "stream",
     "text": [
      "Best: 0.972156 using {'kernel': 'rbf'}\n",
      "0.968178 (0.008364) with: {'kernel': 'linear'}\n",
      "0.945903 (0.004744) with: {'kernel': 'sigmoid'}\n",
      "0.972156 (0.006230) with: {'kernel': 'rbf'}\n",
      "0.893397 (0.018509) with: {'kernel': 'poly'}\n"
     ]
    }
   ],
   "source": [
    "from sklearn.svm import SVC\n",
    "\n",
    "params = {\n",
    "    \"kernel\": [\"linear\", \"sigmoid\", \"rbf\", \"poly\"]\n",
    "}\n",
    "\n",
    "clf = SVC()\n",
    "\n",
    "grid = GridSearchCV(clf, params, cv=3, n_jobs=-1)\n",
    "grid_result = grid.fit(x_train, y_train)\n",
    "\n",
    "print_grid_cv_results(grid_result)"
   ]
  },
  {
   "cell_type": "markdown",
   "metadata": {},
   "source": [
    "#### BEST MODEL:"
   ]
  },
  {
   "cell_type": "code",
   "execution_count": 20,
   "metadata": {},
   "outputs": [
    {
     "name": "stdout",
     "output_type": "stream",
     "text": [
      "[[53  0  0  0  0  0  0  0  0  0]\n",
      " [ 0 50  0  0  0  0  0  0  0  0]\n",
      " [ 0  0 47  0  0  0  0  0  0  0]\n",
      " [ 0  0  2 51  0  1  0  0  0  0]\n",
      " [ 0  0  0  0 60  0  0  0  0  0]\n",
      " [ 0  0  0  0  0 66  0  0  0  0]\n",
      " [ 0  0  0  0  0  0 53  0  0  0]\n",
      " [ 0  0  0  0  1  0  0 53  0  1]\n",
      " [ 0  0  1  1  0  0  0  0 41  0]\n",
      " [ 0  0  0  0  0  1  1  0  2 55]]\n"
     ]
    }
   ],
   "source": [
    "regr = SVC(kernel=\"rbf\")\n",
    "regr.fit(x_train, y_train)\n",
    "y_pred = regr.predict(x_test)\n",
    "\n",
    "cm = confusion_matrix(y_test, y_pred)\n",
    "acc = accuracy_score(x_test, y_test)\n",
    "\n",
    "print(f\"Accuracy: {acc}\")\n",
    "print(f\"Confusion matrix:\\n{cm}\")"
   ]
  }
 ],
 "metadata": {
  "kernelspec": {
   "display_name": "Python 3",
   "language": "python",
   "name": "python3"
  },
  "language_info": {
   "codemirror_mode": {
    "name": "ipython",
    "version": 3
   },
   "file_extension": ".py",
   "mimetype": "text/x-python",
   "name": "python",
   "nbconvert_exporter": "python",
   "pygments_lexer": "ipython3",
   "version": "3.8.3-final"
  }
 },
 "nbformat": 4,
 "nbformat_minor": 2
}