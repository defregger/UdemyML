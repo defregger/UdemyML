{
 "cells": [
  {
   "cell_type": "code",
   "execution_count": 1,
   "metadata": {},
   "outputs": [],
   "source": [
    "import numpy as np\n",
    "np.random.seed(42)\n",
    "import matplotlib.pyplot as plt\n",
    "from sklearn.datasets import load_digits\n",
    "from sklearn.metrics import *\n",
    "from sklearn.model_selection import *\n",
    "from sklearn.preprocessing import *"
   ]
  },
  {
   "cell_type": "markdown",
   "metadata": {},
   "source": [
    "#### LOAD DATASET"
   ]
  },
  {
   "cell_type": "code",
   "execution_count": 2,
   "metadata": {},
   "outputs": [],
   "source": [
    "mnist = load_digits()\n",
    "x, y = mnist.data, mnist.target\n",
    "x_train, x_test, y_train, y_test = train_test_split(x, y, random_state=42, test_size=0.3)"
   ]
  },
  {
   "cell_type": "markdown",
   "metadata": {},
   "source": [
    "#### NORMALIZE DATASET"
   ]
  },
  {
   "cell_type": "code",
   "execution_count": 3,
   "metadata": {},
   "outputs": [],
   "source": [
    "scaler = StandardScaler()\n",
    "scaler.fit(x_train)\n",
    "x_train = scaler.transform(x_train)\n",
    "x_test = scaler.transform(x_test)"
   ]
  },
  {
   "cell_type": "markdown",
   "metadata": {},
   "source": [
    "#### KNN CLASSIFICATION"
   ]
  },
  {
   "cell_type": "code",
   "execution_count": 4,
   "metadata": {},
   "outputs": [
    {
     "output_type": "stream",
     "name": "stdout",
     "text": [
      "Best: 0.962609 using {'n_neighbors': 6}\n0.954654 (0.007795) with: {'n_neighbors': 2}\n0.957836 (0.004500) with: {'n_neighbors': 4}\n0.962609 (0.001125) with: {'n_neighbors': 6}\n0.958632 (0.004904) with: {'n_neighbors': 8}\n0.954654 (0.005156) with: {'n_neighbors': 10}\n0.949881 (0.001949) with: {'n_neighbors': 12}\n0.949881 (0.008494) with: {'n_neighbors': 14}\n0.947494 (0.008494) with: {'n_neighbors': 16}\n0.941130 (0.007378) with: {'n_neighbors': 18}\n0.939539 (0.010000) with: {'n_neighbors': 20}\n"
     ]
    }
   ],
   "source": [
    "from sklearn.neighbors import KNeighborsClassifier\n",
    "\n",
    "params = {\"n_neighbors\": [i for i in range(2, 22, 2)]}\n",
    "\n",
    "clf = KNeighborsClassifier()\n",
    "grid = GridSearchCV(clf, params, cv=3)\n",
    "\n",
    "grid_result = grid.fit(x_train, y_train)\n",
    "\n",
    "# Summary\n",
    "print(\"Best: %f using %s\" % (grid_result.best_score_, grid_result.best_params_))\n",
    "means = grid_result.cv_results_[\"mean_test_score\"]\n",
    "stds = grid_result.cv_results_[\"std_test_score\"]\n",
    "params = grid_result.cv_results_[\"params\"]\n",
    "\n",
    "for mean, stdev, param in zip(means, stds, params):\n",
    "    print(\"%f (%f) with: %r\" % (mean, stdev, param))"
   ]
  },
  {
   "cell_type": "code",
   "execution_count": 5,
   "metadata": {},
   "outputs": [
    {
     "output_type": "stream",
     "name": "stdout",
     "text": [
      "ACC:  0.9722222222222222\n"
     ]
    }
   ],
   "source": [
    "regr = KNeighborsClassifier(n_neighbors=6)\n",
    "regr.fit(x_train, y_train)\n",
    "y_pred = regr.predict(x_test)\n",
    "\n",
    "acc = accuracy_score(y_test, y_pred)\n",
    "\n",
    "print(\"ACC: \", acc)"
   ]
  },
  {
   "cell_type": "markdown",
   "metadata": {},
   "source": [
    "#### RANDOM FOREST CLASSIFICATION"
   ]
  },
  {
   "cell_type": "code",
   "execution_count": 6,
   "metadata": {
    "scrolled": true
   },
   "outputs": [
    {
     "output_type": "stream",
     "name": "stdout",
     "text": [
      "Best: 0.971360 using {'max_depth': 42, 'n_estimators': 340}\n0.968974 (0.005156) with: {'max_depth': 20, 'n_estimators': 340}\n0.967383 (0.004056) with: {'max_depth': 22, 'n_estimators': 340}\n0.968178 (0.002977) with: {'max_depth': 24, 'n_estimators': 340}\n0.967383 (0.007875) with: {'max_depth': 26, 'n_estimators': 340}\n0.966587 (0.003897) with: {'max_depth': 28, 'n_estimators': 340}\n0.968178 (0.004904) with: {'max_depth': 30, 'n_estimators': 340}\n0.968178 (0.007875) with: {'max_depth': 32, 'n_estimators': 340}\n0.970565 (0.008787) with: {'max_depth': 34, 'n_estimators': 340}\n0.964996 (0.004056) with: {'max_depth': 36, 'n_estimators': 340}\n0.968178 (0.002977) with: {'max_depth': 38, 'n_estimators': 340}\n0.968178 (0.001125) with: {'max_depth': 40, 'n_estimators': 340}\n0.971360 (0.005156) with: {'max_depth': 42, 'n_estimators': 340}\n0.964996 (0.005953) with: {'max_depth': 44, 'n_estimators': 340}\n0.967383 (0.006264) with: {'max_depth': 46, 'n_estimators': 340}\n0.970565 (0.001125) with: {'max_depth': 48, 'n_estimators': 340}\n0.968974 (0.001949) with: {'max_depth': 50, 'n_estimators': 340}\n"
     ]
    }
   ],
   "source": [
    "from sklearn.ensemble import RandomForestClassifier\n",
    "\n",
    "params = {\"n_estimators\": [340],\n",
    "         \"max_depth\": [i for i in range(20, 52, 2)]}\n",
    "\n",
    "clf = RandomForestClassifier()\n",
    "grid = GridSearchCV(clf, params, cv=3, n_jobs=-1)\n",
    "\n",
    "grid_result = grid.fit(x_train, y_train)\n",
    "\n",
    "# Summary\n",
    "print(\"Best: %f using %s\" % (grid_result.best_score_, grid_result.best_params_))\n",
    "means = grid_result.cv_results_[\"mean_test_score\"]\n",
    "stds = grid_result.cv_results_[\"std_test_score\"]\n",
    "params = grid_result.cv_results_[\"params\"]\n",
    "\n",
    "for mean, stdev, param in zip(means, stds, params):\n",
    "    print(\"%f (%f) with: %r\" % (mean, stdev, param))"
   ]
  },
  {
   "cell_type": "code",
   "execution_count": 7,
   "metadata": {},
   "outputs": [
    {
     "output_type": "stream",
     "name": "stdout",
     "text": [
      "ACC:  0.9740740740740741\n"
     ]
    }
   ],
   "source": [
    "regr = RandomForestClassifier(max_depth=30, n_estimators=340)\n",
    "regr.fit(x_train, y_train)\n",
    "y_pred = regr.predict(x_test)\n",
    "\n",
    "acc = accuracy_score(y_test, y_pred)\n",
    "\n",
    "print(\"ACC: \", acc)"
   ]
  },
  {
   "cell_type": "markdown",
   "metadata": {},
   "source": [
    "#### GRADIENT BOOSTING CLASSIFICATION"
   ]
  },
  {
   "cell_type": "code",
   "execution_count": 15,
   "metadata": {
    "scrolled": true
   },
   "outputs": [
    {
     "name": "stdout",
     "output_type": "stream",
     "text": [
      "Best: 0.893397 using {'learning_rate': 0.07, 'max_depth': 38, 'n_estimators': 340}\n",
      "0.891806 (0.009045) with: {'learning_rate': 0.07, 'max_depth': 20, 'n_estimators': 340}\n",
      "0.891806 (0.010196) with: {'learning_rate': 0.07, 'max_depth': 22, 'n_estimators': 340}\n",
      "0.891010 (0.014176) with: {'learning_rate': 0.07, 'max_depth': 24, 'n_estimators': 340}\n",
      "0.890215 (0.012423) with: {'learning_rate': 0.07, 'max_depth': 26, 'n_estimators': 340}\n",
      "0.890215 (0.011002) with: {'learning_rate': 0.07, 'max_depth': 28, 'n_estimators': 340}\n",
      "0.890215 (0.013157) with: {'learning_rate': 0.07, 'max_depth': 30, 'n_estimators': 340}\n",
      "0.891010 (0.016120) with: {'learning_rate': 0.07, 'max_depth': 32, 'n_estimators': 340}\n",
      "0.889419 (0.014110) with: {'learning_rate': 0.07, 'max_depth': 34, 'n_estimators': 340}\n",
      "0.890215 (0.011439) with: {'learning_rate': 0.07, 'max_depth': 36, 'n_estimators': 340}\n",
      "0.893397 (0.011162) with: {'learning_rate': 0.07, 'max_depth': 38, 'n_estimators': 340}\n",
      "0.891806 (0.009306) with: {'learning_rate': 0.07, 'max_depth': 40, 'n_estimators': 340}\n",
      "0.890215 (0.008644) with: {'learning_rate': 0.07, 'max_depth': 42, 'n_estimators': 340}\n",
      "0.890215 (0.013157) with: {'learning_rate': 0.07, 'max_depth': 44, 'n_estimators': 340}\n",
      "0.891010 (0.009746) with: {'learning_rate': 0.07, 'max_depth': 46, 'n_estimators': 340}\n",
      "0.889419 (0.013197) with: {'learning_rate': 0.07, 'max_depth': 48, 'n_estimators': 340}\n",
      "0.893397 (0.010293) with: {'learning_rate': 0.07, 'max_depth': 50, 'n_estimators': 340}\n"
     ]
    }
   ],
   "source": [
    "from sklearn.ensemble import GradientBoostingClassifier\n",
    "\n",
    "params = {\"n_estimators\": [340],\n",
    "         \"max_depth\": [i for i in range(20, 52, 2)],\n",
    "         \"learning_rate\": [0.07]}\n",
    "\n",
    "clf = GradientBoostingClassifier()\n",
    "grid = GridSearchCV(clf, params, cv=3, n_jobs=-1)\n",
    "\n",
    "grid_result = grid.fit(x_train, y_train)\n",
    "\n",
    "# Summary\n",
    "print(\"Best: %f using %s\" % (grid_result.best_score_, grid_result.best_params_))\n",
    "means = grid_result.cv_results_[\"mean_test_score\"]\n",
    "stds = grid_result.cv_results_[\"std_test_score\"]\n",
    "params = grid_result.cv_results_[\"params\"]\n",
    "\n",
    "for mean, stdev, param in zip(means, stds, params):\n",
    "    print(\"%f (%f) with: %r\" % (mean, stdev, param))"
   ]
  },
  {
   "cell_type": "code",
   "execution_count": 17,
   "metadata": {},
   "outputs": [
    {
     "name": "stdout",
     "output_type": "stream",
     "text": [
      "ACC:  0.9333333333333333\n"
     ]
    }
   ],
   "source": [
    "regr = GradientBoostingClassifier(max_depth=50, n_estimators=240, learning_rate=0.07)\n",
    "regr.fit(x_train, y_train)\n",
    "y_pred = regr.predict(x_test)\n",
    "\n",
    "acc = accuracy_score(y_test, y_pred)\n",
    "\n",
    "print(\"ACC: \", acc)"
   ]
  },
  {
   "cell_type": "markdown",
   "metadata": {},
   "source": [
    "#### SVM CLASSIFICATION:"
   ]
  },
  {
   "cell_type": "code",
   "execution_count": 18,
   "metadata": {},
   "outputs": [
    {
     "name": "stdout",
     "output_type": "stream",
     "text": [
      "Best: 0.972156 using {'kernel': 'rbf'}\n",
      "0.968178 (0.008364) with: {'kernel': 'linear'}\n",
      "0.945903 (0.004744) with: {'kernel': 'sigmoid'}\n",
      "0.972156 (0.006230) with: {'kernel': 'rbf'}\n",
      "0.893397 (0.018509) with: {'kernel': 'poly'}\n"
     ]
    }
   ],
   "source": [
    "from sklearn.svm import SVC\n",
    "\n",
    "params = {\"kernel\": [\"linear\", \"sigmoid\", \"rbf\", \"poly\"]}\n",
    "\n",
    "clf = SVC()\n",
    "grid = GridSearchCV(clf, params, cv=3, n_jobs=-1)\n",
    "\n",
    "grid_result = grid.fit(x_train, y_train)\n",
    "\n",
    "# Summary\n",
    "print(\"Best: %f using %s\" % (grid_result.best_score_, grid_result.best_params_))\n",
    "means = grid_result.cv_results_[\"mean_test_score\"]\n",
    "stds = grid_result.cv_results_[\"std_test_score\"]\n",
    "params = grid_result.cv_results_[\"params\"]\n",
    "\n",
    "for mean, stdev, param in zip(means, stds, params):\n",
    "    print(\"%f (%f) with: %r\" % (mean, stdev, param))"
   ]
  },
  {
   "cell_type": "code",
   "execution_count": 19,
   "metadata": {},
   "outputs": [
    {
     "name": "stdout",
     "output_type": "stream",
     "text": [
      "ACC:  0.9796296296296296\n"
     ]
    }
   ],
   "source": [
    "regr = SVC(kernel=\"rbf\")\n",
    "regr.fit(x_train, y_train)\n",
    "y_pred = regr.predict(x_test)\n",
    "\n",
    "acc = accuracy_score(y_test, y_pred)\n",
    "\n",
    "print(\"ACC: \", acc)"
   ]
  },
  {
   "cell_type": "markdown",
   "metadata": {},
   "source": [
    "#### BEST MODEL:"
   ]
  },
  {
   "cell_type": "code",
   "execution_count": 20,
   "metadata": {},
   "outputs": [
    {
     "name": "stdout",
     "output_type": "stream",
     "text": [
      "[[53  0  0  0  0  0  0  0  0  0]\n",
      " [ 0 50  0  0  0  0  0  0  0  0]\n",
      " [ 0  0 47  0  0  0  0  0  0  0]\n",
      " [ 0  0  2 51  0  1  0  0  0  0]\n",
      " [ 0  0  0  0 60  0  0  0  0  0]\n",
      " [ 0  0  0  0  0 66  0  0  0  0]\n",
      " [ 0  0  0  0  0  0 53  0  0  0]\n",
      " [ 0  0  0  0  1  0  0 53  0  1]\n",
      " [ 0  0  1  1  0  0  0  0 41  0]\n",
      " [ 0  0  0  0  0  1  1  0  2 55]]\n"
     ]
    }
   ],
   "source": [
    "regr = SVC(kernel=\"rbf\")\n",
    "regr.fit(x_train, y_train)\n",
    "y_pred = regr.predict(x_test)\n",
    "\n",
    "cm = confusion_matrix(y_test, y_pred)\n",
    "print(cm)"
   ]
  }
 ],
 "metadata": {
  "kernelspec": {
   "display_name": "Python 3",
   "language": "python",
   "name": "python3"
  },
  "language_info": {
   "codemirror_mode": {
    "name": "ipython",
    "version": 3
   },
   "file_extension": ".py",
   "mimetype": "text/x-python",
   "name": "python",
   "nbconvert_exporter": "python",
   "pygments_lexer": "ipython3",
   "version": "3.8.3-final"
  }
 },
 "nbformat": 4,
 "nbformat_minor": 2
}