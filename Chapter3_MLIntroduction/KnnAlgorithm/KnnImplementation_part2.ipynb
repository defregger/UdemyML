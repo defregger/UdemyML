{
 "cells": [
  {
   "cell_type": "markdown",
   "metadata": {},
   "source": [
    "### K-Nearest Neighbor Algorithmus:\n",
    "\n",
    "#### Parameter:  \n",
    "\n",
    "dataset = (X, Y)  \n",
    "mit X := Features  \n",
    "und Y := Classes  \n",
    "\n",
    "K := Hyperparameter für die nächsten k Nachbarn  \n",
    "sample := Neuer Datenpunkt zum Klassifizieren \n",
    "\n",
    "#### Pseudo-Code:\n",
    "\n",
    "kNN (dataset, K, sample):  \n",
    "  - Bestimme von jedem Punkt $p \\in dataset$ die Distanz, mit der geg. Distanzfunktion.\n",
    "  - Bestimme die $K$ nächst gelegenen Nachbarn und bestimme die zugehörige Klasse von $sample$.  "
   ]
  },
  {
   "cell_type": "code",
   "execution_count": 3,
   "metadata": {},
   "outputs": [],
   "source": [
    "import numpy as np\n",
    "\n",
    "def generate_dataset():\n",
    "    cov = np.array([[1, 0], [0, 1]])\n",
    "    data1 = np.random.multivariate_normal(np.array([0, 0]), cov, 10)\n",
    "    data2 = np.random.multivariate_normal(np.array([-10, 4]), cov, 6)\n",
    "    data3 = np.random.multivariate_normal(np.array([10, 10]), cov, 13)\n",
    "    data = np.concatenate((data1, data2, data3), axis=0)\n",
    "    classes = np.array([0 for i in range(10)] + [1 for i in range(6)] + [2 for i in range(13)])\n",
    "    return data, classes"
   ]
  },
  {
   "cell_type": "code",
   "execution_count": 4,
   "metadata": {},
   "outputs": [],
   "source": [
    "dataset, classes = generate_dataset()"
   ]
  },
  {
   "cell_type": "code",
   "execution_count": 5,
   "metadata": {
    "scrolled": true
   },
   "outputs": [
    {
     "name": "stdout",
     "output_type": "stream",
     "text": [
      "Dataset and Classes!\n",
      "[[  0.0921622    0.23579085]\n",
      " [  0.62153653  -0.3278358 ]\n",
      " [  1.01016889   1.53341789]\n",
      " [ -0.5974727   -1.2460667 ]\n",
      " [ -1.06840366  -1.06037601]\n",
      " [ -2.37499364   1.10729724]\n",
      " [ -0.26901988   2.00168539]\n",
      " [ -1.47351884  -0.70147166]\n",
      " [  0.65776111  -0.12152586]\n",
      " [ -0.46560795   0.82609124]\n",
      " [ -8.71774023   3.94064441]\n",
      " [ -7.74184519   5.35124037]\n",
      " [-12.05317391   4.41906967]\n",
      " [-10.07444075   3.60719128]\n",
      " [ -9.75763364   3.96910718]\n",
      " [-10.74353821   4.31241612]\n",
      " [  9.28240479  10.03659292]\n",
      " [ 10.31256003  11.12969897]\n",
      " [ 11.59297297   9.8648735 ]\n",
      " [ 11.61597891   9.74361956]\n",
      " [ 10.29645922  10.16904074]\n",
      " [  8.53994804   8.81148286]\n",
      " [  9.04569404   9.12691126]\n",
      " [ 10.35381452  10.70795977]\n",
      " [ 12.31867561   9.00990326]\n",
      " [  9.91443079  11.45201178]\n",
      " [  8.84839068   9.44976941]\n",
      " [  9.96961131   9.57154497]\n",
      " [ 10.19232414   8.65959813]]\n",
      "[0 0 0 0 0 0 0 0 0 0 1 1 1 1 1 1 2 2 2 2 2 2 2 2 2 2 2 2 2]\n"
     ]
    }
   ],
   "source": [
    "print(\"Dataset and Classes!\")\n",
    "print(dataset)\n",
    "print(classes)"
   ]
  },
  {
   "cell_type": "code",
   "execution_count": 6,
   "metadata": {},
   "outputs": [],
   "source": [
    "import matplotlib.pyplot as plt\n",
    "\n",
    "def plot_dataset(dataset, classes):\n",
    "    colors = [\"red\", \"blue\", \"green\"]\n",
    "    for index, point in enumerate(dataset):\n",
    "        plt.scatter(point[0], point[1], color=colors[classes[index]])\n",
    "    plt.show()"
   ]
  },
  {
   "cell_type": "code",
   "execution_count": 7,
   "metadata": {
    "scrolled": true
   },
   "outputs": [
    {
     "data": {
      "image/png": "[encoded data removed]",
      "text/plain": [
       "<Figure size 432x288 with 1 Axes>"
      ]
     },
     "metadata": {},
     "output_type": "display_data"
    }
   ],
   "source": [
    "plot_dataset(dataset, classes)"
   ]
  },
  {
   "cell_type": "code",
   "execution_count": 8,
   "metadata": {},
   "outputs": [],
   "source": [
    "def distance(p1, p2):\n",
    "    distance = np.linalg.norm(p1 - p2)\n",
    "    return distance"
   ]
  },
  {
   "cell_type": "code",
   "execution_count": 39,
   "metadata": {},
   "outputs": [],
   "source": [
    "def vote(neighbours, num_classes):\n",
    "    votes = [0 for i in range(num_classes)]\n",
    "    for neigh in neighbours:\n",
    "        cl = neigh[1]\n",
    "        votes[cl] += 1\n",
    "    voted_class = np.argmax(votes)\n",
    "    return voted_class"
   ]
  },
  {
   "cell_type": "code",
   "execution_count": 42,
   "metadata": {},
   "outputs": [],
   "source": [
    "def KNN(dataset, classes, num_classes, K, sample):\n",
    "    num_samples = dataset.shape[0]\n",
    "    num_features = dataset.shape[1]\n",
    "    # List with distances from sample to dataset\n",
    "    neighbours = sorted([(distance(sample, dataset[i]), classes[i], dataset[i]) for i in range(num_samples)])\n",
    "    neighbours = neighbours[:K]\n",
    "    voted_class = vote(neighbours, num_classes)\n",
    "    return voted_class"
   ]
  },
  {
   "cell_type": "code",
   "execution_count": 43,
   "metadata": {},
   "outputs": [
    {
     "data": {
      "text/plain": [
       "0"
      ]
     },
     "execution_count": 43,
     "metadata": {},
     "output_type": "execute_result"
    }
   ],
   "source": [
    "K = 3\n",
    "num_classes = 3\n",
    "sample = np.array([0, 6])\n",
    "\n",
    "KNN(dataset, classes, num_classes, K, sample)"
   ]
  },
  {
   "cell_type": "code",
   "execution_count": null,
   "metadata": {},
   "outputs": [],
   "source": []
  }
 ],
 "metadata": {
  "kernelspec": {
   "display_name": "Python 3",
   "language": "python",
   "name": "python3"
  },
  "language_info": {
   "codemirror_mode": {
    "name": "ipython",
    "version": 3
   },
   "file_extension": ".py",
   "mimetype": "text/x-python",
   "name": "python",
   "nbconvert_exporter": "python",
   "pygments_lexer": "ipython3",
   "version": "3.6.5"
  }
 },
 "nbformat": 4,
 "nbformat_minor": 2
}
