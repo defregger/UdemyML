{
 "cells": [
  {
   "cell_type": "markdown",
   "metadata": {},
   "source": [
    "### K-Nearest Neighbor Algorithmus:\n",
    "\n",
    "#### Parameter:  \n",
    "\n",
    "dataset = (X, Y)  \n",
    "mit X := Features  \n",
    "und Y := Classes  \n",
    "\n",
    "K := Hyperparameter für die nächsten k Nachbarn  \n",
    "sample := Neuer Datenpunkt zum Klassifizieren \n",
    "\n",
    "#### Pseudo-Code:\n",
    "\n",
    "kNN (dataset, K, sample):  \n",
    "  - Bestimme von jedem Punkt $p \\in dataset$ die Distanz, mit der geg. Distanzfunktion.\n",
    "  - Bestimme die $K$ nächst gelegenen Nachbarn und bestimme die zugehörige Klasse von $sample$.  "
   ]
  },
  {
   "cell_type": "code",
   "execution_count": 7,
   "metadata": {},
   "outputs": [],
   "source": [
    "import numpy as np\n",
    "\n",
    "def generate_dataset():\n",
    "    cov = np.array([[1, 0], [0, 1]])\n",
    "    data1 = np.random.multivariate_normal(np.array([0, 0]), cov, 10)\n",
    "    data2 = np.random.multivariate_normal(np.array([-10, 4]), cov, 6)\n",
    "    data3 = np.random.multivariate_normal(np.array([10, 10]), cov, 13)\n",
    "    data = np.concatenate((data1, data2, data3), axis=0)\n",
    "    classes = np.array([0 for i in range(10)] + [1 for i in range(6)] + [2 for i in range(13)])\n",
    "    return data, classes"
   ]
  },
  {
   "cell_type": "code",
   "execution_count": 9,
   "metadata": {},
   "outputs": [],
   "source": [
    "dataset, classes = generate_dataset()"
   ]
  },
  {
   "cell_type": "code",
   "execution_count": 12,
   "metadata": {
    "scrolled": true
   },
   "outputs": [
    {
     "name": "stdout",
     "output_type": "stream",
     "text": [
      "(29, 2)\n",
      "(29,)\n",
      "Datase, Classes\n",
      "[[ -0.05025786  -0.73941653]\n",
      " [ -1.67996516   0.89255048]\n",
      " [ -0.04008903   0.2487042 ]\n",
      " [  0.40103684   1.23480958]\n",
      " [  0.53010478  -0.32075647]\n",
      " [ -2.05983647  -0.67226152]\n",
      " [ -0.38801679  -0.05777177]\n",
      " [  0.62756021  -1.42554435]\n",
      " [  0.12878829   1.7985037 ]\n",
      " [ -0.95442692  -0.37757538]\n",
      " [-11.01240373   3.65687754]\n",
      " [ -9.84638684   5.38796953]\n",
      " [ -9.64675075   3.1158553 ]\n",
      " [-10.35024526   4.45455292]\n",
      " [-10.00540981   3.50152622]\n",
      " [-10.51733596   2.29269731]\n",
      " [  9.04544025  10.27158924]\n",
      " [  8.60324231  11.53569226]\n",
      " [  8.65941273   9.66575309]\n",
      " [ 11.43926704  10.71565808]\n",
      " [ 11.08353274   9.88305213]\n",
      " [  8.70770812   8.72565598]\n",
      " [ 10.43310112   9.29629883]\n",
      " [  9.71307699   9.50976591]\n",
      " [  9.59553146   9.30000186]\n",
      " [ 10.38836724   9.95600848]\n",
      " [ 12.18417824  10.15602059]\n",
      " [ 11.40881661   9.52483175]\n",
      " [  8.86344511   8.60494325]]\n",
      "[0 0 0 0 0 0 0 0 0 0 1 1 1 1 1 1 2 2 2 2 2 2 2 2 2 2 2 2 2]\n"
     ]
    }
   ],
   "source": [
    "print(dataset.shape)\n",
    "print(classes.shape)\n",
    "\n",
    "print(\"Datase, Classes\")\n",
    "print(dataset)\n",
    "print(classes)"
   ]
  },
  {
   "cell_type": "code",
   "execution_count": 17,
   "metadata": {},
   "outputs": [],
   "source": [
    "import matplotlib.pyplot as plt\n",
    "\n",
    "def plot_dataset(dataset, classes):\n",
    "    colors = [\"red\", \"blue\", \"green\"]\n",
    "    for index, point in enumerate(dataset):\n",
    "        plt.scatter(point[0], point[1], color=colors[classes[index]])\n",
    "    plt.show()"
   ]
  },
  {
   "cell_type": "code",
   "execution_count": 18,
   "metadata": {
    "scrolled": true
   },
   "outputs": [
    {
     "data": {
      "image/png": "[encoded data removed]",
      "text/plain": [
       "<Figure size 432x288 with 1 Axes>"
      ]
     },
     "metadata": {},
     "output_type": "display_data"
    }
   ],
   "source": [
    "plot_dataset(dataset, classes)"
   ]
  }
 ],
 "metadata": {
  "kernelspec": {
   "display_name": "Python 3",
   "language": "python",
   "name": "python3"
  },
  "language_info": {
   "codemirror_mode": {
    "name": "ipython",
    "version": 3
   },
   "file_extension": ".py",
   "mimetype": "text/x-python",
   "name": "python",
   "nbconvert_exporter": "python",
   "pygments_lexer": "ipython3",
   "version": "3.6.5"
  }
 },
 "nbformat": 4,
 "nbformat_minor": 2
}
