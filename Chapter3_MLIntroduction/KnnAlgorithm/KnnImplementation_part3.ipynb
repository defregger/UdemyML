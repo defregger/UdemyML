{
 "cells": [
  {
   "cell_type": "markdown",
   "metadata": {},
   "source": [
    "### K-Nearest Neighbor Algorithmus:\n",
    "\n",
    "#### Parameter:  \n",
    "\n",
    "dataset = (X, Y)  \n",
    "mit X := Features  \n",
    "und Y := Classes  \n",
    "\n",
    "K := Hyperparameter für die nächsten k Nachbarn  \n",
    "sample := Neuer Datenpunkt zum Klassifizieren \n",
    "\n",
    "#### Pseudo-Code:\n",
    "\n",
    "kNN (dataset, K, sample):  \n",
    "  - Bestimme von jedem Punkt $p \\in dataset$ die Distanz, mit der geg. Distanzfunktion.\n",
    "  - Bestimme die $K$ nächst gelegenen Nachbarn und bestimme die zugehörige Klasse von $sample$.  "
   ]
  },
  {
   "cell_type": "code",
   "execution_count": 4,
   "metadata": {},
   "outputs": [],
   "source": [
    "import numpy as np\n",
    "\n",
    "def generate_dataset():\n",
    "    cov = np.array([[1, 0], [0, 1]])\n",
    "    data1 = np.random.multivariate_normal(np.array([0, 0]), cov, 10)\n",
    "    data2 = np.random.multivariate_normal(np.array([-10, 4]), cov, 6)\n",
    "    data3 = np.random.multivariate_normal(np.array([10, 10]), cov, 13)\n",
    "    data = np.concatenate((data1, data2, data3), axis=0)\n",
    "    classes = np.array([0 for i in range(10)] + [1 for i in range(6)] + [2 for i in range(13)])\n",
    "    return data, classes"
   ]
  },
  {
   "cell_type": "code",
   "execution_count": 5,
   "metadata": {},
   "outputs": [],
   "source": [
    "dataset, classes = generate_dataset()"
   ]
  },
  {
   "cell_type": "code",
   "execution_count": 6,
   "metadata": {
    "scrolled": true
   },
   "outputs": [
    {
     "name": "stdout",
     "output_type": "stream",
     "text": [
      "Dataset and Classes!\n",
      "[[  0.54990189   0.13762619]\n",
      " [ -0.17242602   2.11679261]\n",
      " [  0.93401262  -2.715281  ]\n",
      " [ -0.34403566  -1.31624774]\n",
      " [ -1.35446537   0.80374161]\n",
      " [  0.18324405  -1.22014083]\n",
      " [ -0.43753228   1.99961575]\n",
      " [  1.53185088   0.11740119]\n",
      " [ -0.99403329   1.42864769]\n",
      " [ -0.64289558   0.2459863 ]\n",
      " [ -8.66388984   4.14317842]\n",
      " [ -9.88455725   4.45844447]\n",
      " [ -7.95709789   5.83461641]\n",
      " [-10.2798988    3.7645304 ]\n",
      " [-10.27669237   4.38528714]\n",
      " [-10.65909181   3.59077168]\n",
      " [  9.04813222  10.70794638]\n",
      " [ 10.4926423   10.53987999]\n",
      " [  8.04416491  11.63326591]\n",
      " [ 10.167455    11.01428054]\n",
      " [  9.57225602   9.557156  ]\n",
      " [ 10.00645205   9.96572914]\n",
      " [  8.42820102   9.43709929]\n",
      " [ 11.36673376  10.18039575]\n",
      " [  8.96717407   9.81591622]\n",
      " [  8.87633896   9.70570748]\n",
      " [ 10.70282161   9.78062851]\n",
      " [  8.46757499   8.64137499]\n",
      " [ 11.14887587   8.88559179]]\n",
      "[0 0 0 0 0 0 0 0 0 0 1 1 1 1 1 1 2 2 2 2 2 2 2 2 2 2 2 2 2]\n"
     ]
    }
   ],
   "source": [
    "print(\"Dataset and Classes!\")\n",
    "print(dataset)\n",
    "print(classes)"
   ]
  },
  {
   "cell_type": "code",
   "execution_count": 7,
   "metadata": {},
   "outputs": [],
   "source": [
    "import matplotlib.pyplot as plt\n",
    "\n",
    "def plot_dataset(dataset, classes):\n",
    "    colors = [\"red\", \"blue\", \"green\"]\n",
    "    for index, point in enumerate(dataset):\n",
    "        plt.scatter(point[0], point[1], color=colors[classes[index]])\n",
    "    plt.show()"
   ]
  },
  {
   "cell_type": "code",
   "execution_count": 8,
   "metadata": {
    "scrolled": true
   },
   "outputs": [
    {
     "data": {
      "image/png": "[encoded data removed]",
      "text/plain": [
       "<Figure size 432x288 with 1 Axes>"
      ]
     },
     "metadata": {},
     "output_type": "display_data"
    }
   ],
   "source": [
    "plot_dataset(dataset, classes)"
   ]
  },
  {
   "cell_type": "code",
   "execution_count": 9,
   "metadata": {},
   "outputs": [],
   "source": [
    "def distance(p1, p2):\n",
    "    distance = np.linalg.norm(p1 - p2)\n",
    "    return distance"
   ]
  },
  {
   "cell_type": "code",
   "execution_count": 10,
   "metadata": {},
   "outputs": [],
   "source": [
    "def vote(neighbours, num_classes):\n",
    "    votes = [0 for i in range(num_classes)]\n",
    "    for neigh in neighbours:\n",
    "        cl = neigh[1]\n",
    "        votes[cl] += 1\n",
    "    voted_class = np.argmax(votes)\n",
    "    return voted_class"
   ]
  },
  {
   "cell_type": "code",
   "execution_count": 15,
   "metadata": {},
   "outputs": [],
   "source": [
    "def KNN(dataset, classes, num_classes, K, sample):\n",
    "    num_samples = dataset.shape[0]\n",
    "    num_features = dataset.shape[1]\n",
    "    # List with distances from sample to dataset\n",
    "    neighbours = sorted([(distance(sample, dataset[i]), classes[i], dataset[i]) for i in range(num_samples)])\n",
    "    neighbours = neighbours[:K]\n",
    "    voted_class = vote(neighbours, num_classes)\n",
    "    return voted_class, neighbours"
   ]
  },
  {
   "cell_type": "code",
   "execution_count": 17,
   "metadata": {},
   "outputs": [
    {
     "name": "stdout",
     "output_type": "stream",
     "text": [
      "[(3.887033623928226, 0, array([-0.17242602,  2.11679261])), (4.024240134458333, 0, array([-0.43753228,  1.99961575])), (4.678179572617099, 0, array([-0.99403329,  1.42864769]))]\n"
     ]
    }
   ],
   "source": [
    "K = 3\n",
    "num_classes = 3\n",
    "sample = np.array([0, 6])\n",
    "\n",
    "voted_class, neighbours = KNN(dataset, classes, num_classes, K, sample)\n",
    "print(neighbours)"
   ]
  },
  {
   "cell_type": "code",
   "execution_count": 26,
   "metadata": {},
   "outputs": [],
   "source": [
    "def plot_knn(dataset, classes, sample, voted_class, neighbours):\n",
    "    colors = [\"red\", \"blue\", \"green\"]\n",
    "    for index, point in enumerate(dataset):\n",
    "        plt.scatter(point[0], point[1], color=colors[classes[index]])\n",
    "    plt.scatter(sample[0], sample[1], color=\"yellow\")\n",
    "    for neigh in neighbours:\n",
    "        cl = neigh[1]\n",
    "        p = neigh[2]\n",
    "        plt.plot((p[0], sample[0]), (p[1], sample[1]), color=\"cyan\")\n",
    "    plt.show()"
   ]
  },
  {
   "cell_type": "code",
   "execution_count": 27,
   "metadata": {},
   "outputs": [
    {
     "data": {
      "image/png": "[encoded data removed]",
      "text/plain": [
       "<Figure size 432x288 with 1 Axes>"
      ]
     },
     "metadata": {},
     "output_type": "display_data"
    }
   ],
   "source": [
    "plot_knn(dataset, classes, sample, voted_class, neighbours)"
   ]
  }
 ],
 "metadata": {
  "kernelspec": {
   "display_name": "Python 3",
   "language": "python",
   "name": "python3"
  },
  "language_info": {
   "codemirror_mode": {
    "name": "ipython",
    "version": 3
   },
   "file_extension": ".py",
   "mimetype": "text/x-python",
   "name": "python",
   "nbconvert_exporter": "python",
   "pygments_lexer": "ipython3",
   "version": "3.6.5"
  }
 },
 "nbformat": 4,
 "nbformat_minor": 2
}
