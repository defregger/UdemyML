{
 "cells": [
  {
   "cell_type": "markdown",
   "metadata": {},
   "source": [
    "### K-Nearest Neighbor Algorithmus:\n",
    "\n",
    "#### Parameter:  \n",
    "\n",
    "dataset = (X, Y)  \n",
    "mit X := Features  \n",
    "und Y := Classes  \n",
    "\n",
    "K := Hyperparameter für die nächsten k Nachbarn  \n",
    "sample := Neuer Datenpunkt zum Klassifizieren \n",
    "\n",
    "#### Pseudo-Code:\n",
    "\n",
    "kNN (dataset, K, sample):  \n",
    "  - Bestimme von jedem Punkt $p \\in dataset$ die Distanz, mit der geg. Distanzfunktion.\n",
    "  - Bestimme die $K$ nächst gelegenen Nachbarn und bestimme die zugehörige Klasse von $sample$.  "
   ]
  },
  {
   "cell_type": "code",
   "execution_count": 1,
   "metadata": {},
   "outputs": [],
   "source": [
    "import numpy as np\n",
    "\n",
    "def generate_dataset():\n",
    "    cov = np.array([[1, 0], [0, 1]])\n",
    "    data1 = np.random.multivariate_normal(np.array([0, 0]), cov, 10)\n",
    "    data2 = np.random.multivariate_normal(np.array([-10, 4]), cov, 6)\n",
    "    data3 = np.random.multivariate_normal(np.array([10, 10]), cov, 13)\n",
    "    data = np.concatenate((data1, data2, data3), axis=0)\n",
    "    classes = np.array([0 for i in range(10)] + [1 for i in range(6)] + [2 for i in range(13)])\n",
    "    return data, classes"
   ]
  },
  {
   "cell_type": "code",
   "execution_count": 2,
   "metadata": {},
   "outputs": [],
   "source": [
    "dataset, classes = generate_dataset()"
   ]
  },
  {
   "cell_type": "code",
   "execution_count": 3,
   "metadata": {
    "scrolled": true
   },
   "outputs": [
    {
     "name": "stdout",
     "output_type": "stream",
     "text": [
      "Dataset and Classes!\n",
      "[[-8.37570971e-01  3.91752549e-01]\n",
      " [ 9.17603834e-01  4.10072107e-01]\n",
      " [-8.07189653e-02 -1.25189866e+00]\n",
      " [-8.76063835e-01 -1.06230989e+00]\n",
      " [-3.29370959e-01 -1.04878818e+00]\n",
      " [ 2.73672510e+00  8.96888426e-03]\n",
      " [-1.09944175e+00  1.01130154e+00]\n",
      " [-1.17362721e+00 -1.87550863e+00]\n",
      " [-1.13423011e+00 -5.80834478e-01]\n",
      " [ 2.06913736e-01 -9.10786187e-01]\n",
      " [-1.01861514e+01  5.17969218e+00]\n",
      " [-1.06461490e+01  3.06372721e+00]\n",
      " [-1.00007773e+01  4.66958592e+00]\n",
      " [-9.87817518e+00  5.76872849e+00]\n",
      " [-1.04592023e+01  5.28757461e+00]\n",
      " [-8.78204013e+00  2.95436981e+00]\n",
      " [ 9.80992959e+00  9.83455374e+00]\n",
      " [ 9.21615584e+00  1.05573063e+01]\n",
      " [ 1.11555492e+01  1.10142254e+01]\n",
      " [ 1.00925056e+01  9.38312514e+00]\n",
      " [ 1.09126992e+01  1.01370486e+01]\n",
      " [ 1.20612267e+01  1.18423733e+01]\n",
      " [ 1.05214595e+01  1.22459661e+01]\n",
      " [ 9.49937322e+00  1.11190010e+01]\n",
      " [ 1.10679563e+01  9.90854433e+00]\n",
      " [ 1.05177475e+01  9.04123714e+00]\n",
      " [ 1.01367056e+01  9.47687688e+00]\n",
      " [ 9.57367855e+00  8.30618978e+00]\n",
      " [ 9.63766151e+00  9.20764217e+00]]\n",
      "[0 0 0 0 0 0 0 0 0 0 1 1 1 1 1 1 2 2 2 2 2 2 2 2 2 2 2 2 2]\n"
     ]
    }
   ],
   "source": [
    "print(\"Dataset and Classes!\")\n",
    "print(dataset)\n",
    "print(classes)"
   ]
  },
  {
   "cell_type": "code",
   "execution_count": 4,
   "metadata": {},
   "outputs": [],
   "source": [
    "import matplotlib.pyplot as plt\n",
    "\n",
    "def plot_dataset(dataset, classes):\n",
    "    colors = [\"red\", \"blue\", \"green\"]\n",
    "    for index, point in enumerate(dataset):\n",
    "        plt.scatter(point[0], point[1], color=colors[classes[index]])\n",
    "    plt.show()"
   ]
  },
  {
   "cell_type": "code",
   "execution_count": 5,
   "metadata": {
    "scrolled": true
   },
   "outputs": [
    {
     "data": {
      "image/png": "[encoded data removed]",
      "text/plain": [
       "<Figure size 432x288 with 1 Axes>"
      ]
     },
     "metadata": {},
     "output_type": "display_data"
    }
   ],
   "source": [
    "plot_dataset(dataset, classes)"
   ]
  },
  {
   "cell_type": "code",
   "execution_count": 6,
   "metadata": {},
   "outputs": [],
   "source": [
    "def distance(p1, p2):\n",
    "    distance = np.linalg.norm(p1 - p2)\n",
    "    return distance"
   ]
  },
  {
   "cell_type": "code",
   "execution_count": 15,
   "metadata": {},
   "outputs": [],
   "source": [
    "def KNN(dataset, classes, K, sample):\n",
    "    num_samples = dataset.shape[0]\n",
    "    num_features = dataset.shape[1]\n",
    "    # List with distances from sample to dataset\n",
    "    distances = [distance(sample, dataset[i]) for i in range(num_samples)]\n",
    "    print(distances)"
   ]
  },
  {
   "cell_type": "code",
   "execution_count": 16,
   "metadata": {},
   "outputs": [
    {
     "name": "stdout",
     "output_type": "stream",
     "text": [
      "[5.670446596140018, 5.664741004082191, 7.252347874957382, 7.116439338747819, 7.056479294090672, 6.586510311981363, 5.108413109190226, 7.962476812729992, 6.677863459087738, 6.913883063171009, 10.219128408355347, 11.043649116690464, 10.088882398414906, 9.880882119951576, 10.483437502645925, 9.295164984958818, 10.532735682960503, 10.281370017583253, 12.23064732027666, 10.644444812574804, 11.670568712980991, 13.401735562506621, 12.235734667728847, 10.790841624392922, 11.737818147846209, 10.94861338055218, 10.716411428535425, 9.84752924612518, 10.157435093787127]\n"
     ]
    }
   ],
   "source": [
    "K = 3\n",
    "sample = np.array([0, 6])\n",
    "\n",
    "KNN(dataset, classes, K, sample)"
   ]
  }
 ],
 "metadata": {
  "kernelspec": {
   "display_name": "Python 3",
   "language": "python",
   "name": "python3"
  },
  "language_info": {
   "codemirror_mode": {
    "name": "ipython",
    "version": 3
   },
   "file_extension": ".py",
   "mimetype": "text/x-python",
   "name": "python",
   "nbconvert_exporter": "python",
   "pygments_lexer": "ipython3",
   "version": "3.6.5"
  }
 },
 "nbformat": 4,
 "nbformat_minor": 2
}
