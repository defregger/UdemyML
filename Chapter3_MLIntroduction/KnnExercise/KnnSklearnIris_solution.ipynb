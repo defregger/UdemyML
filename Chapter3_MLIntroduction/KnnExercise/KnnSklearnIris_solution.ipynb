{
 "cells": [
  {
   "cell_type": "code",
   "execution_count": 1,
   "metadata": {
    "scrolled": false
   },
   "outputs": [
    {
     "output_type": "stream",
     "name": "stdout",
     "text": "(150, 4)\n(150,)\n"
    }
   ],
   "source": [
    "# Load Iris Dataset\n",
    "import numpy as np\n",
    "from sklearn import datasets\n",
    "\n",
    "# Load Dataset with first 2 Features\n",
    "iris = datasets.load_iris()\n",
    "x = iris.data\n",
    "y = iris.target\n",
    "print(x.shape)\n",
    "print(y.shape)\n",
    "\n",
    "# Dataset variables\n",
    "num_samples = x.shape[0]\n",
    "num_features = x.shape[1]\n",
    "num_classes = 3\n",
    "test_size = 20\n",
    "train_size = num_samples - test_size\n",
    "\n",
    "# Split Data in Train and Testset\n",
    "indices = np.random.permutation(num_samples)\n",
    "x_train = x[indices[:-20]]\n",
    "y_train = y[indices[:-20]]\n",
    "\n",
    "x_test = x[indices[-20:]]\n",
    "y_test = y[indices[-20:]]"
   ]
  },
  {
   "cell_type": "code",
   "execution_count": 2,
   "metadata": {
    "scrolled": true
   },
   "outputs": [
    {
     "output_type": "stream",
     "name": "stdout",
     "text": "(130, 4)\n(130,)\n(20, 4)\n(20,)\n"
    }
   ],
   "source": [
    "# Training Size\n",
    "print(x_train.shape)\n",
    "print(y_train.shape)\n",
    "\n",
    "# Testing Size\n",
    "print(x_test.shape)\n",
    "print(y_test.shape)"
   ]
  },
  {
   "cell_type": "code",
   "execution_count": 3,
   "metadata": {
    "scrolled": true
   },
   "outputs": [
    {
     "output_type": "stream",
     "name": "stdout",
     "text": "Score for setup:  1  Neighbours,  uniform  Weight Function - Score =  0.95\nScore for setup:  1  Neighbours,  distance  Weight Function - Score =  0.95\nScore for setup:  2  Neighbours,  uniform  Weight Function - Score =  0.95\nScore for setup:  2  Neighbours,  distance  Weight Function - Score =  0.95\nScore for setup:  3  Neighbours,  uniform  Weight Function - Score =  0.95\nScore for setup:  3  Neighbours,  distance  Weight Function - Score =  0.95\nScore for setup:  4  Neighbours,  uniform  Weight Function - Score =  0.9\nScore for setup:  4  Neighbours,  distance  Weight Function - Score =  0.95\nScore for setup:  5  Neighbours,  uniform  Weight Function - Score =  0.95\nScore for setup:  5  Neighbours,  distance  Weight Function - Score =  0.95\nScore for setup:  6  Neighbours,  uniform  Weight Function - Score =  0.95\nScore for setup:  6  Neighbours,  distance  Weight Function - Score =  0.95\nScore for setup:  7  Neighbours,  uniform  Weight Function - Score =  0.95\nScore for setup:  7  Neighbours,  distance  Weight Function - Score =  0.95\nScore for setup:  8  Neighbours,  uniform  Weight Function - Score =  0.95\nScore for setup:  8  Neighbours,  distance  Weight Function - Score =  0.95\nScore for setup:  9  Neighbours,  uniform  Weight Function - Score =  0.95\nScore for setup:  9  Neighbours,  distance  Weight Function - Score =  0.95\n"
    }
   ],
   "source": [
    "# Model\n",
    "from sklearn.neighbors import KNeighborsClassifier\n",
    "\n",
    "neighbors = [i for i in range(1, 10)]\n",
    "weights = [\"uniform\", \"distance\"]\n",
    "\n",
    "for neighbor in neighbors:\n",
    "    for weight in weights:\n",
    "        knn = KNeighborsClassifier(n_neighbors=neighbor, weights=weight)\n",
    "        knn.fit(x_train, y_train)\n",
    "        score = knn.score(x_test, y_test)\n",
    "        print(\"Score for setup: \", neighbor, \" Neighbours, \" , weight, \" Weight Function - Score = \", score)"
   ]
  },
  {
   "cell_type": "code",
   "execution_count": 4,
   "metadata": {},
   "outputs": [
    {
     "output_type": "stream",
     "name": "stdout",
     "text": "Predictions vs. Classes:\nPred:   [2 2 2 0 1 2 2 1 1 0 1 1 1 0 1 2 0 0 1 0]\nClass:  [2 2 2 0 1 2 2 1 2 0 1 1 1 0 1 2 0 0 1 0]\n\nPrediction Probs:\n[[0.         0.         1.        ]\n [0.         0.33333333 0.66666667]\n [0.         0.         1.        ]\n [1.         0.         0.        ]\n [0.         1.         0.        ]\n [0.         0.         1.        ]\n [0.         0.33333333 0.66666667]\n [0.         1.         0.        ]\n [0.         1.         0.        ]\n [1.         0.         0.        ]\n [0.         1.         0.        ]\n [0.         0.66666667 0.33333333]\n [0.         1.         0.        ]\n [1.         0.         0.        ]\n [0.         1.         0.        ]\n [0.         0.         1.        ]\n [1.         0.         0.        ]\n [1.         0.         0.        ]\n [0.         1.         0.        ]\n [1.         0.         0.        ]]\n"
    }
   ],
   "source": [
    "# Use \"best Setup\"\n",
    "best_neighbor = 3\n",
    "best_weight = \"uniform\"\n",
    "\n",
    "knn = KNeighborsClassifier(n_neighbors=best_neighbor, weights=best_weight)\n",
    "knn.fit(x_train, y_train)\n",
    "\n",
    "pred = knn.predict(x_test)\n",
    "pred_prob = knn.predict_proba(x_test)\n",
    "\n",
    "print(\"Predictions vs. Classes:\")\n",
    "print(\"Pred:  \", pred)\n",
    "print(\"Class: \", y_test)\n",
    "print(\"\\nPrediction Probs:\")\n",
    "print(pred_prob)"
   ]
  }
 ],
 "metadata": {
  "kernelspec": {
   "display_name": "Python 3",
   "language": "python",
   "name": "python3"
  },
  "language_info": {
   "codemirror_mode": {
    "name": "ipython",
    "version": 3
   },
   "file_extension": ".py",
   "mimetype": "text/x-python",
   "name": "python",
   "nbconvert_exporter": "python",
   "pygments_lexer": "ipython3",
   "version": "3.8.1-final"
  }
 },
 "nbformat": 4,
 "nbformat_minor": 2
}