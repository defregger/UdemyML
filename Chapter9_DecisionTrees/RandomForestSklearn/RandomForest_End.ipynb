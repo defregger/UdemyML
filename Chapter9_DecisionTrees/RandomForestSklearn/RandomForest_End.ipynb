{
 "cells": [
  {
   "cell_type": "code",
   "execution_count": 1,
   "metadata": {},
   "outputs": [],
   "source": [
    "# Imports\n",
    "import numpy as np\n",
    "import pandas as pd\n",
    "import matplotlib.pyplot as plt\n",
    "\n",
    "# Sklearn Methoden\n",
    "from sklearn.datasets import load_wine\n",
    "from sklearn.tree import DecisionTreeClassifier\n",
    "from sklearn.neighbors import KNeighborsClassifier\n",
    "from sklearn.metrics import accuracy_score\n",
    "\n",
    "# CrossValidation mit KFold und GridSearch\n",
    "from sklearn.model_selection import KFold\n",
    "from sklearn.model_selection import cross_val_score\n",
    "from sklearn.model_selection import cross_val_predict\n",
    "from sklearn.model_selection import GridSearchCV"
   ]
  },
  {
   "cell_type": "code",
   "execution_count": 2,
   "metadata": {},
   "outputs": [
    {
     "output_type": "stream",
     "name": "stdout",
     "text": [
      "(178, 13) (178,)\n"
     ]
    }
   ],
   "source": [
    "# Dataset for Classification\n",
    "dataset = load_wine()\n",
    "x = dataset.data\n",
    "y = dataset.target\n",
    "\n",
    "print(x.shape, y.shape)"
   ]
  },
  {
   "cell_type": "code",
   "execution_count": 3,
   "metadata": {},
   "outputs": [],
   "source": [
    "from sklearn.model_selection import train_test_split\n",
    "\n",
    "x_train, x_test, y_train, y_test = train_test_split(x, y, test_size=0.3, random_state=42)"
   ]
  },
  {
   "cell_type": "markdown",
   "metadata": {},
   "source": [
    "## KNeighborsClassifier"
   ]
  },
  {
   "cell_type": "code",
   "execution_count": 4,
   "metadata": {
    "scrolled": true
   },
   "outputs": [
    {
     "output_type": "stream",
     "name": "stdout",
     "text": [
      "Best params:\n{'n_neighbors': 5, 'p': 1, 'weights': 'distance'}\n0.7500967866821525\n"
     ]
    }
   ],
   "source": [
    "parameters = {'n_neighbors': [3, 5, 7, 9, 11], \n",
    "              'weights': ['uniform', 'distance'], \n",
    "              'p': [1, 2]}\n",
    "neigh = KNeighborsClassifier()\n",
    "\n",
    "clf = GridSearchCV(neigh, parameters, cv=3)\n",
    "clf.fit(x_train, y_train)\n",
    "\n",
    "print(\"Best params:\")\n",
    "print(clf.best_params_)\n",
    "print(clf.best_score_)"
   ]
  },
  {
   "cell_type": "code",
   "execution_count": 5,
   "metadata": {},
   "outputs": [
    {
     "output_type": "stream",
     "name": "stdout",
     "text": [
      "Test score:  0.7777777777777778\n"
     ]
    }
   ],
   "source": [
    "neigh = KNeighborsClassifier(n_neighbors=5, p=1, weights=\"distance\")\n",
    "neigh.fit(x_train, y_train)\n",
    "score = neigh.score(x_test, y_test)\n",
    "print(\"Test score: \", score)"
   ]
  },
  {
   "cell_type": "markdown",
   "metadata": {},
   "source": [
    "## DecisionTreeClassifier"
   ]
  },
  {
   "cell_type": "code",
   "execution_count": 6,
   "metadata": {
    "scrolled": false
   },
   "outputs": [
    {
     "output_type": "stream",
     "name": "stdout",
     "text": [
      "Best params:\n{'criterion': 'entropy', 'max_depth': 12, 'max_features': 'auto', 'splitter': 'best'}\n0.9355400696864112\n"
     ]
    }
   ],
   "source": [
    "parameters = {\"criterion\": [\"gini\", \"entropy\"], \n",
    "              \"splitter\": [\"best\", \"random\"], \n",
    "              \"max_depth\": [None, 3, 5, 7, 8, 9, 10, 11, 12],\n",
    "             \"max_features\": [None, \"auto\", \"sqrt\", \"log2\"]}\n",
    "dec_tree = DecisionTreeClassifier()\n",
    "\n",
    "clf = GridSearchCV(dec_tree, parameters, cv=3)\n",
    "clf.fit(x_train, y_train)\n",
    "\n",
    "print(\"Best params:\")\n",
    "print(clf.best_params_)\n",
    "print(clf.best_score_)"
   ]
  },
  {
   "cell_type": "code",
   "execution_count": 7,
   "metadata": {},
   "outputs": [
    {
     "output_type": "stream",
     "name": "stdout",
     "text": [
      "Test score:  0.9259259259259259\n"
     ]
    }
   ],
   "source": [
    "dt = DecisionTreeClassifier(criterion=\"gini\", max_depth=7, max_features=None, splitter=\"random\")\n",
    "dt.fit(x_train, y_train)\n",
    "score = dt.score(x_test, y_test)\n",
    "print(\"Test score: \", score)"
   ]
  },
  {
   "cell_type": "markdown",
   "metadata": {},
   "source": [
    "## RandomForestClassifier"
   ]
  },
  {
   "cell_type": "code",
   "execution_count": 8,
   "metadata": {},
   "outputs": [
    {
     "output_type": "stream",
     "name": "stdout",
     "text": [
      "Best params:\n{'criterion': 'gini', 'max_depth': 8, 'max_features': 'sqrt', 'n_estimators': 20}\n0.983933410762679\n"
     ]
    }
   ],
   "source": [
    "from sklearn.ensemble import RandomForestClassifier\n",
    "\n",
    "parameters = {\"n_estimators\": [10, 20, 40, 80, 100, 120], \n",
    "              \"criterion\": [\"gini\", \"entropy\"], \n",
    "              \"max_depth\": [None, 3, 5, 7, 8, 9, 10, 11, 12],\n",
    "             \"max_features\": [None, \"auto\", \"sqrt\", \"log2\"]}\n",
    "\n",
    "random_forest = RandomForestClassifier()\n",
    "\n",
    "clf = GridSearchCV(random_forest, parameters, cv=3, n_jobs=-1)\n",
    "clf.fit(x_train, y_train)\n",
    "\n",
    "print(\"Best params:\")\n",
    "print(clf.best_params_)\n",
    "print(clf.best_score_)"
   ]
  },
  {
   "cell_type": "code",
   "execution_count": 11,
   "metadata": {},
   "outputs": [
    {
     "output_type": "stream",
     "name": "stdout",
     "text": [
      "Test score:  1.0\n"
     ]
    }
   ],
   "source": [
    "dt = RandomForestClassifier(\n",
    "    criterion=\"gini\",\n",
    "    max_depth=8,\n",
    "    max_features='sqrt',\n",
    "    n_estimators=20\n",
    ")\n",
    "dt.fit(x_train, y_train)\n",
    "score = dt.score(x_test, y_test)\n",
    "print(\"Test score: \", score)"
   ]
  }
 ],
 "metadata": {
  "kernelspec": {
   "display_name": "Python 3",
   "language": "python",
   "name": "python3"
  },
  "language_info": {
   "codemirror_mode": {
    "name": "ipython",
    "version": 3
   },
   "file_extension": ".py",
   "mimetype": "text/x-python",
   "name": "python",
   "nbconvert_exporter": "python",
   "pygments_lexer": "ipython3",
   "version": "3.8.3-final"
  }
 },
 "nbformat": 4,
 "nbformat_minor": 2
}