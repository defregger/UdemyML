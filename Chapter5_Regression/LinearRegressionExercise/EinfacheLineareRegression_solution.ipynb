{
 "cells": [
  {
   "cell_type": "code",
   "execution_count": 35,
   "metadata": {},
   "outputs": [],
   "source": [
    "import random\n",
    "random.seed(42)\n",
    "import numpy as np\n",
    "np.random.seed(42)"
   ]
  },
  {
   "cell_type": "code",
   "execution_count": 36,
   "metadata": {},
   "outputs": [],
   "source": [
    "import itertools\n",
    "import pandas as pd\n",
    "from sklearn.datasets import load_boston\n",
    "from sklearn.model_selection import train_test_split\n",
    "from sklearn.linear_model import LinearRegression\n",
    "import matplotlib.pyplot as plt"
   ]
  },
  {
   "cell_type": "code",
   "execution_count": 37,
   "metadata": {},
   "outputs": [],
   "source": [
    "dataset = load_boston()\n",
    "df = pd.DataFrame(dataset.data, columns=dataset.feature_names)"
   ]
  },
  {
   "cell_type": "code",
   "execution_count": 38,
   "metadata": {},
   "outputs": [
    {
     "output_type": "stream",
     "name": "stdout",
     "text": [
      "['CRIM', 'ZN', 'INDUS', 'CHAS', 'NOX', 'RM', 'AGE', 'DIS', 'RAD', 'TAX', 'PTRATIO', 'B', 'LSTAT']\nNum features:  13\n"
     ]
    }
   ],
   "source": [
    "# Welche Features verwenden\n",
    "all_features = df.columns.values.tolist()\n",
    "num_features_total = len(all_features)\n",
    "print(all_features)\n",
    "print(\"Num features: \", num_features_total)"
   ]
  },
  {
   "cell_type": "code",
   "execution_count": 39,
   "metadata": {},
   "outputs": [
    {
     "output_type": "stream",
     "name": "stdout",
     "text": [
      "Combs with  1  combs:  13\nCombs with  2  combs:  78\nCombs with  3  combs:  286\nCombs with  4  combs:  715\nCombs with  5  combs:  1287\nCombs with  6  combs:  1716\nCombs with  7  combs:  1716\nCombs with  8  combs:  1287\nCombs with  9  combs:  715\nCombs with  10  combs:  286\nCombs with  11  combs:  78\nCombs with  12  combs:  13\nTotal:  8190\n"
     ]
    }
   ],
   "source": [
    "total_feature_combs = 0\n",
    "\n",
    "for num in range(1, num_features_total):\n",
    "    current_feature_combs = len([v for v in itertools.combinations(all_features, num)])\n",
    "    total_feature_combs += current_feature_combs\n",
    "    print(\"Combs with \", num, \" combs: \", current_feature_combs)\n",
    "    \n",
    "print(\"Total: \", total_feature_combs)"
   ]
  },
  {
   "cell_type": "code",
   "execution_count": 40,
   "metadata": {
    "scrolled": true
   },
   "outputs": [
    {
     "output_type": "stream",
     "name": "stdout",
     "text": [
      "R2: 0.13814008417132628\n",
      "Features:\n",
      "('CRIM',)\n",
      "R2: 0.15638621004081632\n",
      "Features:\n",
      "('ZN',)\n",
      "R2: 0.21437745037434774\n",
      "Features:\n",
      "('NOX',)\n",
      "R2: 0.4793882936184912\n",
      "Features:\n",
      "('RM',)\n",
      "R2: 0.5380052327556761\n",
      "Features:\n",
      "('LSTAT',)\n",
      "R2: 0.5582507486695105\n",
      "Features:\n",
      "('CRIM', 'LSTAT')\n",
      "R2: 0.5834097092123274\n",
      "Features:\n",
      "('INDUS', 'RM')\n",
      "R2: 0.589243676493741\n",
      "Features:\n",
      "('NOX', 'RM')\n",
      "R2: 0.6555129928066802\n",
      "Features:\n",
      "('RM', 'RAD')\n",
      "R2: 0.6898293831298401\n",
      "Features:\n",
      "('ZN', 'RM', 'B')\n",
      "R2: 0.7209685926887803\n",
      "Features:\n",
      "('NOX', 'RM', 'LSTAT')\n",
      "R2: 0.7391173951136699\n",
      "Features:\n",
      "('ZN', 'RM', 'PTRATIO', 'LSTAT')\n",
      "R2: 0.7424359641956617\n",
      "Features:\n",
      "('INDUS', 'RM', 'PTRATIO', 'LSTAT')\n",
      "R2: 0.7747205244084439\n",
      "Features:\n",
      "('CRIM', 'ZN', 'RM', 'PTRATIO', 'LSTAT')\n",
      "R2: 0.7764740425306117\n",
      "Features:\n",
      "('ZN', 'INDUS', 'RM', 'PTRATIO', 'B', 'LSTAT')\n",
      "R2: 0.7822209304168458\n",
      "Features:\n",
      "('INDUS', 'RM', 'DIS', 'PTRATIO', 'B', 'LSTAT')\n",
      "R2: 0.7939789972823279\n",
      "Features:\n",
      "('ZN', 'INDUS', 'RM', 'DIS', 'TAX', 'PTRATIO', 'LSTAT')\n",
      "R2: 0.8114669483526987\n",
      "Features:\n",
      "('ZN', 'RM', 'AGE', 'DIS', 'TAX', 'PTRATIO', 'LSTAT')\n",
      "R2: 0.8203960004573864\n",
      "Features:\n",
      "('CRIM', 'ZN', 'INDUS', 'RM', 'AGE', 'PTRATIO', 'B', 'LSTAT')\n"
     ]
    }
   ],
   "source": [
    "best_score = 0.0\n",
    "\n",
    "for num in range(1, num_features_total + 1):\n",
    "    for features in itertools.combinations(all_features, num):\n",
    "        df_features = pd.DataFrame(df, columns=features)\n",
    "\n",
    "        x = df_features.to_numpy()\n",
    "        y = dataset['target']\n",
    "        x_train, x_test, y_train, y_test = train_test_split(x, y, test_size=0.3)\n",
    "\n",
    "        regr = LinearRegression()\n",
    "        regr.fit(x_train, y_train)\n",
    "        r2_score = regr.score(x_test, y_test)\n",
    "\n",
    "        if r2_score > best_score:\n",
    "            best_score = r2_score\n",
    "            print(f\"R2: {r2_score}\")\n",
    "            print(f\"Features:\\n{features}\")"
   ]
  },
  {
   "cell_type": "code",
   "execution_count": 41,
   "metadata": {},
   "outputs": [
    {
     "output_type": "stream",
     "name": "stdout",
     "text": [
      "R2-Score: 0.7467355524490357\n"
     ]
    }
   ],
   "source": [
    "# Best Settings\n",
    "features = ['CRIM', 'ZN', 'INDUS', 'RM', 'AGE', 'PTRATIO', 'B', 'LSTAT']\n",
    "df_features = pd.DataFrame(df, columns=features)\n",
    "\n",
    "x = df_features.to_numpy()\n",
    "y = dataset['target']\n",
    "x_train, x_test, y_train, y_test = train_test_split(x, y, test_size=0.3)\n",
    "\n",
    "regr = LinearRegression()\n",
    "regr.fit(x_train, y_train)\n",
    "r2_score = regr.score(x_test, y_test)\n",
    "\n",
    "print(f\"R2-Score: {r2_score}\")"
   ]
  }
 ],
 "metadata": {
  "kernelspec": {
   "display_name": "Python 3",
   "language": "python",
   "name": "python3"
  },
  "language_info": {
   "codemirror_mode": {
    "name": "ipython",
    "version": 3
   },
   "file_extension": ".py",
   "mimetype": "text/x-python",
   "name": "python",
   "nbconvert_exporter": "python",
   "pygments_lexer": "ipython3",
   "version": "3.8.3-final"
  }
 },
 "nbformat": 4,
 "nbformat_minor": 2
}