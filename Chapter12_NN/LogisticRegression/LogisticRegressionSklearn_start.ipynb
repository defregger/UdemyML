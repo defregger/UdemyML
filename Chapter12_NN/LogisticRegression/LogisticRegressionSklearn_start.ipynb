{
 "cells": [
  {
   "cell_type": "code",
   "execution_count": 42,
   "metadata": {},
   "outputs": [],
   "source": [
    "# Imports\n",
    "import time\n",
    "import numpy as np\n",
    "import pandas as pd\n",
    "import matplotlib.pyplot as plt\n",
    "\n",
    "# Sklearn Methoden\n",
    "from sklearn.metrics import confusion_matrix\n",
    "from sklearn.datasets import load_digits\n",
    "from sklearn.model_selection import GridSearchCV\n",
    "from sklearn.model_selection import train_test_split\n",
    "from sklearn.model_selection import cross_val_score\n",
    "from sklearn.model_selection import cross_val_predict\n",
    "from sklearn.model_selection import KFold\n",
    "from sklearn.decomposition import PCA\n",
    "from sklearn.preprocessing import StandardScaler\n",
    "from sklearn.linear_model import LogisticRegression"
   ]
  },
  {
   "cell_type": "code",
   "execution_count": 43,
   "metadata": {
    "scrolled": true
   },
   "outputs": [
    {
     "name": "stdout",
     "output_type": "stream",
     "text": [
      "Bilder:  1797\n",
      "Pixel:  64\n"
     ]
    }
   ],
   "source": [
    "# Load Dataset\n",
    "mnist = load_digits()\n",
    "\n",
    "x = mnist.data.astype(np.float32)\n",
    "y = mnist.target.astype(np.float32)\n",
    "x_train, x_test, y_train, y_test = train_test_split(x, y, random_state=42, test_size=0.35)\n",
    "\n",
    "n_samples, n_features = x.shape\n",
    "print(\"Bilder: \", n_samples)\n",
    "print(\"Pixel: \", n_features)"
   ]
  },
  {
   "cell_type": "code",
   "execution_count": 44,
   "metadata": {
    "scrolled": false
   },
   "outputs": [
    {
     "data": {
      "image/png": "[encoded data removed]",
      "text/plain": [
       "<Figure size 432x288 with 10 Axes>"
      ]
     },
     "metadata": {},
     "output_type": "display_data"
    }
   ],
   "source": [
    "# Plot random images\n",
    "for index, (image, label) in enumerate(zip(x_train[:10], y_train[:10])):\n",
    "    plt.subplot(2, 5, index + 1)\n",
    "    plt.axis('off')\n",
    "    plt.imshow(image.reshape((8, 8)), cmap=plt.cm.gray_r, interpolation='nearest')\n",
    "    plt.title('Train: %i' % (label+1))"
   ]
  },
  {
   "cell_type": "code",
   "execution_count": 45,
   "metadata": {},
   "outputs": [],
   "source": [
    "# Normalize Features with StandardScaler\n",
    "scaler = StandardScaler()\n",
    "scaler.fit(x_train)\n",
    "\n",
    "x_train = scaler.transform(x_train)\n",
    "x_test = scaler.transform(x_test)"
   ]
  },
  {
   "cell_type": "markdown",
   "metadata": {},
   "source": [
    "![title](ovr.png)"
   ]
  },
  {
   "cell_type": "markdown",
   "metadata": {},
   "source": [
    "![title](sigmoid.png)"
   ]
  },
  {
   "cell_type": "code",
   "execution_count": 47,
   "metadata": {
    "scrolled": true
   },
   "outputs": [
    {
     "name": "stdout",
     "output_type": "stream",
     "text": [
      "Score:  0.9682034976152624\n",
      "Confusion matrix:\n",
      " [[57  0  0  0  0  0  0  0  0  0]\n",
      " [ 0 59  0  0  0  0  0  0  2  0]\n",
      " [ 0  0 57  0  0  0  0  0  0  0]\n",
      " [ 0  0  1 56  0  1  0  1  3  0]\n",
      " [ 0  1  0  0 65  0  0  0  0  0]\n",
      " [ 0  0  0  0  0 74  1  0  0  1]\n",
      " [ 0  0  0  0  0  1 58  0  0  0]\n",
      " [ 0  0  0  0  0  0  0 64  0  1]\n",
      " [ 0  2  0  0  0  1  0  0 52  0]\n",
      " [ 0  0  0  1  0  1  0  0  2 67]]\n"
     ]
    },
    {
     "name": "stderr",
     "output_type": "stream",
     "text": [
      "[Parallel(n_jobs=-1)]: Done  10 out of  10 | elapsed:    3.8s finished\n"
     ]
    }
   ],
   "source": [
    "clf = LogisticRegression(multi_class=\"ovr\", penalty=\"l2\", solver=\"lbfgs\", n_jobs=-1, verbose=1)\n",
    "clf.fit(x_train, y_train)\n",
    "\n",
    "score = clf.score(x_test, y_test)\n",
    "y_pred = clf.predict(x_test)\n",
    "\n",
    "print(\"Score: \", score)\n",
    "print(\"Confusion matrix:\\n\", confusion_matrix(y_test, y_pred))"
   ]
  },
  {
   "cell_type": "code",
   "execution_count": 48,
   "metadata": {
    "scrolled": true
   },
   "outputs": [
    {
     "name": "stdout",
     "output_type": "stream",
     "text": [
      "Score:  0.9745627980922098\n",
      "Confusion matrix:\n",
      " [[57  0  0  0  0  0  0  0  0  0]\n",
      " [ 0 59  1  0  0  0  0  0  1  0]\n",
      " [ 0  0 57  0  0  0  0  0  0  0]\n",
      " [ 0  0  1 59  0  1  0  0  1  0]\n",
      " [ 0  1  0  0 65  0  0  0  0  0]\n",
      " [ 0  1  0  0  0 72  1  0  0  2]\n",
      " [ 0  0  0  0  0  1 58  0  0  0]\n",
      " [ 0  0  0  0  0  0  0 64  0  1]\n",
      " [ 0  1  0  0  0  1  0  0 53  0]\n",
      " [ 0  0  0  0  0  0  0  0  2 69]]\n"
     ]
    },
    {
     "name": "stderr",
     "output_type": "stream",
     "text": [
      "[Parallel(n_jobs=-1)]: Done   1 out of   1 | elapsed:    0.4s finished\n"
     ]
    }
   ],
   "source": [
    "clf = LogisticRegression(multi_class=\"multinomial\", penalty=\"l2\", solver=\"lbfgs\", n_jobs=-1, verbose=1)\n",
    "clf.fit(x_train, y_train)\n",
    "\n",
    "score = clf.score(x_test, y_test)\n",
    "y_pred = clf.predict(x_test)\n",
    "\n",
    "print(\"Score: \", score)\n",
    "print(\"Confusion matrix:\\n\", confusion_matrix(y_test, y_pred))"
   ]
  },
  {
   "cell_type": "code",
   "execution_count": 49,
   "metadata": {},
   "outputs": [
    {
     "name": "stdout",
     "output_type": "stream",
     "text": [
      "[[ 1.27206574 -1.53566528 -3.3342232  -4.47379186  0.30664109 -0.83522786\n",
      "   9.1965971  -1.50977444  1.11035039 -0.19697167]]\n",
      "[[3.61403906e-04 2.18077446e-05 3.60999807e-06 1.15504416e-06\n",
      "  1.37630359e-04 4.39346183e-05 9.99017462e-01 2.23797381e-05\n",
      "  3.07440271e-04 8.31759937e-05]]\n"
     ]
    }
   ],
   "source": [
    "print(clf.decision_function([x_test[0]]))\n",
    "print(clf.predict_proba([x_test[0]]))"
   ]
  }
 ],
 "metadata": {
  "kernelspec": {
   "display_name": "Python 3",
   "language": "python",
   "name": "python3"
  },
  "language_info": {
   "codemirror_mode": {
    "name": "ipython",
    "version": 3
   },
   "file_extension": ".py",
   "mimetype": "text/x-python",
   "name": "python",
   "nbconvert_exporter": "python",
   "pygments_lexer": "ipython3",
   "version": "3.6.5"
  }
 },
 "nbformat": 4,
 "nbformat_minor": 2
}
