{
 "cells": [
  {
   "cell_type": "code",
   "execution_count": 11,
   "metadata": {},
   "outputs": [],
   "source": [
    "import random\n",
    "random.seed(42)\n",
    "import numpy as np\n",
    "np.random.seed(42)\n",
    "import pandas as pd\n",
    "import matplotlib.pyplot as plt\n",
    "from sklearn.metrics import confusion_matrix\n",
    "from sklearn.metrics import classification_report\n",
    "from sklearn.model_selection import train_test_split"
   ]
  },
  {
   "cell_type": "code",
   "execution_count": 12,
   "metadata": {},
   "outputs": [],
   "source": [
    "def get_dataset():\n",
    "    \"\"\"OR dataset.\"\"\"\n",
    "    x = np.array([[0, 0], [1, 0], [0, 1], [1, 1]], dtype=np.float32)\n",
    "    y = np.array([0, 1, 1, 1], dtype=np.float32)\n",
    "    return x, y"
   ]
  },
  {
   "cell_type": "markdown",
   "metadata": {},
   "source": [
    "#### Formeln für das Perzeptron: \n",
    "\n",
    "#### Aktivierungsfunktion:\n",
    "\n",
    "$\\phi(s) = \\begin{cases} 1, wenn \\ s > 0\\\\ 0, sonst \\end{cases}$\n",
    "\n",
    "##### Delta-Regel (Gewichte Update):\n",
    "\n",
    "$\\Delta w_i = (y_i - \\hat{y_i}) * x_i$  \n",
    "$w_i = w_i + \\lambda * \\Delta_{w_i}$"
   ]
  },
  {
   "cell_type": "code",
   "execution_count": 13,
   "metadata": {},
   "outputs": [],
   "source": [
    "class Perceptron():\n",
    "    def __init__(self, epochs, lr):\n",
    "        self.epochs = epochs\n",
    "        self.lr = lr\n",
    "        self.w = []\n",
    "        \n",
    "    def fit(self, x, y):\n",
    "        N, dim = x.shape\n",
    "        # Init model\n",
    "        self.w = np.random.uniform(-1, 1, (dim, 1))\n",
    "        # Training\n",
    "        error = 0.0\n",
    "        for epoch in range(self.epochs):\n",
    "            choice = np.random.choice(N)\n",
    "            x_i = x[choice]\n",
    "            y_i = y[choice]\n",
    "            y_hat = self.predict(x_i)\n",
    "            # We made a misclassification\n",
    "            if y_hat != y_i:\n",
    "                self._update_weights(x_i, y_i, y_hat)\n",
    "    \n",
    "    def _activation(self, signal):\n",
    "        if signal > 0:\n",
    "            return 1\n",
    "        else:\n",
    "            return 0\n",
    "    \n",
    "    def _update_weights(self, x, y, y_hat):\n",
    "        for i in range(self.w.shape[0]):\n",
    "            delta_w_i = self.lr * (y - y_hat) * x[i]\n",
    "            self.w[i] = self.w[i] + delta_w_i\n",
    "    \n",
    "    def score(self, x, y):\n",
    "        y_pred = np.array([self.predict(x_i) for x_i in x])\n",
    "        acc = sum(1 for y_p, y_i in zip(y_pred, y) if y_p == y_i) / y.shape[0]\n",
    "        return acc\n",
    "    \n",
    "    def predict(self, x):\n",
    "        input_signal = np.dot(self.w.T, x)\n",
    "        output_signal = self._activation(input_signal)\n",
    "        return output_signal  "
   ]
  },
  {
   "cell_type": "code",
   "execution_count": 14,
   "metadata": {},
   "outputs": [
    {
     "output_type": "stream",
     "name": "stdout",
     "text": [
      "Acc: 1.0\nW:\n[[0.74908024]\n [0.90142861]]\n"
     ]
    }
   ],
   "source": [
    "x, y = get_dataset()\n",
    "\n",
    "lr = 1.0\n",
    "epochs = 10\n",
    "p = Perceptron(epochs=epochs, lr=lr)\n",
    "\n",
    "p.fit(x, y)\n",
    "acc = p.score(x, y)\n",
    "\n",
    "print(f\"Acc: {acc}\")\n",
    "print(f\"W:\\n{p.w}\")"
   ]
  }
 ],
 "metadata": {
  "kernelspec": {
   "display_name": "Python 3",
   "language": "python",
   "name": "python3"
  },
  "language_info": {
   "codemirror_mode": {
    "name": "ipython",
    "version": 3
   },
   "file_extension": ".py",
   "mimetype": "text/x-python",
   "name": "python",
   "nbconvert_exporter": "python",
   "pygments_lexer": "ipython3",
   "version": "3.8.3-final"
  }
 },
 "nbformat": 4,
 "nbformat_minor": 2
}