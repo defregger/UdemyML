{
 "cells": [
  {
   "cell_type": "code",
   "execution_count": 3,
   "metadata": {},
   "outputs": [],
   "source": [
    "# Imports\n",
    "import numpy as np\n",
    "import pandas as pd\n",
    "import matplotlib.pyplot as plt\n",
    "import random\n",
    "\n",
    "# Sklearn Methoden\n",
    "from sklearn.metrics import confusion_matrix\n",
    "from sklearn.metrics import classification_report\n",
    "from sklearn.model_selection import train_test_split"
   ]
  },
  {
   "cell_type": "code",
   "execution_count": 4,
   "metadata": {},
   "outputs": [],
   "source": [
    "# Return own logical OR dataset\n",
    "def get_dataset():\n",
    "    data = [(0, 0), (1, 0), (0, 1), (1, 1)]\n",
    "    target = [0, 1, 1, 1]\n",
    "    return data, target"
   ]
  },
  {
   "cell_type": "markdown",
   "metadata": {},
   "source": [
    "#### Formeln für das Perzeptron: \n",
    "\n",
    "#### Aktivierungsfunktion:\n",
    "\n",
    "$\\phi(s) = \\begin{cases} 1, wenn \\ s > 0\\\\ 0, sonst \\end{cases}$\n",
    "\n",
    "##### Delta-Regel (Gewichte Update):\n",
    "\n",
    "$\\Delta w_i = \\lambda * (y_i - \\hat{y_i}) * x_i$  \n",
    "$w_i = w_i + \\Delta_{w_i}$"
   ]
  },
  {
   "cell_type": "code",
   "execution_count": null,
   "metadata": {},
   "outputs": [],
   "source": []
  },
  {
   "cell_type": "code",
   "execution_count": null,
   "metadata": {},
   "outputs": [],
   "source": []
  }
 ],
 "metadata": {
  "kernelspec": {
   "display_name": "Python 3",
   "language": "python",
   "name": "python3"
  },
  "language_info": {
   "codemirror_mode": {
    "name": "ipython",
    "version": 3
   },
   "file_extension": ".py",
   "mimetype": "text/x-python",
   "name": "python",
   "nbconvert_exporter": "python",
   "pygments_lexer": "ipython3",
   "version": "3.6.5"
  }
 },
 "nbformat": 4,
 "nbformat_minor": 2
}
