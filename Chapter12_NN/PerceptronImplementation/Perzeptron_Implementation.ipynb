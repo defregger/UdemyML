{
 "cells": [
  {
   "cell_type": "code",
   "execution_count": 3,
   "metadata": {},
   "outputs": [],
   "source": [
    "# Imports\n",
    "import numpy as np\n",
    "import pandas as pd\n",
    "import matplotlib.pyplot as plt\n",
    "import random\n",
    "\n",
    "# Sklearn Methoden\n",
    "from sklearn.metrics import confusion_matrix\n",
    "from sklearn.metrics import classification_report\n",
    "from sklearn.model_selection import train_test_split"
   ]
  },
  {
   "cell_type": "code",
   "execution_count": 4,
   "metadata": {},
   "outputs": [],
   "source": [
    "# Return own logical OR dataset\n",
    "def get_dataset():\n",
    "    data = np.array([[0, 0], [1, 0], [0, 1], [1, 1]])\n",
    "    target = np.array([0, 1, 1, 1])\n",
    "    return data, target"
   ]
  },
  {
   "cell_type": "markdown",
   "metadata": {},
   "source": [
    "#### Formeln für das Perzeptron: \n",
    "\n",
    "#### Aktivierungsfunktion:\n",
    "\n",
    "$\\phi(s) = \\begin{cases} 1, wenn \\ s > 0\\\\ 0, sonst \\end{cases}$\n",
    "\n",
    "##### Delta-Regel (Gewichte Update):\n",
    "\n",
    "$\\Delta w_i = \\lambda * (y_i - \\hat{y_i}) * x_i$  \n",
    "$w_i = w_i + \\Delta_{w_i}$"
   ]
  },
  {
   "cell_type": "code",
   "execution_count": 3,
   "metadata": {},
   "outputs": [],
   "source": [
    "class Perceptron():\n",
    "    def __init__(self, epochs, lr):\n",
    "        self.epochs = epochs\n",
    "        self.lr = lr\n",
    "        self.w = []\n",
    "        \n",
    "    def fit(self, x, y):\n",
    "        N, dim = x.shape\n",
    "        # Init model\n",
    "        self.w = np.array([np.random.uniform(-1, 1, (dim, 1))])\n",
    "        # Training\n",
    "        error = 0.0\n",
    "        for epoch in range(self.epochs):\n",
    "            choice = np.random.choice(N)\n",
    "            x_i = x[choice]\n",
    "            y_i = y[choice]\n",
    "            y_hat = self.predict(x_i)\n",
    "            # We made a misclassification\n",
    "            if y_hat != y_i:\n",
    "                error += abs(y_i - y_hat)\n",
    "                self.update_weights(x_i, y_i, y_hat)\n",
    "    \n",
    "    def activation(self, signal):\n",
    "        if signal > 0:\n",
    "            return 1\n",
    "        else:\n",
    "            return 0\n",
    "    \n",
    "    def update_weights(self, x, y, y_pred):\n",
    "        pass\n",
    "    \n",
    "    def score(self, x, y):\n",
    "        pass\n",
    "    \n",
    "    def predict(self, x):\n",
    "        input_signal = np.dot(self.w.T, x)\n",
    "        output_signal = self.activation(input_signal)\n",
    "        return output_signal\n",
    "        \n",
    "        "
   ]
  },
  {
   "cell_type": "code",
   "execution_count": 4,
   "metadata": {},
   "outputs": [],
   "source": [
    "lr = 1.0\n",
    "epochs = 10\n",
    "p = Perceptron(epochs=epochs, lr=lr)"
   ]
  }
 ],
 "metadata": {
  "kernelspec": {
   "display_name": "Python 3",
   "language": "python",
   "name": "python3"
  },
  "language_info": {
   "codemirror_mode": {
    "name": "ipython",
    "version": 3
   },
   "file_extension": ".py",
   "mimetype": "text/x-python",
   "name": "python",
   "nbconvert_exporter": "python",
   "pygments_lexer": "ipython3",
   "version": "3.6.5"
  }
 },
 "nbformat": 4,
 "nbformat_minor": 2
}
